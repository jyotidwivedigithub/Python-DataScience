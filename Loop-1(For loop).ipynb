{
 "cells": [
  {
   "cell_type": "code",
   "execution_count": 1,
   "id": "a82b3416-0810-492a-b366-e80a621327c9",
   "metadata": {},
   "outputs": [],
   "source": [
    "l=[2,5,4,6,7]"
   ]
  },
  {
   "cell_type": "code",
   "execution_count": 2,
   "id": "87dd8e6b-9d79-4b3d-b7df-971faedc0dc4",
   "metadata": {},
   "outputs": [
    {
     "name": "stdout",
     "output_type": "stream",
     "text": [
      "2 <class 'int'>\n",
      "5 <class 'int'>\n",
      "4 <class 'int'>\n",
      "6 <class 'int'>\n",
      "7 <class 'int'>\n"
     ]
    }
   ],
   "source": [
    "for i in l:\n",
    "    print(i,type(i))"
   ]
  },
  {
   "cell_type": "code",
   "execution_count": 3,
   "id": "491ec4d0-592c-4ecf-9564-267b52a2ef29",
   "metadata": {},
   "outputs": [],
   "source": [
    "l1=[\"subh\",\"kumar\",\"krish\",\"naik\"]"
   ]
  },
  {
   "cell_type": "code",
   "execution_count": 4,
   "id": "65083d24-7889-49e9-9405-e25f09d2d808",
   "metadata": {},
   "outputs": [
    {
     "name": "stdout",
     "output_type": "stream",
     "text": [
      "subh\n",
      "kumar\n",
      "krish\n",
      "naik\n"
     ]
    }
   ],
   "source": [
    "for i in l1:\n",
    "    print(i)"
   ]
  },
  {
   "cell_type": "code",
   "execution_count": 5,
   "id": "27ba1f92-9d29-4cc4-9e6d-a7b6aae4d2bc",
   "metadata": {},
   "outputs": [
    {
     "data": {
      "text/plain": [
       "['subh', 'kumar', 'krish', 'naik']"
      ]
     },
     "execution_count": 5,
     "metadata": {},
     "output_type": "execute_result"
    }
   ],
   "source": [
    "l1"
   ]
  },
  {
   "cell_type": "code",
   "execution_count": 8,
   "id": "c11a49a0-50f9-4046-b7bc-8cbd3257bd27",
   "metadata": {},
   "outputs": [
    {
     "name": "stdout",
     "output_type": "stream",
     "text": [
      "subh\n",
      "kumar\n",
      "krish\n",
      "naik\n",
      "if for loop is able to complete itself then only else will execute\n"
     ]
    }
   ],
   "source": [
    "for i in l1:\n",
    "    print(i)\n",
    "else:\n",
    "    print(\"if for loop is able to complete itself then only else will execute\")"
   ]
  },
  {
   "cell_type": "code",
   "execution_count": 9,
   "id": "7c35b7ea-7784-4399-83ed-56a2d02b0576",
   "metadata": {},
   "outputs": [
    {
     "data": {
      "text/plain": [
       "['subh', 'kumar', 'krish', 'naik']"
      ]
     },
     "execution_count": 9,
     "metadata": {},
     "output_type": "execute_result"
    }
   ],
   "source": [
    "l1"
   ]
  },
  {
   "cell_type": "code",
   "execution_count": 14,
   "id": "b5232be2-5c0d-49ea-8355-9454170306c9",
   "metadata": {},
   "outputs": [
    {
     "name": "stdout",
     "output_type": "stream",
     "text": [
      "subh\n",
      "kumar\n",
      "krish\n",
      "naik\n"
     ]
    }
   ],
   "source": [
    "for i in l1:\n",
    "    if i == \"Krish\":\n",
    "        break\n",
    "    print(i)"
   ]
  },
  {
   "cell_type": "code",
   "execution_count": 16,
   "id": "7afe2951-d9b1-4472-a514-a1c87980ea0c",
   "metadata": {},
   "outputs": [
    {
     "name": "stdout",
     "output_type": "stream",
     "text": [
      "subh\n",
      "kumar\n"
     ]
    }
   ],
   "source": [
    "for i in l1:\n",
    "    if i == \"krish\":\n",
    "        break\n",
    "    print(i)\n",
    "else:\n",
    "    print(\"Execute this if for loop is able to complete itself\")"
   ]
  },
  {
   "cell_type": "code",
   "execution_count": 17,
   "id": "63d18416-fc5e-48dc-95f3-9d6a35caabc1",
   "metadata": {},
   "outputs": [
    {
     "data": {
      "text/plain": [
       "['subh', 'kumar', 'krish', 'naik']"
      ]
     },
     "execution_count": 17,
     "metadata": {},
     "output_type": "execute_result"
    }
   ],
   "source": [
    "l1"
   ]
  },
  {
   "cell_type": "code",
   "execution_count": 18,
   "id": "cbb55cce-24c1-4d2a-b0f5-0492f2bfc1aa",
   "metadata": {},
   "outputs": [
    {
     "name": "stdout",
     "output_type": "stream",
     "text": [
      "subh\n",
      "kumar\n",
      "naik\n"
     ]
    }
   ],
   "source": [
    "for i in l1:\n",
    "    if i == \"krish\":\n",
    "        continue\n",
    "    print(i)"
   ]
  },
  {
   "cell_type": "code",
   "execution_count": 19,
   "id": "cc89ebb1-e715-4948-bcb2-61577a7e61a1",
   "metadata": {},
   "outputs": [
    {
     "data": {
      "text/plain": [
       "['subh', 'kumar', 'krish', 'naik']"
      ]
     },
     "execution_count": 19,
     "metadata": {},
     "output_type": "execute_result"
    }
   ],
   "source": [
    "l1"
   ]
  },
  {
   "cell_type": "code",
   "execution_count": 21,
   "id": "71863a8c-c1c2-4fdb-993a-c69aed75eef5",
   "metadata": {},
   "outputs": [
    {
     "name": "stdout",
     "output_type": "stream",
     "text": [
      "subh\n",
      "kumar\n",
      "naik\n",
      "Execute this if for loop is able to complete itself\n"
     ]
    }
   ],
   "source": [
    "for i in l1:\n",
    "    if i == \"krish\":\n",
    "        continue\n",
    "    print(i)\n",
    "else:\n",
    "    print(\"Execute this if for loop is able to complete itself\")"
   ]
  },
  {
   "cell_type": "code",
   "execution_count": 22,
   "id": "cce06944-38e5-4878-a898-7645996e7b8e",
   "metadata": {},
   "outputs": [
    {
     "data": {
      "text/plain": [
       "range(0, 5)"
      ]
     },
     "execution_count": 22,
     "metadata": {},
     "output_type": "execute_result"
    }
   ],
   "source": [
    "range(5)"
   ]
  },
  {
   "cell_type": "code",
   "execution_count": 23,
   "id": "81aaff70-9c7f-4a4a-a732-c5188744212b",
   "metadata": {},
   "outputs": [
    {
     "data": {
      "text/plain": [
       "[0, 1, 2, 3, 4]"
      ]
     },
     "execution_count": 23,
     "metadata": {},
     "output_type": "execute_result"
    }
   ],
   "source": [
    "list(range(5))"
   ]
  },
  {
   "cell_type": "code",
   "execution_count": 24,
   "id": "01408e3d-810b-4830-9b3e-0bfaa4fa3d03",
   "metadata": {},
   "outputs": [
    {
     "data": {
      "text/plain": [
       "[0, 1, 2, 3, 4]"
      ]
     },
     "execution_count": 24,
     "metadata": {},
     "output_type": "execute_result"
    }
   ],
   "source": [
    "list(range(0,5,1))"
   ]
  },
  {
   "cell_type": "code",
   "execution_count": 25,
   "id": "3f1ce7e5-9454-4fa7-b6c0-4fc81f97c7b3",
   "metadata": {},
   "outputs": [
    {
     "data": {
      "text/plain": [
       "[0, 2, 4, 6, 8, 10, 12, 14, 16, 18]"
      ]
     },
     "execution_count": 25,
     "metadata": {},
     "output_type": "execute_result"
    }
   ],
   "source": [
    "list(range(0,20,2))"
   ]
  },
  {
   "cell_type": "code",
   "execution_count": 26,
   "id": "951c7513-aec6-4c0e-9b17-ab3f4aedd0a2",
   "metadata": {},
   "outputs": [
    {
     "data": {
      "text/plain": [
       "[-10, -9, -8, -7, -6, -5, -4, -3, -2, -1]"
      ]
     },
     "execution_count": 26,
     "metadata": {},
     "output_type": "execute_result"
    }
   ],
   "source": [
    "list(range(-10,0))"
   ]
  },
  {
   "cell_type": "code",
   "execution_count": 27,
   "id": "94b7d140-b937-49ae-bbfd-e4af6fa06cf4",
   "metadata": {},
   "outputs": [
    {
     "data": {
      "text/plain": [
       "['subh', 'kumar', 'krish', 'naik']"
      ]
     },
     "execution_count": 27,
     "metadata": {},
     "output_type": "execute_result"
    }
   ],
   "source": [
    "l1"
   ]
  },
  {
   "cell_type": "code",
   "execution_count": 28,
   "id": "99dccc59-5e10-42af-b2a1-e0c6c2299510",
   "metadata": {},
   "outputs": [
    {
     "data": {
      "text/plain": [
       "4"
      ]
     },
     "execution_count": 28,
     "metadata": {},
     "output_type": "execute_result"
    }
   ],
   "source": [
    "# list in reverse order\n",
    "len(l1)"
   ]
  },
  {
   "cell_type": "code",
   "execution_count": 29,
   "id": "2defa9d4-2a30-416d-97cc-178d2b839dc7",
   "metadata": {},
   "outputs": [
    {
     "data": {
      "text/plain": [
       "[0, 1, 2, 3]"
      ]
     },
     "execution_count": 29,
     "metadata": {},
     "output_type": "execute_result"
    }
   ],
   "source": [
    "list(range(len(l1)))"
   ]
  },
  {
   "cell_type": "code",
   "execution_count": 31,
   "id": "8753c61d-1767-4477-963d-da7bafeded42",
   "metadata": {},
   "outputs": [
    {
     "name": "stdout",
     "output_type": "stream",
     "text": [
      "subh\n",
      "kumar\n",
      "krish\n",
      "naik\n"
     ]
    }
   ],
   "source": [
    "for i in range(len(l1)):\n",
    "    print(l1[i])"
   ]
  },
  {
   "cell_type": "code",
   "execution_count": 37,
   "id": "679181ed-8264-44ad-9130-b2cb3f10a03a",
   "metadata": {},
   "outputs": [
    {
     "name": "stdout",
     "output_type": "stream",
     "text": [
      "kumar\n",
      "kumar\n",
      "kumar\n",
      "kumar\n"
     ]
    }
   ],
   "source": [
    "for i in range(len(l1)):\n",
    "    print(l1[1])"
   ]
  },
  {
   "cell_type": "code",
   "execution_count": 40,
   "id": "972d5da7-7084-4fbb-86b4-20114ad0f9db",
   "metadata": {},
   "outputs": [
    {
     "data": {
      "text/plain": [
       "[4, 3, 2, 1]"
      ]
     },
     "execution_count": 40,
     "metadata": {},
     "output_type": "execute_result"
    }
   ],
   "source": [
    "list(range(len(l1),0,-1))"
   ]
  },
  {
   "cell_type": "code",
   "execution_count": 46,
   "id": "51e65bbe-08ee-4507-b9e8-5da3c32a18be",
   "metadata": {},
   "outputs": [
    {
     "data": {
      "text/plain": [
       "[3, 2, 1, 0]"
      ]
     },
     "execution_count": 46,
     "metadata": {},
     "output_type": "execute_result"
    }
   ],
   "source": [
    "list(range(len(l1)-1,-1,-1))"
   ]
  },
  {
   "cell_type": "code",
   "execution_count": 49,
   "id": "713bf315-b296-410a-85b8-09a6cefd0c7f",
   "metadata": {},
   "outputs": [
    {
     "name": "stdout",
     "output_type": "stream",
     "text": [
      "naik\n",
      "krish\n",
      "kumar\n",
      "subh\n"
     ]
    }
   ],
   "source": [
    "#data in reverse order\n",
    "for i in range(len(l1)-1,-1,-1):\n",
    "    print(l1[i])"
   ]
  },
  {
   "cell_type": "code",
   "execution_count": 52,
   "id": "3a58b69f-3f3e-4140-b8e4-2ea2142e1935",
   "metadata": {},
   "outputs": [
    {
     "name": "stdout",
     "output_type": "stream",
     "text": [
      "naik\n",
      "krish\n",
      "kumar\n",
      "subh\n"
     ]
    }
   ],
   "source": [
    "# OR       but its not possible all the time\n",
    "for i in [3,2,1,0]:\n",
    "    print(l1[i])"
   ]
  },
  {
   "cell_type": "code",
   "execution_count": 53,
   "id": "5a8becc8-26f9-4bd0-86d4-67acb96d55bd",
   "metadata": {},
   "outputs": [],
   "source": [
    "l2=[23,45,6,45,23,82,17,45]"
   ]
  },
  {
   "cell_type": "code",
   "execution_count": 58,
   "id": "5df2d2ba-c858-49f0-ab9b-a7de409fa872",
   "metadata": {},
   "outputs": [
    {
     "data": {
      "text/plain": [
       "[0, 2, 4, 6]"
      ]
     },
     "execution_count": 58,
     "metadata": {},
     "output_type": "execute_result"
    }
   ],
   "source": [
    "# get even index data\n",
    "list(range(0,len(l2) , 2))"
   ]
  },
  {
   "cell_type": "code",
   "execution_count": 59,
   "id": "62bd0883-6efc-4e5c-82cc-5d9eec60ba22",
   "metadata": {},
   "outputs": [
    {
     "name": "stdout",
     "output_type": "stream",
     "text": [
      "23\n",
      "6\n",
      "23\n",
      "17\n"
     ]
    }
   ],
   "source": [
    "for i in range(0,len(l2),2):\n",
    "    print(l2[i])"
   ]
  },
  {
   "cell_type": "code",
   "execution_count": 60,
   "id": "ed70dfa8-9b63-4042-8183-a20d08eac597",
   "metadata": {},
   "outputs": [
    {
     "data": {
      "text/plain": [
       "23"
      ]
     },
     "execution_count": 60,
     "metadata": {},
     "output_type": "execute_result"
    }
   ],
   "source": [
    "l2[0]"
   ]
  },
  {
   "cell_type": "code",
   "execution_count": 61,
   "id": "b61e0832-1035-4746-aea3-fbf186627427",
   "metadata": {},
   "outputs": [],
   "source": [
    "l=[3,6,7,8,4,5,9]"
   ]
  },
  {
   "cell_type": "code",
   "execution_count": 63,
   "id": "1a1ca39f-4e07-4949-9998-4c91afba8ad0",
   "metadata": {},
   "outputs": [
    {
     "data": {
      "text/plain": [
       "42"
      ]
     },
     "execution_count": 63,
     "metadata": {},
     "output_type": "execute_result"
    }
   ],
   "source": [
    "# summation of l\n",
    "sum(l)"
   ]
  },
  {
   "cell_type": "code",
   "execution_count": 74,
   "id": "c19c5d4b-8d3a-4ea9-8890-13b2e7e25daa",
   "metadata": {},
   "outputs": [
    {
     "data": {
      "text/plain": [
       "42"
      ]
     },
     "execution_count": 74,
     "metadata": {},
     "output_type": "execute_result"
    }
   ],
   "source": [
    "# OR\n",
    "result= 0\n",
    "for i in l :\n",
    "    result = result+ i\n",
    "result"
   ]
  },
  {
   "cell_type": "code",
   "execution_count": 83,
   "id": "88f39791-ece3-4d0f-83af-6c43624a24de",
   "metadata": {},
   "outputs": [],
   "source": [
    "# Tupple\n",
    "t=(1,2,4,6,7)"
   ]
  },
  {
   "cell_type": "code",
   "execution_count": 68,
   "id": "5cab9a35-8ac8-4a77-b60f-598420809598",
   "metadata": {},
   "outputs": [
    {
     "name": "stdout",
     "output_type": "stream",
     "text": [
      "1\n",
      "2\n",
      "4\n",
      "6\n",
      "7\n"
     ]
    }
   ],
   "source": [
    "for i in t:\n",
    "    print(i)"
   ]
  },
  {
   "cell_type": "code",
   "execution_count": 77,
   "id": "9a2c5979-f8ba-4fbf-86d8-33fce086dc45",
   "metadata": {},
   "outputs": [
    {
     "data": {
      "text/plain": [
       "20"
      ]
     },
     "execution_count": 77,
     "metadata": {},
     "output_type": "execute_result"
    }
   ],
   "source": [
    "result = 0\n",
    "for i in t :\n",
    "    result = result+ i\n",
    "result"
   ]
  },
  {
   "cell_type": "code",
   "execution_count": 84,
   "id": "bb814ae2-cfe5-452b-b76d-e49a612fbd71",
   "metadata": {},
   "outputs": [],
   "source": [
    "# Dictionary\n",
    "s = {1,2,4,5,\"subh\",\"look\"}"
   ]
  },
  {
   "cell_type": "code",
   "execution_count": 82,
   "id": "6e06c85b-e2d1-4732-8181-c3b5a12aafda",
   "metadata": {},
   "outputs": [
    {
     "name": "stdout",
     "output_type": "stream",
     "text": [
      "look\n",
      "1\n",
      "2\n",
      "4\n",
      "5\n",
      "subh\n"
     ]
    }
   ],
   "source": [
    "for i in s :\n",
    "    print(i)"
   ]
  },
  {
   "cell_type": "code",
   "execution_count": 85,
   "id": "e4c6f3c1-7a4d-4455-ac6b-005a0b5ab556",
   "metadata": {},
   "outputs": [],
   "source": [
    "# String\n",
    "s1 = \"pwskills\""
   ]
  },
  {
   "cell_type": "code",
   "execution_count": 86,
   "id": "e455a96d-f35c-41ed-b3c7-70b9b70c68c9",
   "metadata": {},
   "outputs": [
    {
     "name": "stdout",
     "output_type": "stream",
     "text": [
      "p\n",
      "w\n",
      "s\n",
      "k\n",
      "i\n",
      "l\n",
      "l\n",
      "s\n"
     ]
    }
   ],
   "source": [
    "for i in s1:\n",
    "    print(i)"
   ]
  },
  {
   "cell_type": "code",
   "execution_count": 87,
   "id": "690cee36-4fcc-4c11-86a6-f877f44ffc8f",
   "metadata": {},
   "outputs": [],
   "source": [
    "# DICT\n",
    "d={\"name\":\"subh\",\"class\":\"data-science\",\"topic\":[\"python\",\"mysql\",\"machine learning\"]}"
   ]
  },
  {
   "cell_type": "code",
   "execution_count": 88,
   "id": "fa85e58a-aa1d-47eb-bcee-3051a7793ca9",
   "metadata": {},
   "outputs": [
    {
     "data": {
      "text/plain": [
       "{'name': 'subh',\n",
       " 'class': 'data-science',\n",
       " 'topic': ['python', 'mysql', 'machine learning']}"
      ]
     },
     "execution_count": 88,
     "metadata": {},
     "output_type": "execute_result"
    }
   ],
   "source": [
    "d"
   ]
  },
  {
   "cell_type": "code",
   "execution_count": 89,
   "id": "446e6b16-d4cd-4cf9-a78f-7d4e8d5b3673",
   "metadata": {},
   "outputs": [
    {
     "data": {
      "text/plain": [
       "'subh'"
      ]
     },
     "execution_count": 89,
     "metadata": {},
     "output_type": "execute_result"
    }
   ],
   "source": [
    "d[\"name\"]"
   ]
  },
  {
   "cell_type": "code",
   "execution_count": 90,
   "id": "39f17a01-e38d-4262-9708-d551f7d93200",
   "metadata": {},
   "outputs": [
    {
     "data": {
      "text/plain": [
       "dict_keys(['name', 'class', 'topic'])"
      ]
     },
     "execution_count": 90,
     "metadata": {},
     "output_type": "execute_result"
    }
   ],
   "source": [
    "d.keys()"
   ]
  },
  {
   "cell_type": "code",
   "execution_count": 91,
   "id": "371ef10f-731a-4391-a4ba-d5d518dfa5e9",
   "metadata": {},
   "outputs": [
    {
     "name": "stdout",
     "output_type": "stream",
     "text": [
      "subh\n",
      "data-science\n",
      "['python', 'mysql', 'machine learning']\n"
     ]
    }
   ],
   "source": [
    "for i in d.keys():\n",
    "    print(d[i])"
   ]
  },
  {
   "cell_type": "code",
   "execution_count": 92,
   "id": "eb8f0039-167e-4dea-8fc8-49f06bf17b23",
   "metadata": {},
   "outputs": [
    {
     "data": {
      "text/plain": [
       "dict_values(['subh', 'data-science', ['python', 'mysql', 'machine learning']])"
      ]
     },
     "execution_count": 92,
     "metadata": {},
     "output_type": "execute_result"
    }
   ],
   "source": [
    "d.values()"
   ]
  },
  {
   "cell_type": "code",
   "execution_count": 94,
   "id": "5488da39-e243-4ccf-bbaf-c9970e49387a",
   "metadata": {},
   "outputs": [
    {
     "name": "stdout",
     "output_type": "stream",
     "text": [
      "subh\n",
      "data-science\n",
      "['python', 'mysql', 'machine learning']\n"
     ]
    }
   ],
   "source": [
    "for i in d.values():\n",
    "    print(i)"
   ]
  },
  {
   "cell_type": "code",
   "execution_count": 95,
   "id": "2eb8f525-5c5e-484c-b88d-604ef75553be",
   "metadata": {},
   "outputs": [
    {
     "data": {
      "text/plain": [
       "dict_items([('name', 'subh'), ('class', 'data-science'), ('topic', ['python', 'mysql', 'machine learning'])])"
      ]
     },
     "execution_count": 95,
     "metadata": {},
     "output_type": "execute_result"
    }
   ],
   "source": [
    "d.items()"
   ]
  },
  {
   "cell_type": "code",
   "execution_count": 96,
   "id": "a14acb98-863b-4d90-967f-72f1a370764c",
   "metadata": {},
   "outputs": [
    {
     "name": "stdout",
     "output_type": "stream",
     "text": [
      "('name', 'subh')\n",
      "('class', 'data-science')\n",
      "('topic', ['python', 'mysql', 'machine learning'])\n"
     ]
    }
   ],
   "source": [
    "for i in d.items():\n",
    "    print(i)"
   ]
  },
  {
   "cell_type": "code",
   "execution_count": 8,
   "id": "7fc33afe-5b88-478e-ae6e-b9d6946dc81b",
   "metadata": {},
   "outputs": [
    {
     "name": "stdout",
     "output_type": "stream",
     "text": [
      "0\n",
      "1\n",
      "8\n",
      "27\n",
      "64\n",
      "125\n",
      "216\n",
      "343\n",
      "512\n",
      "729\n"
     ]
    }
   ],
   "source": [
    "for i in range(10):\n",
    "    print(i**3)"
   ]
  },
  {
   "cell_type": "code",
   "execution_count": 1,
   "id": "e4c9ad97-4a00-47f5-9b96-a7b3685cdcb6",
   "metadata": {},
   "outputs": [
    {
     "name": "stdout",
     "output_type": "stream",
     "text": [
      "45\n"
     ]
    }
   ],
   "source": [
    "n=range(10)\n",
    "sum = 0\n",
    "for i in (n):\n",
    "    sum = sum +i\n",
    "print(sum)"
   ]
  },
  {
   "cell_type": "code",
   "execution_count": null,
   "id": "7dc655c5-c7f3-42fb-9dca-9a15b3587d82",
   "metadata": {},
   "outputs": [],
   "source": [
    "        "
   ]
  },
  {
   "cell_type": "code",
   "execution_count": null,
   "id": "07670889-9889-44b7-a016-4db92e433296",
   "metadata": {},
   "outputs": [],
   "source": []
  },
  {
   "cell_type": "code",
   "execution_count": null,
   "id": "9267727c-0671-4294-a410-ccf33b83c869",
   "metadata": {},
   "outputs": [],
   "source": []
  }
 ],
 "metadata": {
  "kernelspec": {
   "display_name": "Python 3 (ipykernel)",
   "language": "python",
   "name": "python3"
  },
  "language_info": {
   "codemirror_mode": {
    "name": "ipython",
    "version": 3
   },
   "file_extension": ".py",
   "mimetype": "text/x-python",
   "name": "python",
   "nbconvert_exporter": "python",
   "pygments_lexer": "ipython3",
   "version": "3.10.8"
  }
 },
 "nbformat": 4,
 "nbformat_minor": 5
}
