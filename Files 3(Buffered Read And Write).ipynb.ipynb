{
 "cells": [
  {
   "cell_type": "code",
   "execution_count": 4,
   "id": "25b02493-2fe1-44b6-b665-52717a8cd929",
   "metadata": {},
   "outputs": [],
   "source": [
    "# Buffered Read and Write File"
   ]
  },
  {
   "cell_type": "code",
   "execution_count": 5,
   "id": "81286b89-0105-499e-9535-9776ecae6fbe",
   "metadata": {},
   "outputs": [],
   "source": [
    "import io"
   ]
  },
  {
   "cell_type": "code",
   "execution_count": 8,
   "id": "66a22da6-ccaf-423c-9b5e-b13fe3c7b335",
   "metadata": {},
   "outputs": [],
   "source": [
    "with open(\"test1.txt\" , \"wb\") as f:           # Bufferd Write\n",
    "    file = io.BufferedWriter(f)\n",
    "    \n",
    "    file.write(b\"this is my first line\\n\")\n",
    "    file.write(b\"this is my second line\\n\")\n",
    "    file.flush()\n",
    "               "
   ]
  },
  {
   "cell_type": "code",
   "execution_count": 9,
   "id": "2c67cbc7-f4bc-441a-897f-35df4e1ebc89",
   "metadata": {},
   "outputs": [
    {
     "name": "stdout",
     "output_type": "stream",
     "text": [
      "b'this is my first line\\nthis is my second line\\n'\n"
     ]
    }
   ],
   "source": [
    "with open(\"test1.txt\" , \"rb\") as f :          # Buffered Read\n",
    "        file = io.BufferedReader(f)\n",
    "        data = file.read()\n",
    "        print(data)"
   ]
  },
  {
   "cell_type": "code",
   "execution_count": 18,
   "id": "d122d2cb-eee8-4492-bfe9-bd91ad2bafe8",
   "metadata": {},
   "outputs": [
    {
     "name": "stdout",
     "output_type": "stream",
     "text": [
      "b'this is my first line\\nthis is my second line\\n'\n"
     ]
    }
   ],
   "source": [
    "with open(\"test1.txt\" , \"rb\") as f :          # Buffered Read\n",
    "        file = io.BufferedReader(f)\n",
    "        data = file.read(100)                 # 10/100/... is binary digit\n",
    "        print(data)                           # size can be manipulated"
   ]
  },
  {
   "cell_type": "code",
   "execution_count": null,
   "id": "e8cb5af5-0bc9-423c-a3d5-320f4f088638",
   "metadata": {},
   "outputs": [],
   "source": []
  },
  {
   "cell_type": "code",
   "execution_count": null,
   "id": "1cfe6377-c23e-4dc0-9b3f-fc6148509645",
   "metadata": {},
   "outputs": [],
   "source": []
  }
 ],
 "metadata": {
  "kernelspec": {
   "display_name": "Python 3 (ipykernel)",
   "language": "python",
   "name": "python3"
  },
  "language_info": {
   "codemirror_mode": {
    "name": "ipython",
    "version": 3
   },
   "file_extension": ".py",
   "mimetype": "text/x-python",
   "name": "python",
   "nbconvert_exporter": "python",
   "pygments_lexer": "ipython3",
   "version": "3.10.8"
  }
 },
 "nbformat": 4,
 "nbformat_minor": 5
}
