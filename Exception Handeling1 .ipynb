{
 "cells": [
  {
   "cell_type": "code",
   "execution_count": null,
   "id": "92bc53cd-f94c-4573-b4e5-fb10d256c19b",
   "metadata": {},
   "outputs": [],
   "source": [
    "# Exception Handling ...we use 4-blocks\n",
    "#   1.Try  2.Except  3.Else  4.Finally"
   ]
  },
  {
   "cell_type": "code",
   "execution_count": 2,
   "id": "c46f51d1-7048-4cf2-ab4d-2959d3d01c7a",
   "metadata": {},
   "outputs": [],
   "source": [
    "a = 10"
   ]
  },
  {
   "cell_type": "code",
   "execution_count": 1,
   "id": "9c100a84-25c5-4a9c-8013-77dcd38dd6b5",
   "metadata": {},
   "outputs": [
    {
     "ename": "NameError",
     "evalue": "name 'a' is not defined",
     "output_type": "error",
     "traceback": [
      "\u001b[0;31m---------------------------------------------------------------------------\u001b[0m",
      "\u001b[0;31mNameError\u001b[0m                                 Traceback (most recent call last)",
      "Cell \u001b[0;32mIn[1], line 1\u001b[0m\n\u001b[0;32m----> 1\u001b[0m \u001b[43ma\u001b[49m\u001b[38;5;241m/\u001b[39m\u001b[38;5;241m0\u001b[39m\n",
      "\u001b[0;31mNameError\u001b[0m: name 'a' is not defined"
     ]
    }
   ],
   "source": [
    "a/0"
   ]
  },
  {
   "cell_type": "code",
   "execution_count": 2,
   "id": "3d35845f-5eaa-446b-9ab3-5b141b67a067",
   "metadata": {},
   "outputs": [
    {
     "name": "stdout",
     "output_type": "stream",
     "text": [
      "this is my print\n"
     ]
    }
   ],
   "source": [
    "f = open(\"test.txt\" , \"r\")\n",
    "print(\"this is my print\")"
   ]
  },
  {
   "cell_type": "code",
   "execution_count": 2,
   "id": "3438dbe0-32a8-40a6-a6c3-db6d1c0a9886",
   "metadata": {},
   "outputs": [],
   "source": [
    "# Using TRY BLOCK with EXCEPT BLOCK\n",
    "try :\n",
    "    f = open(\"test.txt\" , \"r\")\n",
    "except Exception as e :                # Exception is super class of error handeling\n",
    "    print(\"this is my print\" , e)"
   ]
  },
  {
   "cell_type": "code",
   "execution_count": 4,
   "id": "b9d65b41-fa04-4bfe-8459-9345b9ec2fab",
   "metadata": {},
   "outputs": [
    {
     "name": "stdout",
     "output_type": "stream",
     "text": [
      "this is my print not writable\n"
     ]
    }
   ],
   "source": [
    "try :\n",
    "    f = open(\"test.txt\" , \"r\")\n",
    "    f.write(\"write into my file\" )\n",
    "    f.close()\n",
    "except Exception as e :               \n",
    "    print(\"this is my print\" , e)"
   ]
  },
  {
   "cell_type": "code",
   "execution_count": 10,
   "id": "089c9899-8c95-4c6e-b764-56d9d309d199",
   "metadata": {},
   "outputs": [
    {
     "name": "stdout",
     "output_type": "stream",
     "text": [
      "this is my print not writable\n"
     ]
    }
   ],
   "source": [
    "# Using ELSE BLOCK\n",
    "try :\n",
    "    f = open(\"test.txt\" , \"r\")\n",
    "    f.write(\"write into my file\" )\n",
    "except Exception as e :               \n",
    "    print(\"this is my print\" , e)\n",
    "else :\n",
    "    f.close()\n",
    "    print(\"this will be executed once your try will execute without error\")"
   ]
  },
  {
   "cell_type": "code",
   "execution_count": 15,
   "id": "0ab0a334-a450-470b-b6c2-b8f2b69d9fe9",
   "metadata": {},
   "outputs": [
    {
     "name": "stdout",
     "output_type": "stream",
     "text": [
      "finally will execute itself in any situation\n"
     ]
    }
   ],
   "source": [
    "# Using Finally Block\n",
    "try :\n",
    "    f = open(\"test.txt\" , \"w\")\n",
    "    f.write(\"write into my file\" )\n",
    "finally :\n",
    "    print(\"finally will execute itself in any situation\" )  "
   ]
  },
  {
   "cell_type": "code",
   "execution_count": 17,
   "id": "f52f99ab-296f-4c13-8518-44eb963ba7d1",
   "metadata": {},
   "outputs": [
    {
     "name": "stdout",
     "output_type": "stream",
     "text": [
      "finally will execute itself in any situation\n"
     ]
    },
    {
     "ename": "UnsupportedOperation",
     "evalue": "not writable",
     "output_type": "error",
     "traceback": [
      "\u001b[0;31m---------------------------------------------------------------------------\u001b[0m",
      "\u001b[0;31mUnsupportedOperation\u001b[0m                      Traceback (most recent call last)",
      "Cell \u001b[0;32mIn[17], line 3\u001b[0m\n\u001b[1;32m      1\u001b[0m \u001b[38;5;28;01mtry\u001b[39;00m :\n\u001b[1;32m      2\u001b[0m     f \u001b[38;5;241m=\u001b[39m \u001b[38;5;28mopen\u001b[39m(\u001b[38;5;124m\"\u001b[39m\u001b[38;5;124mtest.txt\u001b[39m\u001b[38;5;124m\"\u001b[39m , \u001b[38;5;124m\"\u001b[39m\u001b[38;5;124mr\u001b[39m\u001b[38;5;124m\"\u001b[39m)\n\u001b[0;32m----> 3\u001b[0m     \u001b[43mf\u001b[49m\u001b[38;5;241;43m.\u001b[39;49m\u001b[43mwrite\u001b[49m\u001b[43m(\u001b[49m\u001b[38;5;124;43m\"\u001b[39;49m\u001b[38;5;124;43mwrite into my file\u001b[39;49m\u001b[38;5;124;43m\"\u001b[39;49m\u001b[43m \u001b[49m\u001b[43m)\u001b[49m\n\u001b[1;32m      4\u001b[0m \u001b[38;5;28;01mfinally\u001b[39;00m :\n\u001b[1;32m      5\u001b[0m     \u001b[38;5;28mprint\u001b[39m(\u001b[38;5;124m\"\u001b[39m\u001b[38;5;124mfinally will execute itself in any situation\u001b[39m\u001b[38;5;124m\"\u001b[39m )\n",
      "\u001b[0;31mUnsupportedOperation\u001b[0m: not writable"
     ]
    }
   ],
   "source": [
    "try :\n",
    "    f = open(\"test.txt\" , \"r\")\n",
    "    f.write(\"write into my file\" )\n",
    "finally :\n",
    "    print(\"finally will execute itself in any situation\" )\n",
    "    \n",
    "    \n",
    "# for handeling this error we use except block"
   ]
  },
  {
   "cell_type": "code",
   "execution_count": null,
   "id": "c57dca57-f41e-4fbe-a11b-6ee387936d66",
   "metadata": {},
   "outputs": [],
   "source": []
  }
 ],
 "metadata": {
  "kernelspec": {
   "display_name": "Python 3 (ipykernel)",
   "language": "python",
   "name": "python3"
  },
  "language_info": {
   "codemirror_mode": {
    "name": "ipython",
    "version": 3
   },
   "file_extension": ".py",
   "mimetype": "text/x-python",
   "name": "python",
   "nbconvert_exporter": "python",
   "pygments_lexer": "ipython3",
   "version": "3.10.8"
  }
 },
 "nbformat": 4,
 "nbformat_minor": 5
}
