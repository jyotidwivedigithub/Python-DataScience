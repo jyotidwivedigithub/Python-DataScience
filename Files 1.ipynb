{
 "cells": [
  {
   "cell_type": "code",
   "execution_count": 3,
   "id": "29523be5-3676-4e64-9c3c-2da428041905",
   "metadata": {},
   "outputs": [
    {
     "name": "stdout",
     "output_type": "stream",
     "text": [
      "<built-in method write of _io.TextIOWrapper object at 0x7f3a9c3285f0>\n"
     ]
    }
   ],
   "source": [
    "# Write a file\n",
    "f = open(\"test.txt\", 'w')\n",
    "print(f.write)"
   ]
  },
  {
   "cell_type": "code",
   "execution_count": 49,
   "id": "00b50ecc-7dc8-4bf6-af3f-f54547db600e",
   "metadata": {},
   "outputs": [
    {
     "data": {
      "text/plain": [
       "30"
      ]
     },
     "execution_count": 49,
     "metadata": {},
     "output_type": "execute_result"
    }
   ],
   "source": [
    "f.write(\"this is my first file to write\")"
   ]
  },
  {
   "cell_type": "code",
   "execution_count": 50,
   "id": "a86b8e49-f046-49de-b0e4-73dc8630daa4",
   "metadata": {},
   "outputs": [
    {
     "data": {
      "text/plain": [
       "<function TextIOWrapper.close()>"
      ]
     },
     "execution_count": 50,
     "metadata": {},
     "output_type": "execute_result"
    }
   ],
   "source": [
    "f.close"
   ]
  },
  {
   "cell_type": "code",
   "execution_count": 51,
   "id": "616c6854-18c1-4a69-9ffb-ffcd989b29b3",
   "metadata": {},
   "outputs": [],
   "source": [
    "f = open(\"test.txt\", 'w')"
   ]
  },
  {
   "cell_type": "code",
   "execution_count": 52,
   "id": "e60260ed-3707-47f3-8197-e59b77b38741",
   "metadata": {},
   "outputs": [
    {
     "data": {
      "text/plain": [
       "15"
      ]
     },
     "execution_count": 52,
     "metadata": {},
     "output_type": "execute_result"
    }
   ],
   "source": [
    "f.write(\"this is my file\")"
   ]
  },
  {
   "cell_type": "code",
   "execution_count": 53,
   "id": "c9ca8975-5a8c-43bb-b014-d13547b9e137",
   "metadata": {},
   "outputs": [],
   "source": [
    "f = open(\"test.txt\", 'w')"
   ]
  },
  {
   "cell_type": "code",
   "execution_count": 54,
   "id": "5be0770a-9ec0-4f77-ac9f-32d693c1cfb2",
   "metadata": {},
   "outputs": [
    {
     "data": {
      "text/plain": [
       "85"
      ]
     },
     "execution_count": 54,
     "metadata": {},
     "output_type": "execute_result"
    }
   ],
   "source": [
    "f.write(\"Data science course is highly ceated and designed according to latest industry demand\")"
   ]
  },
  {
   "cell_type": "code",
   "execution_count": 55,
   "id": "7dbd7fba-c769-432d-9ee7-a178d033bdf2",
   "metadata": {},
   "outputs": [
    {
     "data": {
      "text/plain": [
       "<function TextIOWrapper.close()>"
      ]
     },
     "execution_count": 55,
     "metadata": {},
     "output_type": "execute_result"
    }
   ],
   "source": [
    "f.close"
   ]
  },
  {
   "cell_type": "code",
   "execution_count": null,
   "id": "8754f28b-1b68-4294-9ef3-2b70ef582abf",
   "metadata": {},
   "outputs": [],
   "source": [
    "# Read\n",
    "data = open(\"text.txt\",'r')"
   ]
  },
  {
   "cell_type": "code",
   "execution_count": null,
   "id": "cda9c8b2-2b92-404f-a150-fa85208350d1",
   "metadata": {},
   "outputs": [],
   "source": [
    "print(data.read)"
   ]
  },
  {
   "cell_type": "code",
   "execution_count": null,
   "id": "c3bd8902-e942-4692-8e05-5fbbe678a744",
   "metadata": {},
   "outputs": [],
   "source": [
    "print(data.raadline())"
   ]
  },
  {
   "cell_type": "code",
   "execution_count": null,
   "id": "7117aadf-e861-42ac-9d28-e1a145fb6c86",
   "metadata": {},
   "outputs": [],
   "source": [
    "print(data.seek(0))"
   ]
  },
  {
   "cell_type": "code",
   "execution_count": null,
   "id": "5f7c298c-c586-46bd-85ab-6369bfcb9fad",
   "metadata": {},
   "outputs": [],
   "source": [
    "print(data.read())"
   ]
  },
  {
   "cell_type": "code",
   "execution_count": null,
   "id": "ce710aca-22d5-423e-8507-e16ed608c946",
   "metadata": {},
   "outputs": [],
   "source": [
    "data1 = open(\"text.txt\" , 'r')"
   ]
  },
  {
   "cell_type": "code",
   "execution_count": null,
   "id": "4c3a996d-d4fd-4d98-8999-92954963a12c",
   "metadata": {},
   "outputs": [],
   "source": [
    "for i in data1:\n",
    "    print(i)"
   ]
  },
  {
   "cell_type": "code",
   "execution_count": null,
   "id": "138ac47e-1ea1-4bca-a850-b842c95ccb54",
   "metadata": {},
   "outputs": [],
   "source": [
    "# Get size of file\n",
    "import os\n",
    "os.path.getsize(\"text.txt\")"
   ]
  },
  {
   "cell_type": "code",
   "execution_count": null,
   "id": "b9442fbe-6998-4987-aa99-3c5696f2a643",
   "metadata": {},
   "outputs": [],
   "source": [
    "os.remove(\"text.txt\")"
   ]
  },
  {
   "cell_type": "code",
   "execution_count": 64,
   "id": "eb3d160e-ce8b-43c8-973f-27e55fb96941",
   "metadata": {},
   "outputs": [],
   "source": [
    "f = open(\"text.txt\" , \"w\")"
   ]
  },
  {
   "cell_type": "code",
   "execution_count": 42,
   "id": "990fdd91-11c1-4d5e-a459-288af38a34aa",
   "metadata": {},
   "outputs": [
    {
     "data": {
      "text/plain": [
       "85"
      ]
     },
     "execution_count": 42,
     "metadata": {},
     "output_type": "execute_result"
    }
   ],
   "source": [
    "f.write(\"Data science course is highly ceated and designed according to latest industry demand\")"
   ]
  },
  {
   "cell_type": "code",
   "execution_count": 43,
   "id": "2a334ea2-788d-48e8-b977-44f6caac5ac8",
   "metadata": {},
   "outputs": [],
   "source": [
    "f.close()"
   ]
  },
  {
   "cell_type": "code",
   "execution_count": 44,
   "id": "35017e61-a1b8-4a64-89a6-1267d98d0f8b",
   "metadata": {},
   "outputs": [],
   "source": [
    "# Rename a file\n",
    "os.rename(\"test.txt\" , \"new.txt\")"
   ]
  },
  {
   "cell_type": "code",
   "execution_count": 46,
   "id": "e852111d-1ac4-4377-a59b-a4335e0259de",
   "metadata": {},
   "outputs": [
    {
     "data": {
      "text/plain": [
       "'copy_new.txt'"
      ]
     },
     "execution_count": 46,
     "metadata": {},
     "output_type": "execute_result"
    }
   ],
   "source": [
    "# Copy the File\n",
    "import shutil\n",
    "shutil.copy(\"new.txt\" , \"copy_new.txt\")"
   ]
  },
  {
   "cell_type": "code",
   "execution_count": 47,
   "id": "ed1b39cd-5ec1-406f-9679-f16e2991b275",
   "metadata": {},
   "outputs": [
    {
     "name": "stdout",
     "output_type": "stream",
     "text": [
      "Data science course is highly ceated and designed according to latest industry demand\n"
     ]
    }
   ],
   "source": [
    "# Open File using With\n",
    "with open(\"new.txt\", \"r\") as f:\n",
    "    print(f.read())"
   ]
  },
  {
   "cell_type": "code",
   "execution_count": null,
   "id": "3a7732b0-0d93-40b3-8e60-ce030e91a3ef",
   "metadata": {},
   "outputs": [],
   "source": []
  }
 ],
 "metadata": {
  "kernelspec": {
   "display_name": "Python 3 (ipykernel)",
   "language": "python",
   "name": "python3"
  },
  "language_info": {
   "codemirror_mode": {
    "name": "ipython",
    "version": 3
   },
   "file_extension": ".py",
   "mimetype": "text/x-python",
   "name": "python",
   "nbconvert_exporter": "python",
   "pygments_lexer": "ipython3",
   "version": "3.10.8"
  }
 },
 "nbformat": 4,
 "nbformat_minor": 5
}
