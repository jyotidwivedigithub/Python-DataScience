{
 "cells": [
  {
   "cell_type": "code",
   "execution_count": 1,
   "id": "4dbd8f01-d3ac-4075-9fdb-91fce4e13f3e",
   "metadata": {},
   "outputs": [
    {
     "name": "stdout",
     "output_type": "stream",
     "text": [
      "1\n",
      "2\n",
      "3\n",
      "4\n",
      "5\n",
      "6\n",
      "7\n",
      "8\n",
      "9\n",
      "10\n"
     ]
    }
   ],
   "source": [
    "# while loop always check the conditionnbut for loop doesn't chech condition\n",
    "a=1\n",
    "\n",
    "while a <= 10:\n",
    "    print(a)\n",
    "    a=a+1"
   ]
  },
  {
   "cell_type": "code",
   "execution_count": 3,
   "id": "f49be4f7-980f-4430-9509-86b74c655dcf",
   "metadata": {},
   "outputs": [
    {
     "name": "stdin",
     "output_type": "stream",
     "text": [
      "enter your limit 10\n"
     ]
    },
    {
     "data": {
      "text/plain": [
       "55"
      ]
     },
     "execution_count": 3,
     "metadata": {},
     "output_type": "execute_result"
    }
   ],
   "source": [
    "# sum of number till some point\n",
    "\n",
    "n=int(input(\"enter your limit\"))\n",
    "starting_point = 0\n",
    "counter = 1\n",
    "\n",
    "while counter <= n:\n",
    "    starting_point = starting_point + counter\n",
    "    counter = counter + 1\n",
    "starting_point    \n",
    "   "
   ]
  },
  {
   "cell_type": "code",
   "execution_count": 1,
   "id": "121efc11-d961-4b38-be43-9ee233b99134",
   "metadata": {},
   "outputs": [
    {
     "name": "stdin",
     "output_type": "stream",
     "text": [
      "Enter your no 4\n"
     ]
    },
    {
     "data": {
      "text/plain": [
       "24"
      ]
     },
     "execution_count": 1,
     "metadata": {},
     "output_type": "execute_result"
    }
   ],
   "source": [
    "# Get Factorial\n",
    "number = int(input(\"Enter your no\"))\n",
    "factorial = 1\n",
    "while number > 0 :\n",
    "    factorial = factorial*number\n",
    "    number = number - 1\n",
    "factorial"
   ]
  },
  {
   "cell_type": "code",
   "execution_count": 2,
   "id": "f1a46d69-93e7-4653-8d2e-473cc4dd5193",
   "metadata": {},
   "outputs": [
    {
     "name": "stdin",
     "output_type": "stream",
     "text": [
      "Enter the no of element you are looking for 4\n"
     ]
    },
    {
     "name": "stdout",
     "output_type": "stream",
     "text": [
      "0\n",
      "1\n",
      "1\n",
      "2\n"
     ]
    }
   ],
   "source": [
    " # Fibonacci series..next no should be summetion of previous 2 no\n",
    "    \n",
    "number = int(input(\"Enter the no of element you are looking for\"))\n",
    "a,b = 0,1\n",
    "counter = 0\n",
    "while counter < number :\n",
    "     print(a)\n",
    "     c = a+b\n",
    "     a = b\n",
    "     b = c\n",
    "     counter = counter+ 1   "
   ]
  },
  {
   "cell_type": "code",
   "execution_count": 7,
   "id": "ae98812f-eb40-4038-85a0-c8edf830518f",
   "metadata": {},
   "outputs": [
    {
     "name": "stdout",
     "output_type": "stream",
     "text": [
      "0\n",
      "1\n",
      "1\n",
      "2\n",
      "3\n",
      "5\n",
      "8\n",
      "13\n",
      "21\n",
      "34\n"
     ]
    }
   ],
   "source": [
    "# fibonacci using For Loop\n",
    "a ,b = 0,1\n",
    "for i in range(10) :\n",
    "    print(a)\n",
    "    c = a+b\n",
    "    a = b\n",
    "    b = c"
   ]
  },
  {
   "cell_type": "code",
   "execution_count": 8,
   "id": "111c7ccd-dcd4-486f-81a8-ffb2fc992d03",
   "metadata": {},
   "outputs": [],
   "source": [
    "# Reverse\n",
    "s = \"subh\""
   ]
  },
  {
   "cell_type": "code",
   "execution_count": 9,
   "id": "5e675651-55d4-438e-97ad-fc8ad2ccf366",
   "metadata": {},
   "outputs": [
    {
     "data": {
      "text/plain": [
       "'hbus'"
      ]
     },
     "execution_count": 9,
     "metadata": {},
     "output_type": "execute_result"
    }
   ],
   "source": [
    "s[::-1]"
   ]
  },
  {
   "cell_type": "code",
   "execution_count": 2,
   "id": "721d4e22-d710-4b90-88f4-9c2573f6b496",
   "metadata": {},
   "outputs": [
    {
     "name": "stdin",
     "output_type": "stream",
     "text": [
      "Enter your string for reversal subh\n"
     ]
    }
   ],
   "source": [
    "word = input(\"Enter your string for reversal\")"
   ]
  },
  {
   "cell_type": "code",
   "execution_count": 3,
   "id": "6951c3f4-4a58-4818-9cd3-f13cd5a93b2d",
   "metadata": {},
   "outputs": [
    {
     "name": "stdout",
     "output_type": "stream",
     "text": [
      "hbus\n"
     ]
    }
   ],
   "source": [
    "reverse = \"\"\n",
    "length = len(word)\n",
    "while length > 0 :\n",
    "    reverse = reverse + word[length -1]\n",
    "    length = length - 1\n",
    "print(reverse)"
   ]
  },
  {
   "cell_type": "code",
   "execution_count": 3,
   "id": "a9cd4dd6-7bb6-4086-b24b-378bb45646c4",
   "metadata": {},
   "outputs": [
    {
     "name": "stdin",
     "output_type": "stream",
     "text": [
      "Enter your no 8\n"
     ]
    },
    {
     "name": "stdout",
     "output_type": "stream",
     "text": [
      "8 *  1 = 8\n",
      "8 *  2 = 16\n",
      "8 *  3 = 24\n",
      "8 *  4 = 32\n",
      "8 *  5 = 40\n",
      "8 *  6 = 48\n",
      "8 *  7 = 56\n",
      "8 *  8 = 64\n",
      "8 *  9 = 72\n",
      "8 *  10 = 80\n"
     ]
    }
   ],
   "source": [
    "# Print table of number\n",
    "n=int(input(\"Enter your no\"))\n",
    "i = 1\n",
    "while i <= 10 :\n",
    "    print(n,\"* \", i ,\"=\" ,n*i)\n",
    "    i = i+1"
   ]
  },
  {
   "cell_type": "code",
   "execution_count": 4,
   "id": "d3a0aec4-5c5a-44aa-93a3-4d2e4320fce6",
   "metadata": {},
   "outputs": [
    {
     "name": "stdout",
     "output_type": "stream",
     "text": [
      "1\n",
      "2\n",
      "3\n",
      "4\n",
      "5\n",
      "this will be exicuted once your while will complete it succesfully\n"
     ]
    }
   ],
   "source": [
    "# using while with else\n",
    "n=6\n",
    "i=1\n",
    "while i < n :\n",
    "    print(i)\n",
    "    i = i+1\n",
    "else:\n",
    "    Cly\")"
   ]
  },
  {
   "cell_type": "code",
   "execution_count": 7,
   "id": "cafe153a-6178-4d43-83ff-23c634342a0e",
   "metadata": {},
   "outputs": [
    {
     "name": "stdout",
     "output_type": "stream",
     "text": [
      "1\n",
      "2\n",
      "3\n",
      "4\n"
     ]
    }
   ],
   "source": [
    "n = 5\n",
    "i = 1\n",
    "while i < n :\n",
    "    print(i)\n",
    "    if i == 4:\n",
    "        break\n",
    "    i = i+1\n",
    "else:\n",
    "    print(\"this eill be exicuted once yout while will complete it succesfully\")\n",
    "       "
   ]
  },
  {
   "cell_type": "code",
   "execution_count": null,
   "id": "4ec60605-a3bf-43d0-ae92-290a0f1c4292",
   "metadata": {},
   "outputs": [],
   "source": []
  }
 ],
 "metadata": {
  "kernelspec": {
   "display_name": "Python 3 (ipykernel)",
   "language": "python",
   "name": "python3"
  },
  "language_info": {
   "codemirror_mode": {
    "name": "ipython",
    "version": 3
   },
   "file_extension": ".py",
   "mimetype": "text/x-python",
   "name": "python",
   "nbconvert_exporter": "python",
   "pygments_lexer": "ipython3",
   "version": "3.10.8"
  }
 },
 "nbformat": 4,
 "nbformat_minor": 5
}
