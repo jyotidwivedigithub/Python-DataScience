{
 "cells": [
  {
   "cell_type": "code",
   "execution_count": null,
   "id": "9cea0e05-84b3-41fb-b0e0-29de1d117675",
   "metadata": {},
   "outputs": [],
   "source": [
    "Q1. Explain GET and POST methods.\n",
    "Ans. GET-  GET is the most commonly used HTTP method and it is typically used to send a data through url e.g. google searching. \n",
    "     Post-  POST is commonly used to send information to web server through body e.g mail.\n",
    "\n",
    "        \n",
    "Q2. Why is request used in Flask?\n",
    "Ans. The Request, in Flask, is an object that contains all the data sent from the Client to Server. This\n",
    "     data can be recovered using the GET/POST Methods.\n",
    "    \n",
    "    \n",
    "Q3. Why is redirect() used in Flask?\n",
    "Ans.Redirection in Flask can be done by returning a redirect response object, created by invoking the\n",
    "    redirect() function.\n",
    "  \n",
    "\n",
    "Q4. What are templates in Flask? Why is the render_template() function used?\n",
    "Ans. Templates in Flask- Templates are files that contain static data as well as placeholders for dynamic data.\n",
    "                A template is rendered with specific data to produce a final document. \n",
    "    \n",
    "    Render_template is used to generate output from a template file based on the Jinja2 engine that is found in \n",
    "    the application's templates folder\n",
    "    \n",
    "    \n",
    "Q5. Create a simple API. Use Postman to test it. Attach the screenshot of the output in the Jupyter Notebook.\n",
    "Ans.Creating API...\n",
    "        from flask import Flask\n",
    "        app = Flask(__name__)\n",
    "\n",
    "        @app.route('/')\n",
    "        def hello_world():\n",
    "            return 'Hello, World!'\n",
    "    \n",
    "        if __name__==\"__main__\":\n",
    "        app.run(host=\"0.0.0.0\")\n",
    "        \n",
    "    Postman Test...\n",
    "    \n"
   ]
  }
 ],
 "metadata": {
  "kernelspec": {
   "display_name": "Python 3 (ipykernel)",
   "language": "python",
   "name": "python3"
  },
  "language_info": {
   "codemirror_mode": {
    "name": "ipython",
    "version": 3
   },
   "file_extension": ".py",
   "mimetype": "text/x-python",
   "name": "python",
   "nbconvert_exporter": "python",
   "pygments_lexer": "ipython3",
   "version": "3.10.8"
  }
 },
 "nbformat": 4,
 "nbformat_minor": 5
}
