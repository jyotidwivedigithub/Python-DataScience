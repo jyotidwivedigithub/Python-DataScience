{
 "cells": [
  {
   "cell_type": "code",
   "execution_count": null,
   "id": "3a6721d3-3d58-4a8d-87cf-3c410c1c440b",
   "metadata": {},
   "outputs": [],
   "source": [
    "import requests\n",
    "from bs4 import BeautifulSoap as \n",
    "from urllib.rwquest import urlopen \n",
    "import logging"
   ]
  },
  {
   "cell_type": "code",
   "execution_count": null,
   "id": "1035ed51-7c33-40da-8489-ab56181bac7c",
   "metadata": {},
   "outputs": [],
   "source": [
    "flipkart_url = \"https://www.flipkart.com/search?q=\" + \"iphone12pro\""
   ]
  },
  {
   "cell_type": "code",
   "execution_count": null,
   "id": "bb748865-cc89-409e-918f-c3034969ffce",
   "metadata": {},
   "outputs": [],
   "source": [
    "flipkart_url"
   ]
  },
  {
   "cell_type": "code",
   "execution_count": null,
   "id": "8ea5568b-644f-4018-9c44-eb996c95c634",
   "metadata": {},
   "outputs": [],
   "source": [
    "urlclient = urlopen(flipcart_url)"
   ]
  },
  {
   "cell_type": "code",
   "execution_count": null,
   "id": "a23ba09a-cecb-4bae-aab9-d51d71ff8004",
   "metadata": {},
   "outputs": [],
   "source": [
    "urlclient"
   ]
  },
  {
   "cell_type": "code",
   "execution_count": null,
   "id": "682afb70-0177-44ca-8a81-b531f2e59db4",
   "metadata": {},
   "outputs": [],
   "source": [
    "urlclient.read()"
   ]
  },
  {
   "cell_type": "code",
   "execution_count": null,
   "id": "b1f1f3dc-a01a-49c6-abe3-6e1f7e0afcc0",
   "metadata": {},
   "outputs": [],
   "source": [
    "flipcard_page = urlclient.read()"
   ]
  },
  {
   "cell_type": "code",
   "execution_count": null,
   "id": "44fadcdf-8501-4e84-a082-68194366c249",
   "metadata": {},
   "outputs": [],
   "source": [
    "flipcard_page"
   ]
  },
  {
   "cell_type": "code",
   "execution_count": null,
   "id": "40ed99a2-4c6f-411a-a779-331abc37a307",
   "metadata": {},
   "outputs": [],
   "source": [
    "flipcart_html = bs(flipcard_page,'html.parser)"
   ]
  },
  {
   "cell_type": "code",
   "execution_count": null,
   "id": "aa5958d1-f266-43e6-9145-89b3b59d3445",
   "metadata": {},
   "outputs": [],
   "source": [
    "flipcart_html"
   ]
  },
  {
   "cell_type": "code",
   "execution_count": null,
   "id": "c8534749-c0ef-4f8f-9c66-60580c97fa0e",
   "metadata": {},
   "outputs": [],
   "source": [
    "# Find data through tag or html url\n",
    "flipcart_html.findall(\"div\" , {\"class\": \"product url\"})"
   ]
  },
  {
   "cell_type": "code",
   "execution_count": null,
   "id": "79198642-b432-4b2b-b6f4-98e166efd812",
   "metadata": {},
   "outputs": [],
   "source": [
    "len(bigbox)"
   ]
  },
  {
   "cell_type": "code",
   "execution_count": null,
   "id": "73508ac1-0c90-4878-b5c9-e5321a2b54dd",
   "metadata": {},
   "outputs": [],
   "source": [
    "del bigbox[0:3]"
   ]
  },
  {
   "cell_type": "code",
   "execution_count": null,
   "id": "85725e8a-432f-4195-b95e-8b53fc86432f",
   "metadata": {},
   "outputs": [],
   "source": [
    "bigbox[1]"
   ]
  },
  {
   "cell_type": "code",
   "execution_count": null,
   "id": "4963b3dc-1124-4474-b7c7-84b32a4464d5",
   "metadata": {},
   "outputs": [],
   "source": [
    "bigbox[2]"
   ]
  },
  {
   "cell_type": "code",
   "execution_count": null,
   "id": "d0f77150-aa70-4312-92ae-66084242487c",
   "metadata": {},
   "outputs": [],
   "source": [
    "bigbox[2].div.div.div.a['href']"
   ]
  },
  {
   "cell_type": "code",
   "execution_count": null,
   "id": "e1a2ee2c-6777-486d-a811-44e8235ab4ed",
   "metadata": {},
   "outputs": [],
   "source": [
    "productlink = \"https://www.flipkart.com\" + bigbox[3].div.div.div.a['href']"
   ]
  },
  {
   "cell_type": "code",
   "execution_count": null,
   "id": "536e2443-af62-4305-8d33-6bd39f97cfb7",
   "metadata": {},
   "outputs": [],
   "source": [
    "product_req = requests.get(productlink)"
   ]
  },
  {
   "cell_type": "code",
   "execution_count": null,
   "id": "54288774-ca93-4d6c-b8d6-742300a3a914",
   "metadata": {},
   "outputs": [],
   "source": [
    "product_req.text"
   ]
  },
  {
   "cell_type": "code",
   "execution_count": null,
   "id": "0d92f0e9-9b67-42cf-be15-9b32aad44263",
   "metadata": {},
   "outputs": [],
   "source": [
    "productlink"
   ]
  },
  {
   "cell_type": "code",
   "execution_count": null,
   "id": "ba71c0ce-e938-42be-a338-59c0ae1a4ee9",
   "metadata": {},
   "outputs": [],
   "source": [
    "product_html = bs(product_req.text, 'html.parser')"
   ]
  },
  {
   "cell_type": "code",
   "execution_count": null,
   "id": "79797eaf-11b1-4954-b6ef-d14f52769965",
   "metadata": {},
   "outputs": [],
   "source": [
    "product_html.findall(\"div\",{\"class\" : \"_16PBlm\"})"
   ]
  },
  {
   "cell_type": "code",
   "execution_count": null,
   "id": "93435aa0-1b4b-4d5e-b9ba-9b4a4854f07e",
   "metadata": {},
   "outputs": [],
   "source": [
    "len(comment_box)"
   ]
  },
  {
   "cell_type": "code",
   "execution_count": null,
   "id": "9f58b7ec-9e37-454e-b93d-2d6fbc61cd60",
   "metadata": {},
   "outputs": [],
   "source": [
    "comment_box[1].div.div.find('p',{\"class\":\"_2sc7ZR_2V5EHH\"})"
   ]
  },
  {
   "cell_type": "code",
   "execution_count": null,
   "id": "3ca5bfa8-5195-4b82-ab9e-5c098fb68555",
   "metadata": {},
   "outputs": [],
   "source": [
    "comment_box[1].div.div.find('p',{\"class\":\"_2sc7ZR_2V5EHH\"})[1].text\n",
    "#[1] is a list [1].text for finding name"
   ]
  },
  {
   "cell_type": "code",
   "execution_count": null,
   "id": "2423d321-c09e-4fb4-b008-f8882c07aa7b",
   "metadata": {},
   "outputs": [],
   "source": [
    " #for finding all name\n",
    "for i in comment_box: \n",
    "     print(i.div.div.find('p',{\"class\":\"_2sc7ZR_2V5EHH\"})[1].text[0].text)"
   ]
  },
  {
   "cell_type": "code",
   "execution_count": null,
   "id": "dfc3acab-938e-463b-b9b1-b37d231fde67",
   "metadata": {},
   "outputs": [],
   "source": [
    "for i in comment_box:\n",
    "    print(comment_box[0].div.div.div.test)"
   ]
  },
  {
   "cell_type": "code",
   "execution_count": null,
   "id": "353e76c4-7ce1-4286-b620-192a8b52e32c",
   "metadata": {},
   "outputs": [],
   "source": [
    "comment_box[0].div.div.div.p.test"
   ]
  },
  {
   "cell_type": "code",
   "execution_count": null,
   "id": "ed803937-1b35-4ca6-8575-9b527983eb2d",
   "metadata": {},
   "outputs": [],
   "source": [
    "for i in comment_box:\n",
    "    print(i.div.div.div.p.test)"
   ]
  },
  {
   "cell_type": "code",
   "execution_count": null,
   "id": "75c38968-5e1c-4dcf-9325-7959d3ae2984",
   "metadata": {},
   "outputs": [],
   "source": [
    ")comment_box[0].div.div.find_all('div',{\"class\":''}"
   ]
  },
  {
   "cell_type": "code",
   "execution_count": null,
   "id": "ffa77cec-30aa-4b4e-bf38-9f8c40b9e6c4",
   "metadata": {},
   "outputs": [],
   "source": [
    "comment_box[0].div.div.find_all('div',{\"class\":''})[0].div.text"
   ]
  },
  {
   "cell_type": "code",
   "execution_count": null,
   "id": "77518cb5-6895-455e-91a0-654dc43f0c62",
   "metadata": {},
   "outputs": [],
   "source": [
    "for i in comment_box:\n",
    "    print(i.div.div.find_all('div',{\"class\":''})[0].div.test)"
   ]
  },
  {
   "cell_type": "code",
   "execution_count": null,
   "id": "cf747537-c547-4b77-95f4-54bf878b0bbe",
   "metadata": {},
   "outputs": [],
   "source": []
  },
  {
   "cell_type": "code",
   "execution_count": null,
   "id": "5bc8ce14-75fe-48c2-be45-7411173f965c",
   "metadata": {},
   "outputs": [],
   "source": [
    " for i in bigbox:\n",
    "    print(\"https://www.flipkart.com\" + bigbox[3].div.div.div.a['href'])"
   ]
  }
 ],
 "metadata": {
  "kernelspec": {
   "display_name": "Python 3 (ipykernel)",
   "language": "python",
   "name": "python3"
  },
  "language_info": {
   "codemirror_mode": {
    "name": "ipython",
    "version": 3
   },
   "file_extension": ".py",
   "mimetype": "text/x-python",
   "name": "python",
   "nbconvert_exporter": "python",
   "pygments_lexer": "ipython3",
   "version": "3.10.8"
  }
 },
 "nbformat": 4,
 "nbformat_minor": 5
}
