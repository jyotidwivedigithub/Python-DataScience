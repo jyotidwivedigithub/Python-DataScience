{
 "cells": [
  {
   "cell_type": "code",
   "execution_count": null,
   "id": "42855ab8-4f09-4b94-a788-e4ef396eb6d6",
   "metadata": {},
   "outputs": [],
   "source": [
    "Q1. Write a Python program that defines a function called \"add_numbers\" that takes two arguments (i.e.,\n",
    "    numbers) and returns their sum. Within the function, add the two numbers together and return the result\n",
    "    using the return statement. Call the function with the values 5 and 6, and print out the returned result.\n",
    "    This will result in the addition of 5 and 6, with the output of the program being the sum of these two\n",
    "    numbers.\n",
    "Ans. \n",
    "        def add_numbers(num1, num2):\n",
    "           return num1 + num2\n",
    "        result = add_numbers(5, 6)\n",
    "        print(result)\n",
    "    \n",
    "    \n",
    "Q2. Write a Python program that calculates the square root of a given number using a built-in function.\n",
    "    Specifically, the program should take an integer or float input from the user, calculate its square root\n",
    "    using the 'sqrt()' function from the 'math' module, and print out the result to the user. As an example,\n",
    "    calculate the square root of the number 625 using this program, which should output the value of 25.\n",
    "Ans.  \n",
    "        import math\n",
    "        # take input from the user\n",
    "        num = float(input(\"Enter a number: \"))\n",
    "        # calculate the square root using the sqrt() function\n",
    "        sqrt_num = math.sqrt(num)\n",
    "        # print the result\n",
    "        print(\"The square root of\", num, \"is\", sqrt_num) \n",
    "        \n",
    "Example:-\n",
    "        import math\n",
    "        num = 625\n",
    "        sqrt_num = math.sqrt(num)\n",
    "        print(sqrt_num)\n",
    "        \n",
    "         \n",
    "Q3.Write a program that prints all prime numbers between 0 to 50.\n",
    "Ans.\n",
    "    for number in range(2, 51):\n",
    "    is_prime = True\n",
    "    for i in range(2, number):\n",
    "        if number % i == 0:\n",
    "            is_prime = False\n",
    "            break\n",
    "    if is_prime:\n",
    "        print(number)\n",
    "\n",
    "        \n",
    "Q4.How can we swap the values of three variables (let's say a, b, and c) without using a fourth variable?\n",
    "For example, if we have a=5, b=8, and c=9, how can we obtain a=9, b=5, and c=8? The challenge is to\n",
    "perform this operation without using an additional variable to store any of the values during the\n",
    "swapping process.\n",
    "Ans.\n",
    "    a = 5\n",
    "    b = 8\n",
    "    c = 9\n",
    "    a, b, c = c, a, b\n",
    "    print(\"a =\", a)\n",
    "    print(\"b =\", b)\n",
    "    print(\"c =\", c)                                              \n",
    "     \n",
    "                                                  \n",
    "Q5. Can you write a program that determines the nature of a given number (in this case, 87) as being\n",
    "positive, negative, or zero? The program should be designed to take the number as input and perform the\n",
    "necessary calculations to determine if the number is positive (i.e., greater than zero), negative (i.e., less\n",
    "than zero), or zero (i.e., equal to zero). The output of the program should indicate which of these three\n",
    "categories the given number falls into.\n",
    "Ans.\n",
    "   num = 87\n",
    "\n",
    "   if num > 0:\n",
    "        print(\"The number is positive.\")\n",
    "   elif num < 0:\n",
    "        print(\"The number is negative.\")\n",
    "   else:\n",
    "        print(\"The number is zero.\")                                               \n",
    "                                                  \n",
    "Q6. How can you create a program that determines whether a given number (in this case, 98) is even or\n",
    "odd? The program should be designed to take the number as input and perform the necessary\n",
    "calculations to determine whether it is divisible by two. If the number is divisible by two without leaving a\n",
    "remainder, it is an even number, and if there is a remainder, it is an odd number. The output of the\n",
    "program should indicate whether the given number is even or odd.\n",
    "Ans.\n",
    "   num = 98\n",
    "\n",
    "   if num % 2 == 0:\n",
    "       print(\"The number is even.\")\n",
    "   else:\n",
    "       print(\"The number is odd.\")\n",
    "                                               \n",
    "Q7.Write a program for sum of digits.the digits are 76543 and the output should be 25.\n",
    "Ans.\n",
    "    num = 76543\n",
    "    sum_of_digits = 0\n",
    "\n",
    "    while num > 0:\n",
    "        sum_of_digits += num % 10\n",
    "        num //= 10\n",
    "\n",
    "    print(\"The sum of digits is:\", sum_of_digits)                                               \n",
    "                                                  \n",
    "Q8.Write a program for reversing the given number 5436 and the output should be 6345.\n",
    "Ans.\n",
    "    num = 5436\n",
    "    reverse = 0\n",
    "\n",
    "    while num > 0:\n",
    "    # Extract the rightmost digit of the number\n",
    "        digit = num % 10\n",
    "    # Add the extracted digit to the reverse number\n",
    "        reverse = (reverse * 10) + digit\n",
    "    # Remove the rightmost digit from the number\n",
    "         num //= 10\n",
    "    print(\"The reversed number is:\", reverse)\n",
    "                                               \n",
    "                                                  \n",
    "Q9.Write a program to check if a given number 371 is an Armstrong number?\n",
    "Ans.\n",
    "    # Function to check if a number is an Armstrong number\n",
    "    def is_armstrong(num):\n",
    "    # Get the number of digits in the given number\n",
    "        num_str = str(num)\n",
    "        num_digits = len(num_str)\n",
    "    \n",
    "    # Calculate the sum of the cubes of each digit\n",
    "        sum_of_cubes = sum([int(digit)**num_digits for digit in num_str])\n",
    "    \n",
    "    # Check if the sum of the cubes is equal to the original number\n",
    "        if sum_of_cubes == num:\n",
    "            return True\n",
    "        else:\n",
    "            return False\n",
    "\n",
    "    # Test the function with the number 371\n",
    "    num = 371\n",
    "    if is_armstrong(num):\n",
    "         print(num, \"is an Armstrong number\")\n",
    "    else:\n",
    "         print(num, \"is not an Armstrong number\")                                              \n",
    "      \n",
    "                                                  \n",
    "Q10.Write a program the given year is 1996, a leap year.\n",
    "Ans.\n",
    "   year = 1996\n",
    "\n",
    "   if (year % 4 == 0 and year % 100 != 0) or (year % 400 == 0):\n",
    "       print(year, \"is a leap year\")\n",
    "   else:\n",
    "       print(year, \"is not a leap year\")                                               \n",
    "                                                  "
   ]
  },
  {
   "cell_type": "code",
   "execution_count": null,
   "id": "f6e02f90-ee55-4fc7-884d-7f868bbde9cf",
   "metadata": {},
   "outputs": [],
   "source": [
    "Q1. Write a Python program that defines a function called \"add_numbers\" that takes two arguments (i.e.,\n",
    "    numbers) and returns their sum. Within the function, add the two numbers together and return the result\n",
    "    using the return statement. Call the function with the values 5 and 6, and print out the returned result.\n",
    "    This will result in the addition of 5 and 6, with the output of the program being the sum of these two\n",
    "    numbers."
   ]
  },
  {
   "cell_type": "code",
   "execution_count": 3,
   "id": "674cab99-0664-4f3b-bbeb-d32a00aee5ae",
   "metadata": {},
   "outputs": [
    {
     "name": "stdout",
     "output_type": "stream",
     "text": [
      "11\n"
     ]
    }
   ],
   "source": [
    "def add_numbers(num1, num2):\n",
    "    return num1 + num2\n",
    "result = add_numbers(5, 6)\n",
    "print(result)"
   ]
  },
  {
   "cell_type": "code",
   "execution_count": null,
   "id": "8586e01e-41bf-4ffc-bf48-5aecae6513c0",
   "metadata": {},
   "outputs": [],
   "source": [
    "Q2. Write a Python program that calculates the square root of a given number using a built-in function.\n",
    "    Specifically, the program should take an integer or float input from the user, calculate its square root\n",
    "    using the 'sqrt()' function from the 'math' module, and print out the result to the user. As an example,\n",
    "    calculate the square root of the number 625 using this program, which should output the value of 25.\n",
    "Ans.    \n",
    "    import math\n",
    "        # take input from the user\n",
    "    num = float(input(\"Enter a number: \"))\n",
    "        # calculate the square root using the sqrt() function\n",
    "    sqrt_num = math.sqrt(num)\n",
    "        # print the result\n",
    "    print(\"The square root of\", num, \"is\", sqrt_num) "
   ]
  },
  {
   "cell_type": "code",
   "execution_count": 5,
   "id": "d8658462-9482-4585-893f-eb69d0c3e4a2",
   "metadata": {},
   "outputs": [
    {
     "name": "stdout",
     "output_type": "stream",
     "text": [
      "25.0\n"
     ]
    }
   ],
   "source": [
    "import math\n",
    "num = 625\n",
    "sqrt_num = math.sqrt(num)\n",
    "print(sqrt_num)"
   ]
  },
  {
   "cell_type": "code",
   "execution_count": 6,
   "id": "5552f38b-d5d0-4ee0-a950-e1738f568117",
   "metadata": {},
   "outputs": [
    {
     "name": "stdout",
     "output_type": "stream",
     "text": [
      "2\n",
      "3\n",
      "5\n",
      "7\n",
      "11\n",
      "13\n",
      "17\n",
      "19\n",
      "23\n",
      "29\n",
      "31\n",
      "37\n",
      "41\n",
      "43\n",
      "47\n"
     ]
    }
   ],
   "source": [
    "for number in range(2, 51):\n",
    "    is_prime = True\n",
    "    for i in range(2, number):\n",
    "        if number % i == 0:\n",
    "            is_prime = False\n",
    "            break\n",
    "    if is_prime:\n",
    "        print(number)"
   ]
  },
  {
   "cell_type": "code",
   "execution_count": 7,
   "id": "8ee23251-6a0f-4998-a14f-320b5695d7cf",
   "metadata": {},
   "outputs": [
    {
     "name": "stdout",
     "output_type": "stream",
     "text": [
      "a = 9\n",
      "b = 5\n",
      "c = 8\n"
     ]
    }
   ],
   "source": [
    "a = 5\n",
    "b = 8\n",
    "c = 9\n",
    "\n",
    "a, b, c = c, a, b\n",
    "\n",
    "print(\"a =\", a)\n",
    "print(\"b =\", b)\n",
    "print(\"c =\", c)"
   ]
  },
  {
   "cell_type": "code",
   "execution_count": 8,
   "id": "291ed2dc-69ec-40cb-8e30-d55011f30f80",
   "metadata": {},
   "outputs": [
    {
     "name": "stdout",
     "output_type": "stream",
     "text": [
      "The number is positive.\n"
     ]
    }
   ],
   "source": [
    "num = 87\n",
    "\n",
    "if num > 0:\n",
    "    print(\"The number is positive.\")\n",
    "elif num < 0:\n",
    "    print(\"The number is negative.\")\n",
    "else:\n",
    "    print(\"The number is zero.\")"
   ]
  },
  {
   "cell_type": "code",
   "execution_count": 9,
   "id": "2ff5bdcc-ab19-49b9-ad09-d2bbce986355",
   "metadata": {},
   "outputs": [
    {
     "name": "stdout",
     "output_type": "stream",
     "text": [
      "The number is even.\n"
     ]
    }
   ],
   "source": [
    "num = 98\n",
    "\n",
    "if num % 2 == 0:\n",
    "    print(\"The number is even.\")\n",
    "else:\n",
    "    print(\"The number is odd.\")\n"
   ]
  },
  {
   "cell_type": "code",
   "execution_count": 10,
   "id": "34ed70e6-534c-463a-b84e-60d05d701d1f",
   "metadata": {},
   "outputs": [
    {
     "name": "stdout",
     "output_type": "stream",
     "text": [
      "The sum of digits is: 25\n"
     ]
    }
   ],
   "source": [
    "num = 76543\n",
    "sum_of_digits = 0\n",
    "\n",
    "while num > 0:\n",
    "    sum_of_digits += num % 10\n",
    "    num //= 10\n",
    "\n",
    "print(\"The sum of digits is:\", sum_of_digits)"
   ]
  },
  {
   "cell_type": "code",
   "execution_count": 11,
   "id": "d6049fa3-4336-468c-8962-72784c20c3cd",
   "metadata": {},
   "outputs": [
    {
     "name": "stdout",
     "output_type": "stream",
     "text": [
      "The reversed number is: 6345\n"
     ]
    }
   ],
   "source": [
    "num = 5436\n",
    "reverse = 0\n",
    "\n",
    "while num > 0:\n",
    "    # Extract the rightmost digit of the number\n",
    "    digit = num % 10\n",
    "    \n",
    "    # Add the extracted digit to the reverse number\n",
    "    reverse = (reverse * 10) + digit\n",
    "    \n",
    "    # Remove the rightmost digit from the number\n",
    "    num //= 10\n",
    "\n",
    "print(\"The reversed number is:\", reverse)\n"
   ]
  },
  {
   "cell_type": "code",
   "execution_count": 12,
   "id": "e526c91c-a84d-4aee-bd02-b3649e5ab7db",
   "metadata": {},
   "outputs": [
    {
     "name": "stdout",
     "output_type": "stream",
     "text": [
      "371 is an Armstrong number\n"
     ]
    }
   ],
   "source": [
    "# Function to check if a number is an Armstrong number\n",
    "def is_armstrong(num):\n",
    "    # Get the number of digits in the given number\n",
    "    num_str = str(num)\n",
    "    num_digits = len(num_str)\n",
    "    \n",
    "    # Calculate the sum of the cubes of each digit\n",
    "    sum_of_cubes = sum([int(digit)**num_digits for digit in num_str])\n",
    "    \n",
    "    # Check if the sum of the cubes is equal to the original number\n",
    "    if sum_of_cubes == num:\n",
    "        return True\n",
    "    else:\n",
    "        return False\n",
    "\n",
    "# Test the function with the number 371\n",
    "num = 371\n",
    "if is_armstrong(num):\n",
    "    print(num, \"is an Armstrong number\")\n",
    "else:\n",
    "    print(num, \"is not an Armstrong number\")"
   ]
  },
  {
   "cell_type": "code",
   "execution_count": 13,
   "id": "9493ac6d-3c98-41bf-be8a-c3bc61e20a55",
   "metadata": {},
   "outputs": [
    {
     "name": "stdout",
     "output_type": "stream",
     "text": [
      "1996 is a leap year\n"
     ]
    }
   ],
   "source": [
    "year = 1996\n",
    "\n",
    "if (year % 4 == 0 and year % 100 != 0) or (year % 400 == 0):\n",
    "    print(year, \"is a leap year\")\n",
    "else:\n",
    "    print(year, \"is not a leap year\")"
   ]
  },
  {
   "cell_type": "code",
   "execution_count": null,
   "id": "71286b29-e670-45a0-b18e-f99a18761990",
   "metadata": {},
   "outputs": [],
   "source": []
  }
 ],
 "metadata": {
  "kernelspec": {
   "display_name": "Python 3 (ipykernel)",
   "language": "python",
   "name": "python3"
  },
  "language_info": {
   "codemirror_mode": {
    "name": "ipython",
    "version": 3
   },
   "file_extension": ".py",
   "mimetype": "text/x-python",
   "name": "python",
   "nbconvert_exporter": "python",
   "pygments_lexer": "ipython3",
   "version": "3.10.8"
  }
 },
 "nbformat": 4,
 "nbformat_minor": 5
}
