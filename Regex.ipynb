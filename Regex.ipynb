{
 "cells": [
  {
   "cell_type": "markdown",
   "id": "624d6802-2d34-4dd5-b6ee-f78eba497b65",
   "metadata": {},
   "source": [
    "# Import the 're' Module"
   ]
  },
  {
   "cell_type": "code",
   "execution_count": 19,
   "id": "9e614e9d-570d-46e2-85bf-3bf7b708eeaf",
   "metadata": {},
   "outputs": [],
   "source": [
    "import re"
   ]
  },
  {
   "cell_type": "markdown",
   "id": "aa840926-bf1a-45b5-9952-f6c2cf33ad23",
   "metadata": {},
   "source": [
    "# Sample Text"
   ]
  },
  {
   "cell_type": "code",
   "execution_count": 20,
   "id": "f945e11a-d152-4d11-9320-b4bd691aa2c0",
   "metadata": {},
   "outputs": [],
   "source": [
    "text = \"India is the seventh largest country in the world.\""
   ]
  },
  {
   "cell_type": "markdown",
   "id": "df84c71a-ce52-4f0a-adb4-d9fc592d15d1",
   "metadata": {},
   "source": [
    "# Basic Regex Operations\n"
   ]
  },
  {
   "cell_type": "markdown",
   "id": "271a868f-3796-403e-b072-6e8433b8e34c",
   "metadata": {},
   "source": [
    "Regex allows to perform various operations on text, such as searching for patterns,replacing text, and splitting text."
   ]
  },
  {
   "cell_type": "markdown",
   "id": "59be22de-a73c-4fe6-8543-77c2f5db2c2b",
   "metadata": {},
   "source": [
    "### Searching for a Pattern"
   ]
  },
  {
   "cell_type": "code",
   "execution_count": 21,
   "id": "69c16a03-a0cc-4693-9ce8-ad0e1011fe59",
   "metadata": {},
   "outputs": [
    {
     "name": "stdout",
     "output_type": "stream",
     "text": [
      "Matches: ['seventh']\n"
     ]
    }
   ],
   "source": [
    "pattern = r\"seventh\"\n",
    "matches = re.findall(pattern, text)\n",
    "print(\"Matches:\", matches)"
   ]
  },
  {
   "cell_type": "markdown",
   "id": "f907d279-ecf6-4873-a75c-073952b0f61d",
   "metadata": {},
   "source": [
    "### Replacing Text"
   ]
  },
  {
   "cell_type": "code",
   "execution_count": 22,
   "id": "2985fb17-1e81-4569-8407-bed97e41eefd",
   "metadata": {},
   "outputs": [
    {
     "name": "stdout",
     "output_type": "stream",
     "text": [
      "New Text: India is the 7th largest country in the world.\n"
     ]
    }
   ],
   "source": [
    "pattern = r\"seventh\"\n",
    "replacement = \"7th\"\n",
    "new_text = re.sub(pattern, replacement, text)\n",
    "print(\"New Text:\", new_text)"
   ]
  },
  {
   "cell_type": "markdown",
   "id": "4e154695-7861-4db6-97de-66b929be3c19",
   "metadata": {},
   "source": [
    "### Splitting Strings"
   ]
  },
  {
   "cell_type": "code",
   "execution_count": 23,
   "id": "3f753fd8-081e-4721-b69e-fbae7a69acc5",
   "metadata": {},
   "outputs": [
    {
     "name": "stdout",
     "output_type": "stream",
     "text": [
      "Split Text: ['India', 'is', 'the', 'seventh', 'largest', 'country', 'in', 'the', 'world.']\n"
     ]
    }
   ],
   "source": [
    "patterns = r\"\\s\"   # split on spaces\n",
    "split_text = re.split(patterns, text)\n",
    "print(\"Split Text:\", split_text)"
   ]
  },
  {
   "cell_type": "markdown",
   "id": "7e67b743-7728-4a0e-8499-0e736c31bac2",
   "metadata": {},
   "source": [
    "# Character Classes and Quantifiers"
   ]
  },
  {
   "cell_type": "markdown",
   "id": "f7bffaa7-1059-4e49-90a4-31fcf744c475",
   "metadata": {},
   "source": [
    "### Character Classes"
   ]
  },
  {
   "cell_type": "code",
   "execution_count": 24,
   "id": "e5c5979c-23fe-4664-be2f-6b7cf718d6a1",
   "metadata": {},
   "outputs": [
    {
     "name": "stdout",
     "output_type": "stream",
     "text": [
      "Vowels: ['i', 'a', 'i', 'e', 'e', 'e', 'a', 'e', 'o', 'u', 'i', 'e', 'o']\n"
     ]
    }
   ],
   "source": [
    "pattern = r\"[aeiou]\"\n",
    "vowels = re.findall(pattern, text)\n",
    "print(\"Vowels:\", vowels)"
   ]
  },
  {
   "cell_type": "markdown",
   "id": "63e66d67-e34b-4f1d-ae18-905a6edf5932",
   "metadata": {},
   "source": [
    "### Quantifiers"
   ]
  },
  {
   "cell_type": "code",
   "execution_count": 25,
   "id": "4a1d2440-e53a-4138-a9a8-cab6510c5a76",
   "metadata": {},
   "outputs": [
    {
     "name": "stdout",
     "output_type": "stream",
     "text": [
      "Matches: []\n"
     ]
    }
   ],
   "source": [
    "pattern = r\"o{2}\"   # Matches two consecutive 'o' characters\n",
    "matches = re.findall(pattern, text)\n",
    "print(\"Matches:\", matches)"
   ]
  },
  {
   "cell_type": "markdown",
   "id": "a4cd642b-abb0-4f70-9093-cc10e617e587",
   "metadata": {},
   "source": [
    "# Metacharacters and Anchors"
   ]
  },
  {
   "cell_type": "markdown",
   "id": "9992849f-4be5-48be-8a14-f00ce0fe6d0e",
   "metadata": {},
   "source": [
    "### Metacharacters"
   ]
  },
  {
   "cell_type": "code",
   "execution_count": 26,
   "id": "10b3e115-891b-4786-a3a8-7149e0e58781",
   "metadata": {},
   "outputs": [
    {
     "name": "stdout",
     "output_type": "stream",
     "text": [
      "Matches: ['the', 'the']\n"
     ]
    }
   ],
   "source": [
    "pattern = r\"\\b\\w{3}\\b\"     # Matches 3 letter words\n",
    "matches = re.findall(pattern, text)\n",
    "print(\"Matches:\", matches)"
   ]
  },
  {
   "cell_type": "markdown",
   "id": "f20b815f-12b0-482b-91d5-4e21ab724343",
   "metadata": {},
   "source": [
    "### Anchor"
   ]
  },
  {
   "cell_type": "code",
   "execution_count": 27,
   "id": "e61d9311-3435-48c9-a635-0d9caf106a0c",
   "metadata": {},
   "outputs": [
    {
     "name": "stdout",
     "output_type": "stream",
     "text": [
      "Matches: ['India']\n"
     ]
    }
   ],
   "source": [
    "pattern = r\"^India\"\n",
    "matches = re.findall(pattern, text)\n",
    "print(\"Matches:\", matches)"
   ]
  },
  {
   "cell_type": "markdown",
   "id": "22828726-c749-4590-a812-aaee144656e9",
   "metadata": {},
   "source": [
    "# Grouping and Capturing"
   ]
  },
  {
   "cell_type": "code",
   "execution_count": 28,
   "id": "131aba6e-2e9b-4052-ba07-b36fb4adee36",
   "metadata": {},
   "outputs": [
    {
     "name": "stdout",
     "output_type": "stream",
     "text": [
      "Matches: India is the seventh largest country in the world.\n"
     ]
    }
   ],
   "source": [
    "pattern = r\"(\\w+)\\s(\\w+)\"     # Matches two consecutive words\n",
    "matches = re.findall(pattern, text)\n",
    "print(\"Matches:\", text)"
   ]
  },
  {
   "cell_type": "markdown",
   "id": "6c06d353-766f-4dfe-9856-ae5f8218e4a8",
   "metadata": {},
   "source": [
    "# Using Regex for Tokenization\n",
    "Regex is also useful for tokenizing text into words or sentences."
   ]
  },
  {
   "cell_type": "markdown",
   "id": "c7a426c7-0261-4273-905a-4b79e2a4f7ec",
   "metadata": {},
   "source": [
    "### Tokenizing into Words"
   ]
  },
  {
   "cell_type": "code",
   "execution_count": 29,
   "id": "862420e4-073d-4d52-a4c6-f381d75b5871",
   "metadata": {},
   "outputs": [
    {
     "name": "stdout",
     "output_type": "stream",
     "text": [
      "Words: ['India', 'is', 'the', 'seventh', 'largest', 'country', 'in', 'the', 'world.']\n"
     ]
    }
   ],
   "source": [
    "pattern = r\"\\s\"    # Split on spaces\n",
    "words = re.split(pattern, text)\n",
    "print(\"Words:\", words)"
   ]
  },
  {
   "cell_type": "markdown",
   "id": "ee10cc68-ca52-4148-a4c6-56f8070792c5",
   "metadata": {},
   "source": [
    "### Tokenizing into Sentences"
   ]
  },
  {
   "cell_type": "code",
   "execution_count": 30,
   "id": "00510334-60f9-41d1-bc88-2ad417270903",
   "metadata": {},
   "outputs": [
    {
     "name": "stdout",
     "output_type": "stream",
     "text": [
      "Sentences: ['India is the seventh largest country in the world.']\n"
     ]
    }
   ],
   "source": [
    "pattern = r\"\\.\\s\"    # split after period followed ny a space\n",
    "sentences = re.split(pattern, text)\n",
    "print(\"Sentences:\", sentences)"
   ]
  },
  {
   "cell_type": "code",
   "execution_count": null,
   "id": "aa41d427-633c-42ff-a89f-010b9f01323d",
   "metadata": {},
   "outputs": [],
   "source": []
  }
 ],
 "metadata": {
  "kernelspec": {
   "display_name": "Python 3 (ipykernel)",
   "language": "python",
   "name": "python3"
  },
  "language_info": {
   "codemirror_mode": {
    "name": "ipython",
    "version": 3
   },
   "file_extension": ".py",
   "mimetype": "text/x-python",
   "name": "python",
   "nbconvert_exporter": "python",
   "pygments_lexer": "ipython3",
   "version": "3.10.8"
  }
 },
 "nbformat": 4,
 "nbformat_minor": 5
}
