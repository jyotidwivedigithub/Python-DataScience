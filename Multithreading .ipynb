{
 "cells": [
  {
   "cell_type": "code",
   "execution_count": null,
   "id": "10aa54f9-aac0-45d1-a686-fa0012160ddb",
   "metadata": {},
   "outputs": [],
   "source": [
    "import threading\n",
    "def test(id) :\n",
    "    print(\"Prog start %d \" % id)            # % is placeholder\n",
    "print(test(10))"
   ]
  },
  {
   "cell_type": "code",
   "execution_count": null,
   "id": "c1b43a24-629b-4d55-9937-ce709210697e",
   "metadata": {},
   "outputs": [],
   "source": [
    "thread = [\"threading.Thread(targrt=test , args=(i,) )for i in range(10)\"]\n",
    "for t in thread :\n",
    "    t.start()\n",
    "print(test)\n",
    "print(list(range(10)))\n",
    "print(thread)\n",
    "print(id(thread))"
   ]
  },
  {
   "cell_type": "code",
   "execution_count": null,
   "id": "1ab574eb-a92d-4afc-8701-81e136ba7109",
   "metadata": {
    "jupyter": {
     "source_hidden": true
    },
    "tags": []
   },
   "outputs": [],
   "source": [
    "import threading\n",
    "import urllib.request                 # import file/data from net\n",
    "\n",
    "def file_download(url , filename) :             # for single file\n",
    "    urllib.request.urlretrive(url , filename)\n",
    "\n",
    "file_download(\"url1\",\"url2\",\"url3\"  , \"test.txt\")      # for multiple thread\n",
    "url_list = [\"url1\",\"url2\",\"url3\"]\n",
    "print(url_list)\n",
    "\n",
    "filename_list = [\"data1.txt\",\"data2.txt\",\"data3.txt\"]\n",
    "thread = [\"threading.Thread(target=file_download, args=(url[i],filename_list[i])),for i in range(len(urk_list))\"]\n",
    "print(thread)\n",
    "\n",
    "for t in thread:\n",
    "    t.start()\n",
    "print(file_download)\n"
   ]
  },
  {
   "cell_type": "code",
   "execution_count": null,
   "id": "ec264ad1-6832-4496-a94c-94a4394671c1",
   "metadata": {},
   "outputs": [],
   "source": [
    "# for Single Threading\n",
    "import time\n",
    "\n",
    "def test1(id):\n",
    "    for i in range(10):\n",
    "        print(\"test1 %d printing %d \" %(id, i))\n",
    "        print(time.sleep(1))\n",
    "print(test1(1))"
   ]
  },
  {
   "cell_type": "code",
   "execution_count": null,
   "id": "4d23f8f8-3d9f-4ba7-821d-463511d44129",
   "metadata": {},
   "outputs": [],
   "source": [
    "## for Multiple Threading\n",
    "thread1 = [threading.Thread(target=test1, args=(i,))for i in range(3)]\n",
    "for t in thread :\n",
    "    t.thread1()\n",
    "print(test1)"
   ]
  },
  {
   "cell_type": "code",
   "execution_count": null,
   "id": "94707b31-d466-4aed-82be-62e9916ffad8",
   "metadata": {},
   "outputs": [],
   "source": [
    "## Resource Utilization.... time.ctime()\n",
    "import time\n",
    "\n",
    "def test1(id):\n",
    "    for i in range(10):\n",
    "        print(\"test1 %d printing %d %s \" %(id,i,time.ctime()))\n",
    "        print(time.sleep(1))\n",
    "print(test1(1))"
   ]
  },
  {
   "cell_type": "code",
   "execution_count": null,
   "id": "126d72ae-ea60-44eb-b728-5ca02e5f1b22",
   "metadata": {},
   "outputs": [],
   "source": [
    "shared_var = 0\n",
    "lock_var = threading.Lock()\n",
    "\n",
    "def test2(id):\n",
    "    global shared_var\n",
    "    with lock_var :\n",
    "        shared_var = shared_var +1\n",
    "        print(\"test2 id is %d has increased the shared variable by %d\" %(id, shared_var))\n",
    "\n",
    "thread2 = [threading.Thread(target=test2, args=(id,)) for i in range(10)]\n",
    "print(thread2)\n",
    "\n",
    "for t in thread2 :\n",
    "    t.start()\n",
    "print(test2)\n"
   ]
  },
  {
   "cell_type": "code",
   "execution_count": null,
   "id": "a7ddfffd-c720-40b6-a0af-dc48cd176aae",
   "metadata": {},
   "outputs": [],
   "source": []
  }
 ],
 "metadata": {
  "kernelspec": {
   "display_name": "Python 3 (ipykernel)",
   "language": "python",
   "name": "python3"
  },
  "language_info": {
   "codemirror_mode": {
    "name": "ipython",
    "version": 3
   },
   "file_extension": ".py",
   "mimetype": "text/x-python",
   "name": "python",
   "nbconvert_exporter": "python",
   "pygments_lexer": "ipython3",
   "version": "3.10.8"
  }
 },
 "nbformat": 4,
 "nbformat_minor": 5
}
