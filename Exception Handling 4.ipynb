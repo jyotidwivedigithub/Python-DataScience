{
 "cells": [
  {
   "cell_type": "code",
   "execution_count": 1,
   "id": "4f83e290-c98f-46e3-890a-4905dfdbb5f6",
   "metadata": {},
   "outputs": [],
   "source": [
    "def test(file):\n",
    "    try :\n",
    "        with open(\"test.txt\", \"r\") as f:\n",
    "            test = f.read()\n",
    "    except Exception as e :\n",
    "           print(e)\n",
    "    except FileNotFoundError as e :\n",
    "           print(\"test\", e)"
   ]
  },
  {
   "cell_type": "code",
   "execution_count": 2,
   "id": "f723b6ba-0bb6-402a-97ab-ec480e8b82d7",
   "metadata": {},
   "outputs": [
    {
     "name": "stdout",
     "output_type": "stream",
     "text": [
      "division by zero\n"
     ]
    }
   ],
   "source": [
    "try :\n",
    "    10/0\n",
    "except ZeroDivisionError as e :\n",
    "    print(e)"
   ]
  },
  {
   "cell_type": "code",
   "execution_count": 3,
   "id": "ceee9255-1ba5-44a1-8b88-55f22b1a6efa",
   "metadata": {},
   "outputs": [
    {
     "name": "stdout",
     "output_type": "stream",
     "text": [
      " I am trying to handle a zerodivision error division by zero\n"
     ]
    }
   ],
   "source": [
    "# Print always a proper message\n",
    "try :\n",
    "      10/0\n",
    "except ZeroDivisionError as e :\n",
    "    print(\" I am trying to handle a zerodivision error\" , e)\n"
   ]
  },
  {
   "cell_type": "code",
   "execution_count": 4,
   "id": "23353351-e45b-46b4-8103-81168ac8df1e",
   "metadata": {},
   "outputs": [],
   "source": [
    "# Always try to Log your Error\n",
    "import logging\n",
    "logging.basicConfig(filename = \"error.log\" , level = logging.ERROR)\n",
    "try :\n",
    "    10/0\n",
    "except ZeroDivisionError as e :\n",
    "    logging.error(\"i am trying to handle a zerodivision error {}\".format(e))"
   ]
  },
  {
   "cell_type": "code",
   "execution_count": 5,
   "id": "cd5bc8cc-cfe9-4cf8-a1f8-4a73a6fb059c",
   "metadata": {},
   "outputs": [],
   "source": [
    "# Always avoid to write a multiple exception handling\n",
    "try :\n",
    "    10/0\n",
    "except FileNotFoundError as e :\n",
    "    logging.error(\"i am handling file not found {}\".format(e))\n",
    "except AttributeError as e :\n",
    "    logging.error(\"i am handling Attribute error {}\".format(e))\n",
    "except ZeroDivisionError as e :\n",
    "    logging.error(\"i am handling zerodivision error {}\".format(e))\n"
   ]
  },
  {
   "cell_type": "code",
   "execution_count": 8,
   "id": "fddad7a8-a5cd-41d6-ad34-43eca9a4e382",
   "metadata": {},
   "outputs": [],
   "source": [
    "# Document all the error\n",
    "# Cleanup all the resources\n",
    "try :\n",
    "    with open(\"test.txt\" , \"w\") as f:\n",
    "        f.write(\"this is my data to file\")\n",
    "except FileNotFoundError as e :\n",
    "    logging.error(\"i am handling file not found {}\".format(e) )\n",
    "finally :\n",
    "    f.close()"
   ]
  },
  {
   "cell_type": "code",
   "execution_count": null,
   "id": "2296831a-99a5-4ece-b993-598b190ba76d",
   "metadata": {},
   "outputs": [],
   "source": [
    "####\n",
    "import threading\n",
    "import time\n",
    "\n",
    "def my_function():\n",
    "    print(\"Starting my_function\")\n",
    "    time.sleep(5)\n",
    "    print(\"Finishing my_function\")\n",
    "\n",
    "# Create a Thread object\n",
    "thread = threading.Thread(target=my_function)\n",
    "\n",
    "# Start the thread\n",
    "thread.start()\n",
    "\n",
    "# Check if the thread is still running\n",
    "while thread.is_alive():\n",
    "    print(\"Thread is still running...\")\n",
    "    time.sleep(1)\n",
    "\n",
    "print(\"Thread has finished\")"
   ]
  }
 ],
 "metadata": {
  "kernelspec": {
   "display_name": "Python 3 (ipykernel)",
   "language": "python",
   "name": "python3"
  },
  "language_info": {
   "codemirror_mode": {
    "name": "ipython",
    "version": 3
   },
   "file_extension": ".py",
   "mimetype": "text/x-python",
   "name": "python",
   "nbconvert_exporter": "python",
   "pygments_lexer": "ipython3",
   "version": "3.10.8"
  }
 },
 "nbformat": 4,
 "nbformat_minor": 5
}
