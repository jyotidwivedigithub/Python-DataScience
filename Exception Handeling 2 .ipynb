{
 "cells": [
  {
   "cell_type": "code",
   "execution_count": 1,
   "id": "87a8026e-6f60-4608-9eb3-f08501745b89",
   "metadata": {},
   "outputs": [
    {
     "name": "stdin",
     "output_type": "stream",
     "text": [
      "enter your age -34\n"
     ]
    }
   ],
   "source": [
    "# Custom Exception\n",
    "\n",
    "age = int(input(\"enter your age\"))\n"
   ]
  },
  {
   "cell_type": "code",
   "execution_count": 2,
   "id": "529c74d7-3ccb-4c38-b415-6622b661622f",
   "metadata": {},
   "outputs": [],
   "source": [
    "# -34 is error but not error in sustem \n",
    "# for handeling error we do..."
   ]
  },
  {
   "cell_type": "code",
   "execution_count": 6,
   "id": "75a87841-a63e-4821-8cc6-34664fb3b9e7",
   "metadata": {},
   "outputs": [],
   "source": [
    "class validateage(Exception) :\n",
    "    \n",
    "    def __init__(self, msg) :\n",
    "        self.msg = msg"
   ]
  },
  {
   "cell_type": "code",
   "execution_count": 4,
   "id": "1149b19f-cfef-4f19-963a-e2b70e0edd26",
   "metadata": {},
   "outputs": [],
   "source": [
    "def validateage(age) :\n",
    "    if age < 0 :\n",
    "        raise validateage(\"entered age is negative\" )\n",
    "    elif age > 200 :\n",
    "        raise validateage(\"enter age is very very high\" )\n",
    "    else :\n",
    "        print(\"age is valid\" )"
   ]
  },
  {
   "cell_type": "code",
   "execution_count": 5,
   "id": "4bd3ccfe-c7a7-4b9e-8260-46df3e8207d5",
   "metadata": {},
   "outputs": [
    {
     "name": "stdin",
     "output_type": "stream",
     "text": [
      "enter your age 35\n"
     ]
    },
    {
     "name": "stdout",
     "output_type": "stream",
     "text": [
      "age is valid\n"
     ]
    }
   ],
   "source": [
    "try :\n",
    "    age = int(input(\"enter your age\"))\n",
    "    validateage(age)\n",
    "except validateage as e :\n",
    "    print(e)"
   ]
  },
  {
   "cell_type": "code",
   "execution_count": null,
   "id": "b33eee05-40cd-457e-9f32-0d3550964e06",
   "metadata": {},
   "outputs": [],
   "source": [
    "A custom exception is a user-defined exception that is created to handle specific errors or exceptional situations in a program. Custom exceptions are created by deriving a new class from the base exception class or any other built-in exception class. The custom exception class can provide additional information about the error or provide a different way to handle the error.\n",
    "\n",
    "For example, you might have a custom exception that indicates a certain business rule violation in your application. By raising this custom exception when the business rule is violated, you can ensure that the error is properly handled and reported, and that it can be distinguished from other types of errors in the system.\n",
    "\n",
    "Using custom exceptions can make your code more readable and maintainable, as it makes it easier to understand why an exception was raised and how it should be handled."
   ]
  }
 ],
 "metadata": {
  "kernelspec": {
   "display_name": "Python 3 (ipykernel)",
   "language": "python",
   "name": "python3"
  },
  "language_info": {
   "codemirror_mode": {
    "name": "ipython",
    "version": 3
   },
   "file_extension": ".py",
   "mimetype": "text/x-python",
   "name": "python",
   "nbconvert_exporter": "python",
   "pygments_lexer": "ipython3",
   "version": "3.10.8"
  }
 },
 "nbformat": 4,
 "nbformat_minor": 5
}
