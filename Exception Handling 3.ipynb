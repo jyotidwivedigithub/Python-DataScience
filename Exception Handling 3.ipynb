{
 "cells": [
  {
   "cell_type": "code",
   "execution_count": 3,
   "id": "04bb3b8b-6a69-475f-8e96-4a0f2c28b34c",
   "metadata": {},
   "outputs": [
    {
     "name": "stdout",
     "output_type": "stream",
     "text": [
      "division by zero\n"
     ]
    }
   ],
   "source": [
    "# List of General Use Exceptions\n",
    "try :\n",
    "    a = 20/0\n",
    "except ZeroDivisionError as e:\n",
    "    print(e)"
   ]
  },
  {
   "cell_type": "code",
   "execution_count": 6,
   "id": "03f33e15-857c-4350-92f6-5528f68eaf14",
   "metadata": {},
   "outputs": [
    {
     "name": "stdout",
     "output_type": "stream",
     "text": [
      "invalid literal for int() with base 10: 'Khushbu'\n"
     ]
    }
   ],
   "source": [
    "try :\n",
    "    int(\"Khushbu\")\n",
    "except (ValueError , TypeError) as e:\n",
    "    print(e)"
   ]
  },
  {
   "cell_type": "code",
   "execution_count": 7,
   "id": "b5fb5043-4cb3-45d2-89cb-13c0e75affda",
   "metadata": {},
   "outputs": [
    {
     "name": "stdout",
     "output_type": "stream",
     "text": [
      "this will catch an Error\n"
     ]
    }
   ],
   "source": [
    "try :\n",
    "    int(\"Koyal\")\n",
    "except :\n",
    "    print(\"this will catch an Error\") "
   ]
  },
  {
   "cell_type": "code",
   "execution_count": 8,
   "id": "7fab8946-2093-47b6-82ba-229bd12eff7a",
   "metadata": {},
   "outputs": [
    {
     "name": "stdout",
     "output_type": "stream",
     "text": [
      "No module named 'riya'\n",
      "5.0\n"
     ]
    }
   ],
   "source": [
    "try :\n",
    "    import riya\n",
    "except ImportError as e:\n",
    "    print(e)\n",
    "print(25/5)\n"
   ]
  },
  {
   "cell_type": "code",
   "execution_count": 9,
   "id": "a27da0cd-ff56-4d43-a857-b5c3eb10dc11",
   "metadata": {},
   "outputs": [
    {
     "name": "stdout",
     "output_type": "stream",
     "text": [
      "'key2'\n"
     ]
    }
   ],
   "source": [
    "try :\n",
    "    d = {\"key\":\"sudha\", \"l\":[2,4,6,8]}\n",
    "    print(d[\"key2\"])\n",
    "except KeyError as e:\n",
    "    print(e)"
   ]
  },
  {
   "cell_type": "code",
   "execution_count": 10,
   "id": "b0bca6ec-e7a1-4e58-a8fa-21484dca4e76",
   "metadata": {},
   "outputs": [
    {
     "name": "stdout",
     "output_type": "stream",
     "text": [
      "'str' object has no attribute 'test'\n"
     ]
    }
   ],
   "source": [
    "try :\n",
    "    #l.test()\n",
    "    \"deepa\".test()\n",
    "except AttributeError as e:\n",
    "    print(e)"
   ]
  },
  {
   "cell_type": "code",
   "execution_count": 11,
   "id": "ebebccb6-371b-405a-a70f-f8cdedc7b216",
   "metadata": {},
   "outputs": [
    {
     "name": "stdout",
     "output_type": "stream",
     "text": [
      "list index out of range\n"
     ]
    }
   ],
   "source": [
    "try :\n",
    "    l=[2,4,6,8,5,3]\n",
    "    print(l[6])\n",
    "except IndexError as e:\n",
    "    print(e)"
   ]
  },
  {
   "cell_type": "code",
   "execution_count": 12,
   "id": "2c4a6c7b-bf1a-44c6-a110-773f67a39fd5",
   "metadata": {},
   "outputs": [
    {
     "name": "stdout",
     "output_type": "stream",
     "text": [
      "unsupported operand type(s) for +: 'int' and 'str'\n"
     ]
    }
   ],
   "source": [
    "try :\n",
    "    123 + \"Gita\"\n",
    "except TypeError as e:\n",
    "    print(e)"
   ]
  },
  {
   "cell_type": "code",
   "execution_count": 13,
   "id": "7ccdc490-76ee-4cf7-a3f3-3127785573f9",
   "metadata": {},
   "outputs": [],
   "source": [
    "try :\n",
    "   #with(\"test.txt\", \"r\") as f :\n",
    "   with open(\"test.txt\", \"r\") as f:\n",
    "        #f.read()\n",
    "        test = f.read()\n",
    "except FileNotFoundError as e :\n",
    "    print(e)"
   ]
  },
  {
   "cell_type": "code",
   "execution_count": 14,
   "id": "b53ec080-8f3c-4891-9918-a815fe1d4c7a",
   "metadata": {},
   "outputs": [
    {
     "name": "stdout",
     "output_type": "stream",
     "text": [
      "['__cause__', '__class__', '__context__', '__delattr__', '__dict__', '__dir__', '__doc__', '__eq__', '__format__', '__ge__', '__getattribute__', '__gt__', '__hash__', '__init__', '__init_subclass__', '__le__', '__lt__', '__ne__', '__new__', '__reduce__', '__reduce_ex__', '__repr__', '__setattr__', '__setstate__', '__sizeof__', '__str__', '__subclasshook__', '__suppress_context__', '__traceback__', 'args', 'with_traceback']\n"
     ]
    }
   ],
   "source": [
    "print(dir(Exception))"
   ]
  },
  {
   "cell_type": "code",
   "execution_count": 15,
   "id": "e21dfb52-bc6a-4893-8eab-5a52d5befd6c",
   "metadata": {},
   "outputs": [],
   "source": [
    "try :\n",
    "    with open(\"test.txt\", \"r\") as f:\n",
    "        test = f.read()\n",
    "except Exception as e :\n",
    "    print(e)\n",
    "except FileNotFoundError as e :\n",
    "    #print(e)\n",
    "    print(\"test\", e)"
   ]
  },
  {
   "cell_type": "code",
   "execution_count": 17,
   "id": "7cd8f627-de24-469b-9ab0-fe2186af238c",
   "metadata": {},
   "outputs": [],
   "source": [
    "def test(file):\n",
    "    try :\n",
    "        with open(\"test.txt\", \"r\") as f:\n",
    "            test = f.read()\n",
    "    except Exception as e :\n",
    "           print(e)\n",
    "    except FileNotFoundError as e :\n",
    "           print(\"test\", e)"
   ]
  },
  {
   "cell_type": "code",
   "execution_count": null,
   "id": "d7fe97d4-1958-40ed-bdbb-d76f8768f01d",
   "metadata": {},
   "outputs": [],
   "source": []
  }
 ],
 "metadata": {
  "kernelspec": {
   "display_name": "Python 3 (ipykernel)",
   "language": "python",
   "name": "python3"
  },
  "language_info": {
   "codemirror_mode": {
    "name": "ipython",
    "version": 3
   },
   "file_extension": ".py",
   "mimetype": "text/x-python",
   "name": "python",
   "nbconvert_exporter": "python",
   "pygments_lexer": "ipython3",
   "version": "3.10.8"
  }
 },
 "nbformat": 4,
 "nbformat_minor": 5
}
