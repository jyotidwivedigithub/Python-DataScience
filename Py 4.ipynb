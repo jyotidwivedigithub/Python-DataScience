{
 "cells": [
  {
   "cell_type": "code",
   "execution_count": 1,
   "id": "fa54dd72-5bf7-404a-86e7-7f189ef9f644",
   "metadata": {},
   "outputs": [],
   "source": [
    "Q1. Create a class called \"Person\" with properties for \"name\", \"age\", and \"gender\". Create an object of this\n",
    "    class and print out its properties.\n",
    "Ans.\n",
    "    class Person:\n",
    "    # Constructor method to initialize the name, age, and gender properties\n",
    "    def __init__(self, name, age, gender):\n",
    "        self.name = name\n",
    "        self.age = age\n",
    "        self.gender = gender\n",
    "\n",
    "    # Create an object of the Person class\n",
    "    person1 = Person(\"John Doe\", 30, \"male\")\n",
    "\n",
    "    # Print out the properties of the person object\n",
    "    print(\"Name:\", person1.name)\n",
    "    print(\"Age:\", person1.age)\n",
    "    print(\"Gender:\", person1.gender)\n",
    "    \n",
    "Q2. Write a Python class called \"Rectangle\" with attributes for \"width\" and \"height\". Implement methods\n",
    "to calculate the area and perimeter of the rectangle. Create an instance of this class and use it to print out\n",
    "the rectangle's area and perimeter.\n",
    "Ans.\n",
    "    "
   ]
  },
  {
   "cell_type": "code",
   "execution_count": 1,
   "id": "473c5f5d-239e-47c7-b956-62dea50c7b2e",
   "metadata": {},
   "outputs": [],
   "source": []
  },
  {
   "cell_type": "code",
   "execution_count": null,
   "id": "787ec60d-0f3c-44eb-b099-73e7baacb631",
   "metadata": {},
   "outputs": [],
   "source": [
    "Q3. Write a Python class called \"BankAccount\" with attributes for \"balance\" and \"interest_rate\".\n",
    "Implement methods to deposit and withdraw money from the account, as well as to calculate the interest\n",
    "earned on the balance based on the interest rate. Create an instance of this class and use it to test out the\n",
    "implemented methods for deposit, withdrawal, and interest calculation.\n",
    "Q4. Write a Python class called \"Animal\" with attributes for \"name\" and \"species\". Create a subclass of\n",
    "\"Animal\" called \"Dog\" with additional attributes for \"breed\" and \"owner\". Implement both classes with\n",
    "appropriate methods and constructors to initialise their properties. Create instances of both classes and\n",
    "use them to print out the various properties of the animals and dogs, such as their names, species,\n",
    "breeds, and owners.\n",
    "Q5. Create a class called \"Car\" with properties for \"make\", \"model\", and \"year\". Create a subclass of \"Car\"\n",
    "called \"ElectricCar\" with additional properties for \"battery_size\" and \"range\". Create objects of both\n",
    "classes and print out their properties.\n",
    "Q6. Create a class called \"Student\" with properties for \"name\" and \"id\". Create a subclass of \"Student\"\n",
    "called \"GraduateStudent\" with additional properties for \"advisor\" and \"research_area\". Create objects of\n",
    "both classes and print out their properties.\n",
    "Q7. Create a class called \"Shape\" with methods to calculate the area and perimeter of the shape. Create\n",
    "subclasses of \"Shape\" for \"Rectangle\", \"Circle\", and \"Triangle\" with their own methods for calculating area\n",
    "and perimeter. Create objects of each class and print out their area and perimeter.\n",
    "Q8. Create a class called \"Employee\" with properties for \"name\", \"id\", and \"salary\". Add methods to give\n",
    "the employee a raise and to calculate their annual salary. Create objects of this class and test out the\n",
    "methods.\n",
    "Q9. Create a class called \"Book\" with properties for \"title\", \"author\", and \"publisher\". Create a subclass of\n",
    "\"Book\" called \"Ebook\" with additional properties for \"file_format\" and \"file_size\". Create objects of both\n",
    "classes and print out their properties.\n",
    "Q10. Create a class called \"Bank\" with properties for \"name\" and \"accounts\". Add methods to create new\n",
    "accounts, deposit and withdraw money from accounts, and to calculate the total balance of all accounts.\n",
    "Create an object of this class and test out the methods."
   ]
  },
  {
   "cell_type": "code",
   "execution_count": null,
   "id": "bde6ec32-dc6b-4bd9-9027-3335f30fa587",
   "metadata": {},
   "outputs": [],
   "source": [
    "Q1. Create a class called \"Person\" with properties for \"name\", \"age\", and \"gender\". Create an object of this\n",
    "    class and print out its properties."
   ]
  },
  {
   "cell_type": "code",
   "execution_count": 4,
   "id": "4d19aca4-f935-4d60-8c41-4222e910d627",
   "metadata": {},
   "outputs": [
    {
     "name": "stdout",
     "output_type": "stream",
     "text": [
      "Name: John Doe\n",
      "Age: 30\n",
      "Gender: male\n"
     ]
    }
   ],
   "source": [
    "class Person:\n",
    "    # Constructor method to initialize the name, age, and gender properties\n",
    "    def __init__(self, name, age, gender):\n",
    "        self.name = name\n",
    "        self.age = age\n",
    "        self.gender = gender\n",
    "\n",
    "# Create an object of the Person class\n",
    "person1 = Person(\"John Doe\", 30, \"male\")\n",
    "\n",
    "# Print out the properties of the person object\n",
    "print(\"Name:\", person1.name)\n",
    "print(\"Age:\", person1.age)\n",
    "print(\"Gender:\", person1.gender)"
   ]
  },
  {
   "cell_type": "code",
   "execution_count": null,
   "id": "333a4239-348b-4df3-8c4b-2149bca87339",
   "metadata": {},
   "outputs": [],
   "source": [
    "Q2. Write a Python class called \"Rectangle\" with attributes for \"width\" and \"height\". Implement methods to \n",
    "    calculate the area and perimeter of the rectangle. Createan instance of this class and use it to print out \n",
    "    the rectangle's area and perimeter.\n"
   ]
  },
  {
   "cell_type": "code",
   "execution_count": 6,
   "id": "8f2963f5-8ba1-4f32-9a34-aed5ec8e3c83",
   "metadata": {},
   "outputs": [
    {
     "name": "stdout",
     "output_type": "stream",
     "text": [
      "Area: 50\n",
      "Perimeter: 30\n"
     ]
    }
   ],
   "source": [
    "class Rectangle:\n",
    "    # Constructor method to initialize the width and height properties\n",
    "    def __init__(self, width, height):\n",
    "        self.width = width\n",
    "        self.height = height\n",
    "    \n",
    "    # Method to calculate the area of the rectangle\n",
    "    def area(self):\n",
    "        return self.width * self.height\n",
    "    \n",
    "    # Method to calculate the perimeter of the rectangle\n",
    "    def perimeter(self):\n",
    "        return 2 * (self.width + self.height)\n",
    "\n",
    "# Create an object of the Rectangle class\n",
    "rect1 = Rectangle(5, 10)\n",
    "\n",
    "# Print out the area and perimeter of the rectangle object\n",
    "print(\"Area:\", rect1.area())\n",
    "print(\"Perimeter:\", rect1.perimeter())"
   ]
  },
  {
   "cell_type": "code",
   "execution_count": 7,
   "id": "5cbb1d06-9f0f-43f6-bfd2-0081b9ba491d",
   "metadata": {},
   "outputs": [
    {
     "ename": "SyntaxError",
     "evalue": "invalid syntax (4059967502.py, line 1)",
     "output_type": "error",
     "traceback": [
      "\u001b[0;36m  Cell \u001b[0;32mIn[7], line 1\u001b[0;36m\u001b[0m\n\u001b[0;31m    Q3. Write a Python class called \"BankAccount\" with attributes for \"balance\" and \"interest_rate\".\u001b[0m\n\u001b[0m              ^\u001b[0m\n\u001b[0;31mSyntaxError\u001b[0m\u001b[0;31m:\u001b[0m invalid syntax\n"
     ]
    }
   ],
   "source": [
    "Q3. Write a Python class called \"BankAccount\" with attributes for \"balance\" and \"interest_rate\".\n",
    "    Implement methods to deposit and withdraw money from the account, as well as to calculate the interest\n",
    "    earned on the balance based on the interest rate. Create an instance of this class and use it to test out the\n",
    "    implemented methods for deposit, withdrawal, and interest calculation."
   ]
  },
  {
   "cell_type": "code",
   "execution_count": 8,
   "id": "c31921d3-853b-4ae9-8912-cc92858e33ea",
   "metadata": {},
   "outputs": [
    {
     "name": "stdout",
     "output_type": "stream",
     "text": [
      "Balance: 1300\n",
      "Interest earned: 19.5\n"
     ]
    }
   ],
   "source": [
    "class BankAccount:\n",
    "    # Constructor method to initialize the balance and interest_rate properties\n",
    "    def __init__(self, balance, interest_rate):\n",
    "        self.balance = balance\n",
    "        self.interest_rate = interest_rate\n",
    "    \n",
    "    # Method to deposit money into the account\n",
    "    def deposit(self, amount):\n",
    "        self.balance += amount\n",
    "    \n",
    "    # Method to withdraw money from the account\n",
    "    def withdraw(self, amount):\n",
    "        self.balance -= amount\n",
    "    \n",
    "    # Method to calculate the interest earned on the balance\n",
    "    def calculate_interest(self):\n",
    "        return self.balance * self.interest_rate / 100\n",
    "\n",
    "# Create an object of the BankAccount class\n",
    "account1 = BankAccount(1000, 1.5)\n",
    "\n",
    "# Test out the deposit and withdraw methods\n",
    "account1.deposit(500)\n",
    "account1.withdraw(200)\n",
    "\n",
    "# Test out the calculate_interest method\n",
    "interest_earned = account1.calculate_interest()\n",
    "\n",
    "# Print out the balance and interest earned on the account\n",
    "print(\"Balance:\", account1.balance)\n",
    "print(\"Interest earned:\", interest_earned)"
   ]
  },
  {
   "cell_type": "code",
   "execution_count": null,
   "id": "f269abdb-47e4-409a-a5d8-fca33f7d080e",
   "metadata": {},
   "outputs": [],
   "source": [
    "Q4. Write a Python class called \"Animal\" with attributes for \"name\" and \"species\". Create a subclass of\n",
    "    \"Animal\" called \"Dog\" with additional attributes for \"breed\" and \"owner\". Implement both classes with\n",
    "    appropriate methods and constructors to initialise their properties. Create instances of both classes and\n",
    "    use them to print out the various properties of the animals and dogs, such as their names, species,\n",
    "    breeds, and owners."
   ]
  },
  {
   "cell_type": "code",
   "execution_count": 10,
   "id": "e53cf72e-fa4d-4906-8d32-33cc438d0909",
   "metadata": {},
   "outputs": [
    {
     "name": "stdout",
     "output_type": "stream",
     "text": [
      "Animal name: Tiger\n",
      "Animal species: Feline\n",
      "Dog name: Max\n",
      "Dog species: Canine\n",
      "Dog breed: Labrador Retriever\n"
     ]
    }
   ],
   "source": [
    "class Animal:\n",
    "    # Constructor method to initialize the name and species properties\n",
    "    def __init__(self, name, species):\n",
    "        self.name = name\n",
    "        self.species = species\n",
    "    \n",
    "# Define the Dog subclass, which inherits from Animal\n",
    "class Dog(Animal):\n",
    "    # Constructor method to initialize the breed and owner properties\n",
    "    def __init__(self, name, species, breed, owner):\n",
    "        # Call the parent class's constructor to initialize the name and species properties\n",
    "        super().__init__(name, species)\n",
    "        self.breed = breed\n",
    "        self.owner = owner\n",
    "\n",
    "# Create an object of the Animal class\n",
    "animal1 = Animal(\"Tiger\", \"Feline\")\n",
    "\n",
    "# Create an object of the Dog class\n",
    "dog1 = Dog(\"Max\", \"Canine\", \"Labrador Retriever\", \"John\")\n",
    "\n",
    "# Print out the properties of the animal1 object\n",
    "print(\"Animal name:\", animal1.name)\n",
    "print(\"Animal species:\", animal1.species)\n",
    "\n",
    "# Print out the properties of the dog1 object\n",
    "print(\"Dog name:\", dog1.name)\n",
    "print(\"Dog species:\", dog1.species)\n",
    "print(\"Dog breed:\", dog1.breed)"
   ]
  },
  {
   "cell_type": "code",
   "execution_count": null,
   "id": "e0bc8d1b-d0ad-4619-9552-fa552df7179e",
   "metadata": {},
   "outputs": [],
   "source": [
    "Q5. Create a class called \"Car\" with properties for \"make\", \"model\", and \"year\". Create a subclass of \"Car\"\n",
    "    called \"ElectricCar\" with additional properties for \"battery_size\" and \"range\". Create objects of both\n",
    "    classes and print out their properties."
   ]
  },
  {
   "cell_type": "code",
   "execution_count": 12,
   "id": "d1577c9c-093a-484c-b9f7-fa5fdcb9c9e4",
   "metadata": {},
   "outputs": [
    {
     "name": "stdout",
     "output_type": "stream",
     "text": [
      "Car make: Toyota\n",
      "Car model: Camry\n",
      "Car year: 2019\n",
      "Electric car make: Tesla\n",
      "Electric car model: Model 3\n",
      "Electric car year: 2021\n",
      "Electric car battery size: 75\n",
      "Electric car range: 263\n"
     ]
    }
   ],
   "source": [
    "class Car:\n",
    "    # Constructor method to initialize the make, model, and year properties\n",
    "    def __init__(self, make, model, year):\n",
    "        self.make = make\n",
    "        self.model = model\n",
    "        self.year = year\n",
    "\n",
    "# Define the ElectricCar subclass, which inherits from Car\n",
    "class ElectricCar(Car):\n",
    "    # Constructor method to initialize the battery_size and range properties\n",
    "    def __init__(self, make, model, year, battery_size, range):\n",
    "        # Call the parent class's constructor to initialize the make, model, and year properties\n",
    "        super().__init__(make, model, year)\n",
    "        self.battery_size = battery_size\n",
    "        self.range = range\n",
    "\n",
    "# Create an object of the Car class\n",
    "car1 = Car(\"Toyota\", \"Camry\", 2019)\n",
    "\n",
    "# Create an object of the ElectricCar class\n",
    "electric_car1 = ElectricCar(\"Tesla\", \"Model 3\", 2021, 75, 263)\n",
    "\n",
    "# Print out the properties of the car1 object\n",
    "print(\"Car make:\", car1.make)\n",
    "print(\"Car model:\", car1.model)\n",
    "print(\"Car year:\", car1.year)\n",
    "\n",
    "# Print out the properties of the electric_car1 object\n",
    "print(\"Electric car make:\", electric_car1.make)\n",
    "print(\"Electric car model:\", electric_car1.model)\n",
    "print(\"Electric car year:\", electric_car1.year)\n",
    "print(\"Electric car battery size:\", electric_car1.battery_size)\n",
    "print(\"Electric car range:\", electric_car1.range)"
   ]
  },
  {
   "cell_type": "code",
   "execution_count": null,
   "id": "879c67c8-fa90-4f61-90ba-913c0a71eff2",
   "metadata": {},
   "outputs": [],
   "source": [
    "Q6. Create a class called \"Student\" with properties for \"name\" and \"id\". Create a subclass of \"Student\"\n",
    "    called \"GraduateStudent\" with additional properties for \"advisor\" and \"research_area\". Create objects of\n",
    "    both classes and print out their properties."
   ]
  },
  {
   "cell_type": "code",
   "execution_count": null,
   "id": "f4362039-67ea-442b-b563-d8dda4995d2c",
   "metadata": {},
   "outputs": [],
   "source": []
  }
 ],
 "metadata": {
  "kernelspec": {
   "display_name": "Python 3 (ipykernel)",
   "language": "python",
   "name": "python3"
  },
  "language_info": {
   "codemirror_mode": {
    "name": "ipython",
    "version": 3
   },
   "file_extension": ".py",
   "mimetype": "text/x-python",
   "name": "python",
   "nbconvert_exporter": "python",
   "pygments_lexer": "ipython3",
   "version": "3.10.8"
  }
 },
 "nbformat": 4,
 "nbformat_minor": 5
}
