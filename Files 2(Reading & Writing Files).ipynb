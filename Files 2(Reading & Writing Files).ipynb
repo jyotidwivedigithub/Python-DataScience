{
 "cells": [
  {
   "cell_type": "code",
   "execution_count": 1,
   "id": "d8ad11a7-a236-49e7-bb1d-796ff270c379",
   "metadata": {},
   "outputs": [],
   "source": [
    "# Reading and writing Files"
   ]
  },
  {
   "cell_type": "code",
   "execution_count": 1,
   "id": "718eb71f-43f7-424f-9295-08a114cdca7e",
   "metadata": {},
   "outputs": [],
   "source": [
    "data = {\n",
    "    \"name\" : \"subh\",\n",
    "    \"mail_id\" : \"subh@gmail.com\",\n",
    "    \"phone number\" : 1234567890,\n",
    "    \"subject\" : [\"data science\" , \"big data\" , \"data analytics\" ]\n",
    "}"
   ]
  },
  {
   "cell_type": "code",
   "execution_count": 2,
   "id": "e54c3295-09c2-47db-80d5-32cc7a5627c6",
   "metadata": {},
   "outputs": [],
   "source": [
    "# Data write in JSON file\n",
    "import json"
   ]
  },
  {
   "cell_type": "code",
   "execution_count": 3,
   "id": "bebc703b-1daa-4693-b656-9f1426a4f4be",
   "metadata": {},
   "outputs": [],
   "source": [
    "with open(\"data.json\" , \"w\" ) as f:\n",
    "    json.dump(data , f)"
   ]
  },
  {
   "cell_type": "code",
   "execution_count": 4,
   "id": "a74edd9b-e788-4460-ba6a-28f2345627aa",
   "metadata": {},
   "outputs": [],
   "source": [
    "with open(\"data.json\" , \"r\") as f:\n",
    "     data1 = json.load(f)"
   ]
  },
  {
   "cell_type": "code",
   "execution_count": 5,
   "id": "a706522c-9680-4f07-bc00-f62f5137612d",
   "metadata": {},
   "outputs": [
    {
     "data": {
      "text/plain": [
       "{'name': 'subh',\n",
       " 'mail_id': 'subh@gmail.com',\n",
       " 'phone number': 1234567890,\n",
       " 'subject': ['data science', 'big data', 'data analytics']}"
      ]
     },
     "execution_count": 5,
     "metadata": {},
     "output_type": "execute_result"
    }
   ],
   "source": [
    "data1"
   ]
  },
  {
   "cell_type": "code",
   "execution_count": 6,
   "id": "8bf95f59-c244-43be-8e74-c52a6710bd4c",
   "metadata": {},
   "outputs": [
    {
     "data": {
      "text/plain": [
       "'big data'"
      ]
     },
     "execution_count": 6,
     "metadata": {},
     "output_type": "execute_result"
    }
   ],
   "source": [
    "data1['subject'][1]"
   ]
  },
  {
   "cell_type": "code",
   "execution_count": 13,
   "id": "47db7b10-0558-4c5d-b03e-8cb35badec06",
   "metadata": {},
   "outputs": [],
   "source": [
    "# Data write in CSV file\n",
    "import csv"
   ]
  },
  {
   "cell_type": "code",
   "execution_count": 8,
   "id": "c26b592b-f6da-45fc-b527-4833862f4279",
   "metadata": {},
   "outputs": [],
   "source": [
    "data = [[\"name\" , \"email_id\" , \"phone_number\"],\n",
    "        [\"subhansh\" , \"subhansh@gmail.com\" , 12345],\n",
    "        [\"Krishna\" , \"krishna@gmail.com\" , 23456]\n",
    "]"
   ]
  },
  {
   "cell_type": "code",
   "execution_count": null,
   "id": "8446fdcf-c348-4b06-a52e-ba83f3ab6a3d",
   "metadata": {},
   "outputs": [],
   "source": [
    "with open(\"data.csv\" , \"w\") as f:\n",
    "    writer = csv.write(f)\n",
    "    \n",
    "    for i in data:\n",
    "        writer.writerow(i)"
   ]
  },
  {
   "cell_type": "code",
   "execution_count": 15,
   "id": "44df6238-2f01-44b0-8127-45cd97e5e024",
   "metadata": {},
   "outputs": [],
   "source": [
    "with open(\"data.csv\" , 'r') as f :\n",
    "    read_data = csv.reader(f)\n",
    "    \n",
    "    for i in read_data:\n",
    "        print(i)"
   ]
  },
  {
   "cell_type": "code",
   "execution_count": 16,
   "id": "8cfcff21-3379-49bf-9589-805802b533cb",
   "metadata": {},
   "outputs": [
    {
     "name": "stdout",
     "output_type": "stream",
     "text": [
      "9\n"
     ]
    }
   ],
   "source": [
    "# Data write in binary file\n",
    "with open(\"test4.bin\" , \"wb\" ) as f :\n",
    "    print(f.write(b\"\\x01\\x02\\x03\\x3454235\"))"
   ]
  },
  {
   "cell_type": "code",
   "execution_count": 17,
   "id": "71b65dea-5789-441a-a37b-748b4ab488e2",
   "metadata": {},
   "outputs": [
    {
     "name": "stdout",
     "output_type": "stream",
     "text": [
      "b'\\x01\\x02\\x03454235'\n"
     ]
    }
   ],
   "source": [
    "with open(\"test4.bin\" , \"rb\" ) as f :\n",
    "    print(f.read())"
   ]
  },
  {
   "cell_type": "code",
   "execution_count": null,
   "id": "01a6a524-a1df-43fc-8873-60104260c55e",
   "metadata": {},
   "outputs": [],
   "source": []
  }
 ],
 "metadata": {
  "kernelspec": {
   "display_name": "Python 3 (ipykernel)",
   "language": "python",
   "name": "python3"
  },
  "language_info": {
   "codemirror_mode": {
    "name": "ipython",
    "version": 3
   },
   "file_extension": ".py",
   "mimetype": "text/x-python",
   "name": "python",
   "nbconvert_exporter": "python",
   "pygments_lexer": "ipython3",
   "version": "3.10.8"
  }
 },
 "nbformat": 4,
 "nbformat_minor": 5
}
