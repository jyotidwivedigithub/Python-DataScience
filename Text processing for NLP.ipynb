{
 "cells": [
  {
   "cell_type": "markdown",
   "id": "0f9f69dc-b686-49aa-b4f4-cb9770efcdcb",
   "metadata": {},
   "source": [
    "### Import important libraries"
   ]
  },
  {
   "cell_type": "code",
   "execution_count": null,
   "id": "77ad22c4-70bb-4a73-9a07-883c5d37a89e",
   "metadata": {},
   "outputs": [],
   "source": [
    "pip install nltk"
   ]
  },
  {
   "cell_type": "code",
   "execution_count": null,
   "id": "29210cfd-5a90-4228-9780-bcdadb4e42f1",
   "metadata": {},
   "outputs": [],
   "source": [
    "import re\n",
    "from nltk.tokenize import word_tokenize, sent_tokenize\n",
    "from nltk.corpus import stopwords\n",
    "from nltk.stem import PorterStemmer, WordNetLemmatizer"
   ]
  },
  {
   "cell_type": "markdown",
   "id": "16c6f1f6-8531-4683-8aec-bb749646ae26",
   "metadata": {},
   "source": [
    "### Sample Text"
   ]
  },
  {
   "cell_type": "code",
   "execution_count": null,
   "id": "615f04d9-a9b9-4da9-aeea-b446c452a6fe",
   "metadata": {},
   "outputs": [],
   "source": [
    "sample_text = '''\n",
    "Python is a high-level, general-purpose programming language. Its design philosophy emphasizes code readability with \n",
    "the use of significant indentation.Python is dynamically typed and garbage-collected. It supports multiple programming\n",
    "paradigms, including structured (particularly procedural), object-oriented and functional programming. It is often \n",
    "described as a \"batteries included\" language due to its comprehensive standard library.\n",
    "'''"
   ]
  },
  {
   "cell_type": "markdown",
   "id": "10ed33ff-0bc6-435b-a80c-cec72cceddb1",
   "metadata": {},
   "source": [
    "### Tokenization"
   ]
  },
  {
   "cell_type": "code",
   "execution_count": null,
   "id": "e1202879-9d80-47c2-b7e5-b3820056ff66",
   "metadata": {},
   "outputs": [],
   "source": [
    "import nltk\n",
    "nltk.download('punkt')\n",
    "nltk.download('stopwords')\n",
    "nltk.download('wordnet')"
   ]
  },
  {
   "cell_type": "code",
   "execution_count": null,
   "id": "ef5476a9-7b38-44af-8765-96d4afaa5714",
   "metadata": {},
   "outputs": [],
   "source": [
    "sentences = sent_tokenize(sample_text)\n",
    "sentences"
   ]
  },
  {
   "cell_type": "code",
   "execution_count": null,
   "id": "e5a6536c-f062-4176-aed9-75c209d1b6c0",
   "metadata": {},
   "outputs": [],
   "source": [
    "words = [word_tokenize(sentence) for sentence in sentences]\n",
    "words"
   ]
  },
  {
   "cell_type": "markdown",
   "id": "6e994a3b-9658-467d-bc21-01b2e60be097",
   "metadata": {},
   "source": [
    "### Lowercasing and Removing Special Characters"
   ]
  },
  {
   "cell_type": "code",
   "execution_count": 12,
   "id": "0ffd0694-a63e-4733-befa-01e22b4214dd",
   "metadata": {},
   "outputs": [
    {
     "data": {
      "text/plain": [
       "[['pythonisahighlevelgeneralpurposeprogramminglanguage',\n",
       "  'itsdesignphilosophyemphasizescodereadabilitywiththeuseofsignificantindentationpythonisdynamicallytypedandgarbagecollected',\n",
       "  'itsupportsmultipleprogrammingparadigmsincludingstructuredparticularlyproceduralobjectorientedandfunctionalprogramming',\n",
       "  'itisoftendescribedasabatteriesincludedlanguageduetoitscomprehensivestandardlibrary'],\n",
       " ['pythonisahighlevelgeneralpurposeprogramminglanguage',\n",
       "  'itsdesignphilosophyemphasizescodereadabilitywiththeuseofsignificantindentationpythonisdynamicallytypedandgarbagecollected',\n",
       "  'itsupportsmultipleprogrammingparadigmsincludingstructuredparticularlyproceduralobjectorientedandfunctionalprogramming',\n",
       "  'itisoftendescribedasabatteriesincludedlanguageduetoitscomprehensivestandardlibrary'],\n",
       " ['pythonisahighlevelgeneralpurposeprogramminglanguage',\n",
       "  'itsdesignphilosophyemphasizescodereadabilitywiththeuseofsignificantindentationpythonisdynamicallytypedandgarbagecollected',\n",
       "  'itsupportsmultipleprogrammingparadigmsincludingstructuredparticularlyproceduralobjectorientedandfunctionalprogramming',\n",
       "  'itisoftendescribedasabatteriesincludedlanguageduetoitscomprehensivestandardlibrary'],\n",
       " ['pythonisahighlevelgeneralpurposeprogramminglanguage',\n",
       "  'itsdesignphilosophyemphasizescodereadabilitywiththeuseofsignificantindentationpythonisdynamicallytypedandgarbagecollected',\n",
       "  'itsupportsmultipleprogrammingparadigmsincludingstructuredparticularlyproceduralobjectorientedandfunctionalprogramming',\n",
       "  'itisoftendescribedasabatteriesincludedlanguageduetoitscomprehensivestandardlibrary']]"
      ]
     },
     "execution_count": 12,
     "metadata": {},
     "output_type": "execute_result"
    }
   ],
   "source": [
    "# Clean words using regex\n",
    "cleaned_words = [[re.sub(r'[^a-zA-Z0-9]', '', word.lower()) for word in sentences] for sentence in words]\n",
    "cleaned_words"
   ]
  },
  {
   "cell_type": "markdown",
   "id": "46842b43-cdad-4e4d-a674-df79fed52af7",
   "metadata": {},
   "source": [
    "### Removing Stopwords"
   ]
  },
  {
   "cell_type": "code",
   "execution_count": null,
   "id": "8197024b-1a8e-4ab8-9cf7-183a49e6df66",
   "metadata": {},
   "outputs": [],
   "source": [
    "stop_words = set(stopwords.words('english'))\n",
    "stop_words"
   ]
  },
  {
   "cell_type": "code",
   "execution_count": 14,
   "id": "97efef1d-3841-4bb8-9b76-8d71849a13e4",
   "metadata": {},
   "outputs": [
    {
     "data": {
      "text/plain": [
       "[['\\nPython is a high-level, general-purpose programming language.',\n",
       "  'Its design philosophy emphasizes code readability with \\nthe use of significant indentation.Python is dynamically typed and garbage-collected.',\n",
       "  'It supports multiple programming\\nparadigms, including structured (particularly procedural), object-oriented and functional programming.',\n",
       "  'It is often \\ndescribed as a \"batteries included\" language due to its comprehensive standard library.'],\n",
       " ['\\nPython is a high-level, general-purpose programming language.',\n",
       "  'Its design philosophy emphasizes code readability with \\nthe use of significant indentation.Python is dynamically typed and garbage-collected.',\n",
       "  'It supports multiple programming\\nparadigms, including structured (particularly procedural), object-oriented and functional programming.',\n",
       "  'It is often \\ndescribed as a \"batteries included\" language due to its comprehensive standard library.'],\n",
       " ['\\nPython is a high-level, general-purpose programming language.',\n",
       "  'Its design philosophy emphasizes code readability with \\nthe use of significant indentation.Python is dynamically typed and garbage-collected.',\n",
       "  'It supports multiple programming\\nparadigms, including structured (particularly procedural), object-oriented and functional programming.',\n",
       "  'It is often \\ndescribed as a \"batteries included\" language due to its comprehensive standard library.'],\n",
       " ['\\nPython is a high-level, general-purpose programming language.',\n",
       "  'Its design philosophy emphasizes code readability with \\nthe use of significant indentation.Python is dynamically typed and garbage-collected.',\n",
       "  'It supports multiple programming\\nparadigms, including structured (particularly procedural), object-oriented and functional programming.',\n",
       "  'It is often \\ndescribed as a \"batteries included\" language due to its comprehensive standard library.']]"
      ]
     },
     "execution_count": 14,
     "metadata": {},
     "output_type": "execute_result"
    }
   ],
   "source": [
    "filtered_words = [[word for word in sentences if word not in stop_words] for sentence in cleaned_words]\n",
    "filtered_words"
   ]
  },
  {
   "cell_type": "markdown",
   "id": "3811b7e4-7f69-4d9e-9e43-ad075eb69832",
   "metadata": {},
   "source": [
    "### Stemming and Lemmatization"
   ]
  },
  {
   "cell_type": "code",
   "execution_count": 15,
   "id": "341b3712-fe34-4a69-a0c7-75e78859db6d",
   "metadata": {},
   "outputs": [],
   "source": [
    "stemmer = PorterStemmer()\n",
    "lemmatizer = WordNetLemmatizer()"
   ]
  },
  {
   "cell_type": "code",
   "execution_count": 17,
   "id": "37b748d2-3145-471e-aca5-c272cac95079",
   "metadata": {},
   "outputs": [
    {
     "data": {
      "text/plain": [
       "[['\\npython is a high-level, general-purpose programming language.',\n",
       "  'its design philosophy emphasizes code readability with \\nthe use of significant indentation.python is dynamically typed and garbage-collected.',\n",
       "  'it supports multiple programming\\nparadigms, including structured (particularly procedural), object-oriented and functional programming.',\n",
       "  'it is often \\ndescribed as a \"batteries included\" language due to its comprehensive standard library.'],\n",
       " ['\\npython is a high-level, general-purpose programming language.',\n",
       "  'its design philosophy emphasizes code readability with \\nthe use of significant indentation.python is dynamically typed and garbage-collected.',\n",
       "  'it supports multiple programming\\nparadigms, including structured (particularly procedural), object-oriented and functional programming.',\n",
       "  'it is often \\ndescribed as a \"batteries included\" language due to its comprehensive standard library.'],\n",
       " ['\\npython is a high-level, general-purpose programming language.',\n",
       "  'its design philosophy emphasizes code readability with \\nthe use of significant indentation.python is dynamically typed and garbage-collected.',\n",
       "  'it supports multiple programming\\nparadigms, including structured (particularly procedural), object-oriented and functional programming.',\n",
       "  'it is often \\ndescribed as a \"batteries included\" language due to its comprehensive standard library.'],\n",
       " ['\\npython is a high-level, general-purpose programming language.',\n",
       "  'its design philosophy emphasizes code readability with \\nthe use of significant indentation.python is dynamically typed and garbage-collected.',\n",
       "  'it supports multiple programming\\nparadigms, including structured (particularly procedural), object-oriented and functional programming.',\n",
       "  'it is often \\ndescribed as a \"batteries included\" language due to its comprehensive standard library.']]"
      ]
     },
     "execution_count": 17,
     "metadata": {},
     "output_type": "execute_result"
    }
   ],
   "source": [
    "stemmed_words = [[stemmer.stem(word) for word in sentences] for sentence in filtered_words]\n",
    "stemmed_words"
   ]
  },
  {
   "cell_type": "code",
   "execution_count": 19,
   "id": "62414786-fc1d-428e-a0e1-17b8e3315be2",
   "metadata": {},
   "outputs": [
    {
     "data": {
      "text/plain": [
       "[['\\nPython is a high-level, general-purpose programming language.',\n",
       "  'Its design philosophy emphasizes code readability with \\nthe use of significant indentation.Python is dynamically typed and garbage-collected.',\n",
       "  'It supports multiple programming\\nparadigms, including structured (particularly procedural), object-oriented and functional programming.',\n",
       "  'It is often \\ndescribed as a \"batteries included\" language due to its comprehensive standard library.'],\n",
       " ['\\nPython is a high-level, general-purpose programming language.',\n",
       "  'Its design philosophy emphasizes code readability with \\nthe use of significant indentation.Python is dynamically typed and garbage-collected.',\n",
       "  'It supports multiple programming\\nparadigms, including structured (particularly procedural), object-oriented and functional programming.',\n",
       "  'It is often \\ndescribed as a \"batteries included\" language due to its comprehensive standard library.'],\n",
       " ['\\nPython is a high-level, general-purpose programming language.',\n",
       "  'Its design philosophy emphasizes code readability with \\nthe use of significant indentation.Python is dynamically typed and garbage-collected.',\n",
       "  'It supports multiple programming\\nparadigms, including structured (particularly procedural), object-oriented and functional programming.',\n",
       "  'It is often \\ndescribed as a \"batteries included\" language due to its comprehensive standard library.'],\n",
       " ['\\nPython is a high-level, general-purpose programming language.',\n",
       "  'Its design philosophy emphasizes code readability with \\nthe use of significant indentation.Python is dynamically typed and garbage-collected.',\n",
       "  'It supports multiple programming\\nparadigms, including structured (particularly procedural), object-oriented and functional programming.',\n",
       "  'It is often \\ndescribed as a \"batteries included\" language due to its comprehensive standard library.']]"
      ]
     },
     "execution_count": 19,
     "metadata": {},
     "output_type": "execute_result"
    }
   ],
   "source": [
    "lemmatized_words = [[lemmatizer.lemmatize(word) for word in sentences] for sentence in filtered_words]\n",
    "lemmatized_words"
   ]
  },
  {
   "cell_type": "markdown",
   "id": "06ee849b-2278-4262-8267-bba81368b1e7",
   "metadata": {},
   "source": [
    "### Printing Processed Sentences"
   ]
  },
  {
   "cell_type": "code",
   "execution_count": 20,
   "id": "c4759929-4bdc-4785-900d-9d8f6f9ff65c",
   "metadata": {},
   "outputs": [
    {
     "name": "stdout",
     "output_type": "stream",
     "text": [
      "Original Sentences:\n",
      "\n",
      "Python is a high-level, general-purpose programming language.\n",
      "Its design philosophy emphasizes code readability with \n",
      "the use of significant indentation.Python is dynamically typed and garbage-collected.\n",
      "It supports multiple programming\n",
      "paradigms, including structured (particularly procedural), object-oriented and functional programming.\n",
      "It is often \n",
      "described as a \"batteries included\" language due to its comprehensive standard library.\n"
     ]
    }
   ],
   "source": [
    "print(\"Original Sentences:\")\n",
    "for sentence in sentences:\n",
    "    print(sentence)"
   ]
  },
  {
   "cell_type": "code",
   "execution_count": 21,
   "id": "107b2a75-ddd2-46f8-8347-39bceb518141",
   "metadata": {},
   "outputs": [
    {
     "name": "stdout",
     "output_type": "stream",
     "text": [
      "\n",
      "Processed Sentences (Lemmatized):\n",
      "\n",
      "Python is a high-level, general-purpose programming language. Its design philosophy emphasizes code readability with \n",
      "the use of significant indentation.Python is dynamically typed and garbage-collected. It supports multiple programming\n",
      "paradigms, including structured (particularly procedural), object-oriented and functional programming. It is often \n",
      "described as a \"batteries included\" language due to its comprehensive standard library.\n",
      "\n",
      "Python is a high-level, general-purpose programming language. Its design philosophy emphasizes code readability with \n",
      "the use of significant indentation.Python is dynamically typed and garbage-collected. It supports multiple programming\n",
      "paradigms, including structured (particularly procedural), object-oriented and functional programming. It is often \n",
      "described as a \"batteries included\" language due to its comprehensive standard library.\n",
      "\n",
      "Python is a high-level, general-purpose programming language. Its design philosophy emphasizes code readability with \n",
      "the use of significant indentation.Python is dynamically typed and garbage-collected. It supports multiple programming\n",
      "paradigms, including structured (particularly procedural), object-oriented and functional programming. It is often \n",
      "described as a \"batteries included\" language due to its comprehensive standard library.\n",
      "\n",
      "Python is a high-level, general-purpose programming language. Its design philosophy emphasizes code readability with \n",
      "the use of significant indentation.Python is dynamically typed and garbage-collected. It supports multiple programming\n",
      "paradigms, including structured (particularly procedural), object-oriented and functional programming. It is often \n",
      "described as a \"batteries included\" language due to its comprehensive standard library.\n"
     ]
    }
   ],
   "source": [
    "print(\"\\nProcessed Sentences (Lemmatized):\")\n",
    "for sentence in lemmatized_words:\n",
    "    print(' '.join(sentence))"
   ]
  },
  {
   "cell_type": "code",
   "execution_count": null,
   "id": "fc044874-d2a3-47eb-8358-87015bd5d662",
   "metadata": {},
   "outputs": [],
   "source": []
  }
 ],
 "metadata": {
  "kernelspec": {
   "display_name": "Python 3 (ipykernel)",
   "language": "python",
   "name": "python3"
  },
  "language_info": {
   "codemirror_mode": {
    "name": "ipython",
    "version": 3
   },
   "file_extension": ".py",
   "mimetype": "text/x-python",
   "name": "python",
   "nbconvert_exporter": "python",
   "pygments_lexer": "ipython3",
   "version": "3.10.8"
  }
 },
 "nbformat": 4,
 "nbformat_minor": 5
}
