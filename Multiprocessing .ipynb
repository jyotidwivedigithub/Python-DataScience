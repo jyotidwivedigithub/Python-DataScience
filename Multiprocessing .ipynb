{
 "cells": [
  {
   "cell_type": "code",
   "execution_count": 1,
   "id": "c3c77835-7a83-486c-ab58-4963d7b339b3",
   "metadata": {},
   "outputs": [],
   "source": [
    "# Multiprocessing- Multiprocessing is the use of two or more central processing units (CPUs) within a single computer system."
   ]
  },
  {
   "cell_type": "code",
   "execution_count": 18,
   "id": "ffcf7f7e-624f-4801-aa5a-6ef36f30d3bb",
   "metadata": {},
   "outputs": [
    {
     "name": "stdout",
     "output_type": "stream",
     "text": [
      "This is  my multiprocessing Prog.\n",
      "None\n"
     ]
    }
   ],
   "source": [
    "\n",
    "import multiprocessing\n",
    "\n",
    "def test():\n",
    "    print(\"This is  my multiprocessing Prog.\")\n",
    "if __name__ == '__mail__' :                       # Dunder method\n",
    "    m = multiprocessing.Process(target=test)\n",
    "    print(\"This is my main program\")\n",
    "    m.start()\n",
    "    m.join()\n",
    "print(test())"
   ]
  },
  {
   "cell_type": "code",
   "execution_count": 39,
   "id": "1dbd882d-d975-456e-9864-3d9b2ba160d3",
   "metadata": {},
   "outputs": [
    {
     "name": "stdout",
     "output_type": "stream",
     "text": [
      "[1, 4, 9, 16, 25, 36, 49, 64, 81]\n"
     ]
    }
   ],
   "source": [
    "# Multiprocessing with Process and Pool \n",
    "# For Square \n",
    "def square(n):\n",
    "    return n**2\n",
    "if __name__ == '__main__' :\n",
    "    with multiprocessing.Pool(processes=4) as pool:\n",
    "        out=pool.map(square, [1,2,3,4,5,6,7,8,9])\n",
    "        print(out)             \n"
   ]
  },
  {
   "cell_type": "code",
   "execution_count": 40,
   "id": "bf230e9b-a32b-45db-81bc-efc3e3c38f7b",
   "metadata": {},
   "outputs": [],
   "source": [
    "# Multiprocessing with Queue\n",
    "import multiprocessing\n",
    "def producer(q):\n",
    "    for i in range(10):\n",
    "        q.put(i)\n",
    "        \n",
    "def consume(q):\n",
    "    while True:\n",
    "        item = q.get()\n",
    "        if item is None:\n",
    "            break\n",
    "            print(item)\n",
    "            \n",
    "if __name__ == '__main__':\n",
    "    queue = multiprocessing.Queue()\n",
    "    m1 = multiprocessing.Process(target=producer, args= (queue,))\n",
    "    m2 = multiprocessing.Process(target=producer, args= (queue,))\n",
    "    m1.start()\n",
    "    m2.start()\n",
    "    queue.put(\"KD\")\n",
    "    m1.join()\n",
    "    m2.join()"
   ]
  },
  {
   "cell_type": "code",
   "execution_count": 32,
   "id": "2385c3ae-e587-4ebe-a5de-cbc6c310c96f",
   "metadata": {},
   "outputs": [],
   "source": [
    "import multiprocessing\n",
    "def producer(q):\n",
    "    for i in (\"Raj\", \"Rita\", \"Deepa\", \"Mahi\"):\n",
    "        q.put(i)\n",
    "        \n",
    "def consume(q):\n",
    "    while True:\n",
    "        item = q.get()\n",
    "        if item is None:\n",
    "            break\n",
    "            print(item)\n",
    "            \n",
    "if __name__ == '__main__':\n",
    "    queue = multiprocessing.Queue()\n",
    "    m1 = multiprocessing.Process(target=producer, args= (queue,))\n",
    "    m2 = multiprocessing.Process(target=producer, args= (queue,))\n",
    "    m1.start()\n",
    "    m2.start()\n",
    "    queue.put(\"KD\")\n",
    "    m1.join()                    # join is used to release entire process\n",
    "    m2.join()"
   ]
  },
  {
   "cell_type": "code",
   "execution_count": 38,
   "id": "2b0f9858-5226-4f95-9e9c-c7d0e3db7820",
   "metadata": {},
   "outputs": [],
   "source": [
    "# Multiprocessing with Array \n",
    "import multiprocessing\n",
    "def square(index, value):\n",
    "    value[index] = value[index]**2\n",
    "    \n",
    "if __name__ == '__main__':\n",
    "    arr = multiprocessing.Array('i' , [2,3,4,5,6])\n",
    "    process = []\n",
    "    for i in range(7):\n",
    "        m = multiprocessing.Process(target=square , args = (i,arr))\n",
    "        process.append(m)\n",
    "        m.start()\n",
    "    for m in process:\n",
    "        m.join()\n",
    "    print(list(arr))"
   ]
  },
  {
   "cell_type": "code",
   "execution_count": null,
   "id": "304bd95a-ef1a-4891-81b8-0a7168834efe",
   "metadata": {},
   "outputs": [],
   "source": [
    "# Multiprocessing with Pipe\n",
    "import multiprocessing\n",
    "def producer(q):\n",
    "    for i in (\"Raj\", \"Rita\", \"Deepa\", \"Mahi\"):\n",
    "        q.put(i)\n",
    "        \n",
    "def consume(q):\n",
    "    while True:\n",
    "        item = q.get()\n",
    "        if item is None:\n",
    "            break\n",
    "            print(item)\n",
    "            \n",
    "if __name__ == '__main__':\n",
    "    queue = multiprocessing.Queue()\n",
    "    m1 = multiprocessing.Process(target=producer, args= (queue,))\n",
    "    m2 = multiprocessing.Process(target=producer, args= (queue,))\n",
    "    m1.start()\n",
    "    m2.start()\n",
    "    queue.put(\"KD\")\n",
    "    m1.join()                    # join is used to release entire process\n",
    "    m2.join()"
   ]
  },
  {
   "cell_type": "code",
   "execution_count": null,
   "id": "c2a7afad-8c3e-4bdf-92e8-9172ee33cd7f",
   "metadata": {},
   "outputs": [],
   "source": [
    "# pipe always return two connection (Send-receive)\n",
    "import multiprocessing\n",
    "def sender(conn , msg) :\n",
    "    for i in msg:\n",
    "        conn.send(i)\n",
    "    conn.close()\n",
    "    \n",
    "def receive(conn):\n",
    "    while True:\n",
    "        try:\n",
    "            msg = conn.recv()\n",
    "        except Exception as e :\n",
    "            print(e)\n",
    "            break\n",
    "        print(msg)\n",
    "        \n",
    "if __name__ == '__main__' :\n",
    "    msg = [\"my name is gita\" , \"this is my msg to my friends\" ]\n",
    "    parent_con , child_con = multiprocessing.Pipe()\n",
    "    m1 = multiprocessing.Process(target=sender , args = (child_con , msg))\n",
    "    m2 = multiprocessing.Process(target=receive , args = (parent_con ,))\n",
    "    m1.start()\n",
    "    m2.start()\n",
    "    m1.join()\n",
    "    child_con.close()\n",
    "    m2.join()\n",
    "    parent_con.close\n"
   ]
  },
  {
   "cell_type": "code",
   "execution_count": null,
   "id": "b3272c31-1391-4b3d-bc49-5b7b45ba998b",
   "metadata": {},
   "outputs": [],
   "source": []
  }
 ],
 "metadata": {
  "kernelspec": {
   "display_name": "Python 3 (ipykernel)",
   "language": "python",
   "name": "python3"
  },
  "language_info": {
   "codemirror_mode": {
    "name": "ipython",
    "version": 3
   },
   "file_extension": ".py",
   "mimetype": "text/x-python",
   "name": "python",
   "nbconvert_exporter": "python",
   "pygments_lexer": "ipython3",
   "version": "3.10.8"
  }
 },
 "nbformat": 4,
 "nbformat_minor": 5
}
