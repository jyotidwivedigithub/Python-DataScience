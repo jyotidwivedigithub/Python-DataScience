{
 "cells": [
  {
   "cell_type": "code",
   "execution_count": 27,
   "id": "d0f8282b-0293-4914-9073-bc1e4eb287b6",
   "metadata": {},
   "outputs": [
    {
     "name": "stdout",
     "output_type": "stream",
     "text": [
      "Requirement already satisfied: gensim in /opt/conda/lib/python3.10/site-packages (4.3.2)\n",
      "Requirement already satisfied: numpy>=1.18.5 in /opt/conda/lib/python3.10/site-packages (from gensim) (1.23.5)\n",
      "Requirement already satisfied: smart-open>=1.8.1 in /opt/conda/lib/python3.10/site-packages (from gensim) (6.4.0)\n",
      "Requirement already satisfied: scipy>=1.7.0 in /opt/conda/lib/python3.10/site-packages (from gensim) (1.9.3)\n",
      "Note: you may need to restart the kernel to use updated packages.\n"
     ]
    }
   ],
   "source": [
    "pip install gensim"
   ]
  },
  {
   "cell_type": "code",
   "execution_count": 28,
   "id": "3a1dafec-b458-4071-988c-963fd51c88cb",
   "metadata": {},
   "outputs": [
    {
     "name": "stdout",
     "output_type": "stream",
     "text": [
      "Requirement already satisfied: nltk in /opt/conda/lib/python3.10/site-packages (3.8.1)\n",
      "Requirement already satisfied: regex>=2021.8.3 in /opt/conda/lib/python3.10/site-packages (from nltk) (2023.8.8)\n",
      "Requirement already satisfied: tqdm in /opt/conda/lib/python3.10/site-packages (from nltk) (4.64.1)\n",
      "Requirement already satisfied: joblib in /opt/conda/lib/python3.10/site-packages (from nltk) (1.2.0)\n",
      "Requirement already satisfied: click in /opt/conda/lib/python3.10/site-packages (from nltk) (8.1.3)\n",
      "Note: you may need to restart the kernel to use updated packages.\n"
     ]
    }
   ],
   "source": [
    "pip install nltk"
   ]
  },
  {
   "cell_type": "markdown",
   "id": "f7724de9-354b-4d43-81dc-5394c4e9ed27",
   "metadata": {},
   "source": [
    "# Import important Libraries"
   ]
  },
  {
   "cell_type": "code",
   "execution_count": 29,
   "id": "6f41ce5d-97e3-446f-ac6b-0a94a2dd5926",
   "metadata": {},
   "outputs": [
    {
     "name": "stderr",
     "output_type": "stream",
     "text": [
      "[nltk_data] Downloading package punkt to /home/jovyan/nltk_data...\n",
      "[nltk_data]   Package punkt is already up-to-date!\n"
     ]
    },
    {
     "data": {
      "text/plain": [
       "True"
      ]
     },
     "execution_count": 29,
     "metadata": {},
     "output_type": "execute_result"
    }
   ],
   "source": [
    "from gensim.models import Doc2Vec\n",
    "from gensim.models.doc2vec import TaggedDocument\n",
    "import nltk\n",
    "from nltk.tokenize import word_tokenize, sent_tokenize\n",
    "nltk.download('punkt')"
   ]
  },
  {
   "cell_type": "markdown",
   "id": "7cb5ae91-52d6-47ff-acef-64d1c493eed5",
   "metadata": {},
   "source": [
    "# Sample Text"
   ]
  },
  {
   "cell_type": "code",
   "execution_count": 30,
   "id": "df4018ad-505a-48e7-8e63-3785297cef97",
   "metadata": {},
   "outputs": [],
   "source": [
    "text = \"Doc2Vec is used for creating document embedding. It captures the context of entire document. \""
   ]
  },
  {
   "cell_type": "markdown",
   "id": "e8a3af10-6918-4571-94b8-21fb02b5bfc2",
   "metadata": {},
   "source": [
    "# Tokenize into Sentences and Words"
   ]
  },
  {
   "cell_type": "code",
   "execution_count": 31,
   "id": "f66f60fa-38f0-4bce-a132-d3ec178b6af6",
   "metadata": {},
   "outputs": [
    {
     "name": "stdout",
     "output_type": "stream",
     "text": [
      "Tokenize into sentences and words\n",
      "Tokenized Sentences: [['doc2vec', 'is', 'used', 'for', 'creating', 'document', 'embedding', '.'], ['it', 'captures', 'the', 'context', 'of', 'entire', 'document', '.']]\n"
     ]
    }
   ],
   "source": [
    "print(\"Tokenize into sentences and words\")\n",
    "sentences = sent_tokenize(text)\n",
    "tokenized_sentences = [word_tokenize(sentence.lower()) for sentence in sentences]\n",
    "print(\"Tokenized Sentences:\", tokenized_sentences)                       "
   ]
  },
  {
   "cell_type": "markdown",
   "id": "bba24449-0e31-4259-b4c4-dc426964b1d8",
   "metadata": {},
   "source": [
    "# Prepare Tagged Document"
   ]
  },
  {
   "cell_type": "code",
   "execution_count": 32,
   "id": "335e835d-5431-45ef-849c-df86c7135b19",
   "metadata": {},
   "outputs": [
    {
     "name": "stdout",
     "output_type": "stream",
     "text": [
      "Prepare Tagged Document\n"
     ]
    }
   ],
   "source": [
    "print(\"Prepare Tagged Document\")\n",
    "tagged_data = [TaggedDocument(words=words, tags=[str(idx)]) for idx, words in enumerate(tokenized_sentences)]"
   ]
  },
  {
   "cell_type": "markdown",
   "id": "ebc85e78-1cf1-4970-b239-526a4a1c3c94",
   "metadata": {},
   "source": [
    "# Train the Doc2Vec model"
   ]
  },
  {
   "cell_type": "code",
   "execution_count": 33,
   "id": "a2b6ca59-4726-4cda-b513-f7ee2db18bb1",
   "metadata": {},
   "outputs": [
    {
     "name": "stdout",
     "output_type": "stream",
     "text": [
      "Train the Doc2Vec Model\n",
      "Doc2Vec model trained successfully\n"
     ]
    }
   ],
   "source": [
    "print(\"Train the Doc2Vec Model\")\n",
    "model = Doc2Vec(vector_size=100, window=5, min_count=1, dm=1, epochs=20)\n",
    "model.build_vocab(tagged_data)\n",
    "model.train(tagged_data, total_examples=model.corpus_count, epochs=model.epochs)\n",
    "print(\"Doc2Vec model trained successfully\")"
   ]
  },
  {
   "cell_type": "markdown",
   "id": "21929e07-580f-44d8-a2ed-51a415048fdb",
   "metadata": {},
   "source": [
    "# Infer document vector"
   ]
  },
  {
   "cell_type": "code",
   "execution_count": 34,
   "id": "982652c4-b5d4-4422-b600-d116f84eba43",
   "metadata": {},
   "outputs": [
    {
     "name": "stdout",
     "output_type": "stream",
     "text": [
      "Infer Document Vector\n",
      "Inferred document vector: [ 3.8212256e-03 -1.6995852e-03 -3.1341813e-04  4.8321821e-03\n",
      " -7.6710632e-05 -1.7355602e-03 -6.4340129e-05 -5.7487393e-04\n",
      " -1.6286658e-03  1.9162750e-03  4.5977221e-03  1.6394241e-03\n",
      " -3.4977780e-03 -1.8814487e-03  1.7458248e-03 -2.9080862e-03\n",
      " -1.2138245e-04 -1.3729486e-03  4.6061175e-03  1.4235764e-03\n",
      " -2.0004292e-04  9.6740568e-04 -3.3649527e-03  1.6595204e-05\n",
      " -1.3624146e-03 -1.4082827e-03 -2.2224670e-03  7.7629532e-04\n",
      " -1.0099886e-03  3.3274942e-04 -2.3011400e-03  4.8594316e-03\n",
      "  4.2342497e-03  9.4160059e-04 -7.9348596e-04 -4.1037868e-03\n",
      " -4.7261955e-04 -1.7514412e-03  4.8520556e-03  3.5440305e-03\n",
      " -2.0439534e-03 -1.3393145e-03 -3.0398464e-03 -3.1895943e-03\n",
      "  8.4561756e-04  2.4485271e-03 -2.1550150e-03 -1.9530775e-03\n",
      "  2.2641541e-06  3.4506673e-03 -3.5100076e-03 -2.9326649e-03\n",
      "  2.4544909e-03  1.0906891e-03  2.1183100e-03  2.0203695e-03\n",
      "  3.2735572e-03  1.7148735e-03 -1.6229433e-03 -3.6777607e-03\n",
      "  4.9757683e-03  2.6106713e-03  4.3022442e-03 -3.9705280e-03\n",
      " -3.4224495e-04  4.7602081e-03  6.6753203e-04  3.1142475e-03\n",
      " -2.0618392e-03 -2.0805525e-03 -3.6549666e-03 -4.8525333e-03\n",
      "  2.3456677e-03 -3.1002061e-03 -3.9091948e-03  1.7090801e-03\n",
      "  4.4903858e-03  4.4167554e-03 -3.7320417e-03  1.5059779e-03\n",
      "  3.1632539e-03 -2.0756102e-03 -3.7203773e-03 -3.4179082e-03\n",
      "  4.3639559e-03 -4.8707873e-03  1.7703043e-03  8.8903005e-04\n",
      " -3.6759714e-03 -1.7601596e-03  3.8406497e-03 -8.6107373e-04\n",
      " -4.7004996e-03  3.0786060e-03 -4.9240212e-03  5.4546801e-04\n",
      " -3.6044396e-03 -7.9259608e-04 -1.1946213e-03 -3.7543203e-03]\n"
     ]
    }
   ],
   "source": [
    "print(\"Infer Document Vector\")\n",
    "doc_vector = model.infer_vector(word_tokenize(\"Doc2Vec is used for creation document embedding. \"))\n",
    "print(\"Inferred document vector:\", doc_vector)"
   ]
  },
  {
   "cell_type": "code",
   "execution_count": null,
   "id": "93afa590-d151-47d2-8cfe-6ad91e684e97",
   "metadata": {},
   "outputs": [],
   "source": []
  },
  {
   "cell_type": "code",
   "execution_count": null,
   "id": "a6b6a59b-e215-47d5-a7c0-4f7bbf1a6b2c",
   "metadata": {},
   "outputs": [],
   "source": []
  }
 ],
 "metadata": {
  "kernelspec": {
   "display_name": "Python 3 (ipykernel)",
   "language": "python",
   "name": "python3"
  },
  "language_info": {
   "codemirror_mode": {
    "name": "ipython",
    "version": 3
   },
   "file_extension": ".py",
   "mimetype": "text/x-python",
   "name": "python",
   "nbconvert_exporter": "python",
   "pygments_lexer": "ipython3",
   "version": "3.10.8"
  }
 },
 "nbformat": 4,
 "nbformat_minor": 5
}
