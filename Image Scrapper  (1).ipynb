{
 "cells": [
  {
   "cell_type": "code",
   "execution_count": null,
   "id": "134c7665-631a-4353-b35e-b0f9bdfa9ee2",
   "metadata": {},
   "outputs": [],
   "source": [
    "# Image Scrapper "
   ]
  },
  {
   "cell_type": "code",
   "execution_count": 1,
   "id": "197e778f-c102-4a2f-bb16-b2dc93278fbe",
   "metadata": {},
   "outputs": [],
   "source": [
    "import requests\n",
    "from bs4 import BeautifulSoup\n",
    "from urllib.request import urlopen\n",
    "import logging\n",
    "import os"
   ]
  },
  {
   "cell_type": "code",
   "execution_count": 2,
   "id": "7c4cd98a-b266-49d1-95b0-9a21c900faf5",
   "metadata": {},
   "outputs": [],
   "source": [
    "save_dir = \"images/\"\n",
    "if not os.path.exists(save_dir):\n",
    "    os.makedirs(save_dir)"
   ]
  },
  {
   "cell_type": "code",
   "execution_count": 3,
   "id": "d2df91fa-f5d2-481b-afd9-a9ed7658022f",
   "metadata": {},
   "outputs": [],
   "source": [
    "headers = {\"User-Agent\": \"Mozilla/5.0 (Windows NT 10.0;  Win64; x64) AppleWebKit/537.36 (KHTML, like Gecko) Chrome/58.0.3029.110 Safari/537.36\"}"
   ]
  },
  {
   "cell_type": "code",
   "execution_count": 5,
   "id": "13a93e4e-a3d6-46b4-951e-57dc2b1a9870",
   "metadata": {},
   "outputs": [],
   "source": [
    "query = \"elon musk\"\n",
    "response = requests.get(\"https://www.google.com/search?q=elon+musk&rlz=1C1GCEB_enIN1020IN1020&sxsrf=AJOqlzWJ703yayG8d5DIFoGq1fRUBTZSpw:1677240189464&source=lnms&tbm=isch&sa=X&sqi=2&ved=2ahUKEwjSqsjNjq79AhWI6zgGHYLXDq8Q0pQJegQIBBAE&biw=1536&bih=746&dpr=1.25\")"
   ]
  },
  {
   "cell_type": "code",
   "execution_count": 6,
   "id": "c4f4c7d5-8752-4408-a8d3-6ee3497e6c27",
   "metadata": {},
   "outputs": [
    {
     "data": {
      "text/plain": [
       "<Response [200]>"
      ]
     },
     "execution_count": 6,
     "metadata": {},
     "output_type": "execute_result"
    }
   ],
   "source": [
    "response"
   ]
  },
  {
   "cell_type": "code",
   "execution_count": null,
   "id": "2ece4618-a5d1-428b-957b-d4a4fa151117",
   "metadata": {},
   "outputs": [],
   "source": [
    "response.content"
   ]
  },
  {
   "cell_type": "code",
   "execution_count": 10,
   "id": "8504ae4e-c1b9-4934-a1c7-e600596ca67f",
   "metadata": {},
   "outputs": [],
   "source": [
    "soup = BeautifulSoup(response.content,\"html.parser\")"
   ]
  },
  {
   "cell_type": "code",
   "execution_count": null,
   "id": "86239b0f-fe23-48c8-a90e-ace0dddd3a8e",
   "metadata": {},
   "outputs": [],
   "source": [
    "soup.find_all(\"img\")"
   ]
  },
  {
   "cell_type": "code",
   "execution_count": 12,
   "id": "e0547adc-b913-44ed-b574-da85b2c32a52",
   "metadata": {},
   "outputs": [],
   "source": [
    "image_tags = soup.find_all(\"img\")"
   ]
  },
  {
   "cell_type": "code",
   "execution_count": 13,
   "id": "ee20a516-ae3c-4727-a43f-699a4d22dea7",
   "metadata": {},
   "outputs": [],
   "source": [
    "del image_tags[0]"
   ]
  },
  {
   "cell_type": "code",
   "execution_count": 14,
   "id": "9a073b93-1e3a-47ea-8986-d21a4e903fb7",
   "metadata": {},
   "outputs": [
    {
     "data": {
      "text/plain": [
       "20"
      ]
     },
     "execution_count": 14,
     "metadata": {},
     "output_type": "execute_result"
    }
   ],
   "source": [
    "len(image_tags)"
   ]
  },
  {
   "cell_type": "code",
   "execution_count": 16,
   "id": "b83bd423-e267-4def-bda1-7278553aef6e",
   "metadata": {},
   "outputs": [],
   "source": [
    "image_data_mongo = []\n",
    "for i in image_tags:\n",
    "    image_url = i['src']\n",
    "    image_data = requests.get(image_url).content\n",
    "    mydict = {\"index\" : image_url , \"image\" : image_data}\n",
    "    image_data_mongo.append(mydict)\n",
    "    with open(os.path.join(save_dir,f\"{query}_{image_tags.index(i)}.jpg\") , \"wb\") as f :\n",
    "                           f.write(image_data)"
   ]
  },
  {
   "cell_type": "code",
   "execution_count": null,
   "id": "1e24bcec-ae4a-4c5d-bd2e-0aced9d413c8",
   "metadata": {},
   "outputs": [],
   "source": [
    "image_data_mongo"
   ]
  },
  {
   "cell_type": "code",
   "execution_count": null,
   "id": "292246b2-523c-49af-aa38-a4a1302ff0ae",
   "metadata": {},
   "outputs": [],
   "source": []
  }
 ],
 "metadata": {
  "kernelspec": {
   "display_name": "Python 3 (ipykernel)",
   "language": "python",
   "name": "python3"
  },
  "language_info": {
   "codemirror_mode": {
    "name": "ipython",
    "version": 3
   },
   "file_extension": ".py",
   "mimetype": "text/x-python",
   "name": "python",
   "nbconvert_exporter": "python",
   "pygments_lexer": "ipython3",
   "version": "3.10.8"
  }
 },
 "nbformat": 4,
 "nbformat_minor": 5
}
