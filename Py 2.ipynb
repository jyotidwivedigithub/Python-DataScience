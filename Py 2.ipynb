{
 "cells": [
  {
   "cell_type": "code",
   "execution_count": null,
   "id": "59c5e1a0-7756-4ecd-8b8e-4e5abce01c0b",
   "metadata": {},
   "outputs": [],
   "source": [
    "Q1. Create a list in python using the followings: 2,3,4,5,6,7 with variable ‘a’\n",
    "    Add ‘mango to the above list\n",
    "    Also add banana, grapes & orange in the list\n",
    "    insert apple in the 5th position of a variable ‘a’\n",
    "    Remove last item from the list\n",
    "Ans.\n",
    "    a = [2,3,4,5,6,7]\n",
    "    a.append('mango')\n",
    "    a.extend(['banana','grapes','orange'])\n",
    "    a.insert(4, 'apple')\n",
    "    a.pop()\n",
    "    print(a)\n",
    "        \n",
    "Q2.L = [1,2,3,4,5,6,7]\n",
    "   Using the above list slice from 1:4\n",
    "Ans.\n",
    "    L = [1,2,3,4,5,6,7]\n",
    "    slicing = L[1:4]\n",
    "    print(slicing)\n",
    "    \n",
    "Q3. Reverse the order of given string L = [4,5,6,8,3] Without using reverse() function.\n",
    "Ans.\n",
    "    L = [4,5,6,8,3]\n",
    "    L.reverse()\n",
    "    print(L)\n",
    "    \n",
    "Q4. Use list comprehension to square the given list L=[2,4,7,3,6,8]\n",
    "Ans.\n",
    "    L = [2,4,7,3,6,8]\n",
    "    square_L = [x**2 for x in L]\n",
    "    print(square_L)\n",
    "\n",
    "Q5. Create a function that takes in a tuple of integers and returns the sum of the integers. Test the\n",
    "    function with a tuple of your choice.\n",
    "Ans.\n",
    "    def sum_tuple(t):\n",
    "        return sum(t)\n",
    "    t = (2,3,5,4)\n",
    "    print(sum_tuple(t))\n",
    "    \n",
    "    \n",
    "Q6. Create two sets of your favourite fruits, and use the union() method to combine them into a single set.\n",
    "    Print the resulting set to the console.\n",
    "Ans.\n",
    "     # Create two sets of favorite fruits\n",
    "    set1 = {\"apple\", \"mango\", \"orange\"}\n",
    "    set2 = {\"grapes\", \"pineapple\", \"papaya\"}\n",
    "\n",
    "     # Combine the two sets into a single set using the union() method\n",
    "    combined = set1.union(set2)\n",
    "\n",
    "     # Print the resulting set\n",
    "    print(combined)\n",
    "    \n",
    "    \n",
    "Q7. Create a set of random words, and use the add() method to add a new word to the set. Print the\n",
    "    resulting set to the console.\n",
    "Ans.\n",
    "    # Create a set of random words\n",
    "    set = {\"apple\", \"mango\", \"papaya\"}\n",
    "    # Add a new word to the set using the add() method\n",
    "    set.add(\"orange\")\n",
    "    # Print the resulting set\n",
    "    print(set)\n",
    "    \n",
    "    \n",
    "Q8. Create a set of your favourite animals, and use the remove() method to remove one animal from the\n",
    "    set. Print the resulting set to the console.\n",
    "Ans.    \n",
    "    # Create a set of favorite animals\n",
    "    set = {\"lion\", \"tiger\", \"panda\", \"goat\"}\n",
    "    # Remove one animal from the set using the remove() method\n",
    "    set.remove(\"panda\")\n",
    "    print(set)\n",
    "\n",
    "\n",
    "Q9. favorite_books = {\"1984\", \"To Kill a Mockingbird\", \"Pride and Prejudice\"}\n",
    "    favorite_movies = [\"The Shawshank Redemption\", \"The Godfather\", \"The Dark Knight\"]\n",
    "    Use the zip() function to combine the book set and movie list into a list of tuples representing book/\n",
    "    movie pairs. Print the resulting list.\n",
    "Ans.\n",
    "    # Create a set of favorite books and a list of favorite movies\n",
    "    favorite_books = {\"1984\", \"To Kill a Mockingbird\", \"Pride and Prejudice\"}\n",
    "    favorite_movies = [\"The Shawshank Redemption\", \"The Godfather\", \"The Dark Knight\"]\n",
    "\n",
    "    # Combine the book set and movie list into a list of tuples using the zip() function\n",
    "    book_movie_pairs = list(zip(favorite_books, favorite_movies))\n",
    "    print(book_movie_pairs)\n",
    "   \n",
    "    \n",
    "Q10. Write a Python program to find the difference between consecutive numbers in a list.\n",
    "Ans.\n",
    "    def consecutive_difference(lst):\n",
    "        diff_lst = []\n",
    "        for i in range(len(lst)-1):\n",
    "            diff_lst.append(abs(lst[i] - lst[i+1]))\n",
    "        return diff_lst\n",
    "\n",
    "    # Example \n",
    "    l = [3, 6, 9, 7, 1]\n",
    "    diff_list = consecutive_difference(l)\n",
    "    print(diff_list)\n"
   ]
  },
  {
   "cell_type": "code",
   "execution_count": 2,
   "id": "bc58a2fd-b05a-454e-886d-4fea02b6383a",
   "metadata": {},
   "outputs": [
    {
     "name": "stdout",
     "output_type": "stream",
     "text": [
      "[2, 3, 4, 5, 'apple', 6, 7, 'mango', 'banana', 'grapes']\n"
     ]
    }
   ],
   "source": [
    "a = [2,3,4,5,6,7]\n",
    "a.append('mango')\n",
    "a.extend(['banana','grapes','orange'])\n",
    "a.insert(4, 'apple')\n",
    "a.pop()\n",
    "print(a)"
   ]
  },
  {
   "cell_type": "code",
   "execution_count": 6,
   "id": "2305c4ca-d2d1-43c8-9592-d5cd758fef52",
   "metadata": {},
   "outputs": [
    {
     "name": "stdout",
     "output_type": "stream",
     "text": [
      "[2, 3, 4]\n"
     ]
    }
   ],
   "source": [
    "L = [1,2,3,4,5,6,7]\n",
    "slicing = L[1:4]\n",
    "print(slicing)"
   ]
  },
  {
   "cell_type": "code",
   "execution_count": 7,
   "id": "f1f321b9-97f9-4070-98cc-02f9c221769e",
   "metadata": {},
   "outputs": [
    {
     "name": "stdout",
     "output_type": "stream",
     "text": [
      "[3, 8, 6, 5, 4]\n"
     ]
    }
   ],
   "source": [
    "L = [4,5,6,8,3]\n",
    "L.reverse()\n",
    "print(L)"
   ]
  },
  {
   "cell_type": "code",
   "execution_count": 8,
   "id": "7a44dd39-18cd-400a-830c-4deb8c5f61ee",
   "metadata": {},
   "outputs": [
    {
     "name": "stdout",
     "output_type": "stream",
     "text": [
      "[4, 16, 49, 9, 36, 64]\n"
     ]
    }
   ],
   "source": [
    "L = [2,4,7,3,6,8]\n",
    "square_L = [x**2 for x in L]\n",
    "print(square_L)"
   ]
  },
  {
   "cell_type": "code",
   "execution_count": 9,
   "id": "72e2d878-9737-481c-9811-1dcda745d798",
   "metadata": {},
   "outputs": [
    {
     "name": "stdout",
     "output_type": "stream",
     "text": [
      "14\n"
     ]
    }
   ],
   "source": [
    "def sum_tuple(t):\n",
    "    return sum(t)\n",
    "t = (2,3,5,4)\n",
    "print(sum_tuple(t))"
   ]
  },
  {
   "cell_type": "code",
   "execution_count": 10,
   "id": "755e6be7-54e1-4b18-b6fa-362d77685a29",
   "metadata": {},
   "outputs": [
    {
     "name": "stdout",
     "output_type": "stream",
     "text": [
      "{'mango', 'papaya', 'pineapple', 'grapes', 'apple', 'orange'}\n"
     ]
    }
   ],
   "source": [
    "     # Create two sets of favorite fruits\n",
    "set1 = {\"apple\", \"mango\", \"orange\"}\n",
    "set2 = {\"grapes\", \"pineapple\", \"papaya\"}\n",
    "\n",
    "# Combine the two sets into a single set using the union() method\n",
    "combined = set1.union(set2)\n",
    "\n",
    "# Print the resulting set\n",
    "print(combined)\n",
    "   "
   ]
  },
  {
   "cell_type": "code",
   "execution_count": 12,
   "id": "7cf64658-f6fd-41c4-8447-f718567fd4a7",
   "metadata": {},
   "outputs": [
    {
     "name": "stdout",
     "output_type": "stream",
     "text": [
      "{'apple', 'papaya', 'orange', 'mango'}\n"
     ]
    }
   ],
   "source": [
    "# Create a set of random words\n",
    "set = {\"apple\", \"mango\", \"papaya\"}\n",
    "\n",
    "# Add a new word to the set using the add() method\n",
    "set.add(\"orange\")\n",
    "\n",
    "# Print the resulting set\n",
    "print(set)"
   ]
  },
  {
   "cell_type": "code",
   "execution_count": 13,
   "id": "f90d99fe-53ca-43e6-8297-9a14c3116f9c",
   "metadata": {},
   "outputs": [
    {
     "name": "stdout",
     "output_type": "stream",
     "text": [
      "{'goat', 'tiger', 'lion'}\n"
     ]
    }
   ],
   "source": [
    "# Create a set of favorite animals\n",
    "set = {\"lion\", \"tiger\", \"panda\", \"goat\"}\n",
    "# Remove one animal from the set using the remove() method\n",
    "set.remove(\"panda\")\n",
    "# Print the resulting set\n",
    "print(set)"
   ]
  },
  {
   "cell_type": "code",
   "execution_count": 14,
   "id": "cb492b57-6795-46c6-8769-883012515a08",
   "metadata": {},
   "outputs": [
    {
     "name": "stdout",
     "output_type": "stream",
     "text": [
      "[('1984', 'The Shawshank Redemption'), ('To Kill a Mockingbird', 'The Godfather'), ('Pride and Prejudice', 'The Dark Knight')]\n"
     ]
    }
   ],
   "source": [
    "# Create a set of favorite books and a list of favorite movies\n",
    "favorite_books = {\"1984\", \"To Kill a Mockingbird\", \"Pride and Prejudice\"}\n",
    "favorite_movies = [\"The Shawshank Redemption\", \"The Godfather\", \"The Dark Knight\"]\n",
    "\n",
    "# Combine the book set and movie list into a list of tuples using the zip() function\n",
    "book_movie_pairs = list(zip(favorite_books, favorite_movies))\n",
    "print(book_movie_pairs)"
   ]
  },
  {
   "cell_type": "code",
   "execution_count": 15,
   "id": "059df231-fd51-4a03-a362-16118ba0b160",
   "metadata": {},
   "outputs": [
    {
     "name": "stdout",
     "output_type": "stream",
     "text": [
      "[3, 3, 2, 6]\n"
     ]
    }
   ],
   "source": [
    "def consecutive_difference(lst):\n",
    "        diff_lst = []\n",
    "        for i in range(len(lst)-1):\n",
    "            diff_lst.append(abs(lst[i] - lst[i+1]))\n",
    "        return diff_lst\n",
    "\n",
    "    # Example \n",
    "l = [3, 6, 9, 7, 1]\n",
    "diff_list = consecutive_difference(l)\n",
    "print(diff_list)"
   ]
  },
  {
   "cell_type": "code",
   "execution_count": null,
   "id": "445a5ba0-85ad-4145-b521-8ff379a399b5",
   "metadata": {},
   "outputs": [],
   "source": []
  }
 ],
 "metadata": {
  "kernelspec": {
   "display_name": "Python 3 (ipykernel)",
   "language": "python",
   "name": "python3"
  },
  "language_info": {
   "codemirror_mode": {
    "name": "ipython",
    "version": 3
   },
   "file_extension": ".py",
   "mimetype": "text/x-python",
   "name": "python",
   "nbconvert_exporter": "python",
   "pygments_lexer": "ipython3",
   "version": "3.10.8"
  }
 },
 "nbformat": 4,
 "nbformat_minor": 5
}
