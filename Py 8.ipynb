{
 "cells": [
  {
   "cell_type": "code",
   "execution_count": null,
   "id": "5c35cc8d-660e-4e3c-9815-4dc50c11b15f",
   "metadata": {},
   "outputs": [],
   "source": [
    "Q1. Write a Python program to create two processes that print out the numbers from 1 to 10\n",
    "simultaneously.\n",
    "Q2. Write a Python program that creates four processes and computes the sum of the first 1000 integers\n",
    "using multiprocessing.\n",
    "Q3. Write a Python program that creates two processes and communicates between them using a Queue.\n",
    "The first process should send a list of numbers to the second process, which should calculate the sum of\n",
    "the numbers and send it back to the first process.\n",
    "Q4. Write a program to find the maximum number in a list of lists using multiprocessing.\n",
    "Q5. Write a Python program that uses the Pool class from the multiprocessing module to calculate the\n",
    "squares of a list of integers.\n",
    "Q6. How do you create a new process using the multiprocessing module in Python?\n",
    "Q7. How do you use a Pool to execute a function with multiple arguments in parallel?\n",
    "Q8. Write a Python program to calculate the sum of squares of numbers in a list using multiprocessing.\n",
    "Q9. Write a Python program that uses the multiprocessing module to calculate the sum of a large list of\n",
    "integers.\n",
    "Q10. Write a Python program that uses the multiprocessing module to parallelize the computation of the\n",
    "factorial of a number."
   ]
  }
 ],
 "metadata": {
  "kernelspec": {
   "display_name": "Python 3 (ipykernel)",
   "language": "python",
   "name": "python3"
  },
  "language_info": {
   "codemirror_mode": {
    "name": "ipython",
    "version": 3
   },
   "file_extension": ".py",
   "mimetype": "text/x-python",
   "name": "python",
   "nbconvert_exporter": "python",
   "pygments_lexer": "ipython3",
   "version": "3.10.8"
  }
 },
 "nbformat": 4,
 "nbformat_minor": 5
}
