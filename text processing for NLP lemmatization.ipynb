{
 "cells": [
  {
   "cell_type": "code",
   "execution_count": 3,
   "id": "77d48068-3da5-4bc6-aef7-3bf5d5bae7ad",
   "metadata": {},
   "outputs": [],
   "source": [
    "import nltk\n",
    "from nltk.tokenize import word_tokenize, sent_tokenize\n",
    "from nltk.stem import WordNetLemmatizer"
   ]
  },
  {
   "cell_type": "code",
   "execution_count": 4,
   "id": "36f78ebc-446d-4a84-87f1-4db877ae4984",
   "metadata": {},
   "outputs": [
    {
     "name": "stderr",
     "output_type": "stream",
     "text": [
      "[nltk_data] Downloading package punkt to /home/jovyan/nltk_data...\n",
      "[nltk_data]   Package punkt is already up-to-date!\n"
     ]
    },
    {
     "data": {
      "text/plain": [
       "True"
      ]
     },
     "execution_count": 4,
     "metadata": {},
     "output_type": "execute_result"
    }
   ],
   "source": [
    "import nltk\n",
    "nltk.download('punkt')"
   ]
  },
  {
   "cell_type": "markdown",
   "id": "41b4863f-7ce4-4aa9-be61-9d51186fc694",
   "metadata": {},
   "source": [
    "### Sample Text"
   ]
  },
  {
   "cell_type": "code",
   "execution_count": 9,
   "id": "773e0197-4fe9-4291-ab48-7f13eac3fb80",
   "metadata": {},
   "outputs": [],
   "source": [
    "text = \"Lemmatization is a crucial step in text processing. It reduce word to their base forms.\""
   ]
  },
  {
   "cell_type": "markdown",
   "id": "0cf6b715-b272-48ee-9270-697405c571c1",
   "metadata": {},
   "source": [
    "### Tokenize into words"
   ]
  },
  {
   "cell_type": "code",
   "execution_count": 6,
   "id": "c7c63de6-7310-4555-bd07-0377c64fc4c9",
   "metadata": {},
   "outputs": [
    {
     "name": "stdout",
     "output_type": "stream",
     "text": [
      "Tokenize into eords\n",
      "Tokenized_word: ['Lemmatization', 'is', 'a', 'crucial', 'step', 'in', 'text', 'processing', '.', 'It', 'reduce', 'word', 'to', 'their', 'base', 'forms', '.']\n"
     ]
    }
   ],
   "source": [
    "print(\"Tokenize into eords\")\n",
    "words = word_tokenize(text)\n",
    "print(\"Tokenized_word:\", words)"
   ]
  },
  {
   "cell_type": "markdown",
   "id": "282e3c0e-79c6-4511-93e7-441e40a20a52",
   "metadata": {},
   "source": [
    "### Initiate the Lemmatizer"
   ]
  },
  {
   "cell_type": "code",
   "execution_count": 7,
   "id": "45e001cc-af05-4b7c-a4b6-b5b446f01fb7",
   "metadata": {},
   "outputs": [
    {
     "name": "stdout",
     "output_type": "stream",
     "text": [
      "Initiate the Lemmatizer\n"
     ]
    }
   ],
   "source": [
    "print(\"Initiate the Lemmatizer\")\n",
    "lemmatizer = WordNetLemmatizer()"
   ]
  },
  {
   "cell_type": "code",
   "execution_count": 8,
   "id": "37d490e1-fda6-464f-a2d6-b688c858cb8f",
   "metadata": {},
   "outputs": [
    {
     "name": "stderr",
     "output_type": "stream",
     "text": [
      "[nltk_data] Downloading package wordnet to /home/jovyan/nltk_data...\n"
     ]
    },
    {
     "data": {
      "text/plain": [
       "True"
      ]
     },
     "execution_count": 8,
     "metadata": {},
     "output_type": "execute_result"
    }
   ],
   "source": [
    "import nltk\n",
    "nltk.download('wordnet')"
   ]
  },
  {
   "cell_type": "markdown",
   "id": "fa89fb57-8f22-4f6a-89a7-3ce027569955",
   "metadata": {},
   "source": [
    "### Lemmatize words"
   ]
  },
  {
   "cell_type": "code",
   "execution_count": 11,
   "id": "17a6f192-2e29-411d-bdcf-2ff07a560e8d",
   "metadata": {},
   "outputs": [
    {
     "name": "stdout",
     "output_type": "stream",
     "text": [
      "Lemmatize Words\n",
      "Lemmatize Words: ['Lemmatization', 'is', 'a', 'crucial', 'step', 'in', 'text', 'processing', '.', 'It', 'reduce', 'word', 'to', 'their', 'base', 'form', '.']\n"
     ]
    }
   ],
   "source": [
    "print(\"Lemmatize Words\")\n",
    "lemmatized_words = [lemmatizer.lemmatize(word) for word in words]\n",
    "print(\"Lemmatize Words:\", lemmatized_words)"
   ]
  },
  {
   "cell_type": "code",
   "execution_count": null,
   "id": "6e6e61fa-6ccd-450f-b879-a19523572116",
   "metadata": {},
   "outputs": [],
   "source": []
  }
 ],
 "metadata": {
  "kernelspec": {
   "display_name": "Python 3 (ipykernel)",
   "language": "python",
   "name": "python3"
  },
  "language_info": {
   "codemirror_mode": {
    "name": "ipython",
    "version": 3
   },
   "file_extension": ".py",
   "mimetype": "text/x-python",
   "name": "python",
   "nbconvert_exporter": "python",
   "pygments_lexer": "ipython3",
   "version": "3.10.8"
  }
 },
 "nbformat": 4,
 "nbformat_minor": 5
}
