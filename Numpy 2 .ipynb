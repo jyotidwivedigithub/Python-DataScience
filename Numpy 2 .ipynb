{
 "cells": [
  {
   "cell_type": "code",
   "execution_count": 1,
   "id": "09d05cfd-e5e3-41b9-ac6a-64ec428d60a6",
   "metadata": {},
   "outputs": [],
   "source": [
    "# NumPy - Array Manipulation."
   ]
  },
  {
   "cell_type": "code",
   "execution_count": 2,
   "id": "1df74e8a-f631-4856-baa0-eae5ded53c3b",
   "metadata": {},
   "outputs": [],
   "source": [
    "import numpy as np"
   ]
  },
  {
   "cell_type": "code",
   "execution_count": 3,
   "id": "a4c36504-b2c8-4263-adf2-8215bcfc5946",
   "metadata": {},
   "outputs": [],
   "source": [
    "ar = np.random.randint(1,10,(3,4))"
   ]
  },
  {
   "cell_type": "code",
   "execution_count": 4,
   "id": "bc287c36-6d83-498f-a322-6e8c56dc72e6",
   "metadata": {},
   "outputs": [
    {
     "data": {
      "text/plain": [
       "array([[4, 4, 2, 4],\n",
       "       [4, 4, 3, 5],\n",
       "       [8, 7, 5, 3]])"
      ]
     },
     "execution_count": 4,
     "metadata": {},
     "output_type": "execute_result"
    }
   ],
   "source": [
    "ar"
   ]
  },
  {
   "cell_type": "code",
   "execution_count": 6,
   "id": "b2a0d00d-aa9e-473a-93e2-654c6562f886",
   "metadata": {},
   "outputs": [
    {
     "data": {
      "text/plain": [
       "array([[4, 4, 2, 4, 4, 4],\n",
       "       [3, 5, 8, 7, 5, 3]])"
      ]
     },
     "execution_count": 6,
     "metadata": {},
     "output_type": "execute_result"
    }
   ],
   "source": [
    "ar.reshape(2,6)"
   ]
  },
  {
   "cell_type": "code",
   "execution_count": 8,
   "id": "24a95db4-75c9-4557-bad4-c0ef06331768",
   "metadata": {},
   "outputs": [
    {
     "data": {
      "text/plain": [
       "array([[4, 4, 2, 4, 4, 4],\n",
       "       [3, 5, 8, 7, 5, 3]])"
      ]
     },
     "execution_count": 8,
     "metadata": {},
     "output_type": "execute_result"
    }
   ],
   "source": [
    "ar.reshape(2,-24)"
   ]
  },
  {
   "cell_type": "code",
   "execution_count": 11,
   "id": "b299def9-e69d-404f-b222-b1af5ce4ad0f",
   "metadata": {},
   "outputs": [
    {
     "data": {
      "text/plain": [
       "array([[4, 4, 8],\n",
       "       [4, 4, 7],\n",
       "       [2, 3, 5],\n",
       "       [4, 5, 3]])"
      ]
     },
     "execution_count": 11,
     "metadata": {},
     "output_type": "execute_result"
    }
   ],
   "source": [
    "ar.T       # Transpose..rotate 180 degree"
   ]
  },
  {
   "cell_type": "code",
   "execution_count": 12,
   "id": "dbe86e2f-7ec7-462f-9cb5-a5a1f48f698f",
   "metadata": {},
   "outputs": [
    {
     "data": {
      "text/plain": [
       "array([[4, 4, 2, 4],\n",
       "       [4, 4, 3, 5],\n",
       "       [8, 7, 5, 3]])"
      ]
     },
     "execution_count": 12,
     "metadata": {},
     "output_type": "execute_result"
    }
   ],
   "source": [
    "ar"
   ]
  },
  {
   "cell_type": "code",
   "execution_count": 13,
   "id": "4fe9dc5f-496d-40af-8128-8a08de14f556",
   "metadata": {},
   "outputs": [
    {
     "data": {
      "text/plain": [
       "array([4, 4, 2, 4, 4, 4, 3, 5, 8, 7, 5, 3])"
      ]
     },
     "execution_count": 13,
     "metadata": {},
     "output_type": "execute_result"
    }
   ],
   "source": [
    "ar.flatten()"
   ]
  },
  {
   "cell_type": "code",
   "execution_count": 14,
   "id": "1aef911b-b66e-45bf-91ac-8688a2ceafbf",
   "metadata": {},
   "outputs": [],
   "source": [
    "ar1 = np.array([1,2,3,4,5])"
   ]
  },
  {
   "cell_type": "code",
   "execution_count": 15,
   "id": "c00620c0-d46a-4378-bcd1-2bfedc3b2ee8",
   "metadata": {},
   "outputs": [
    {
     "data": {
      "text/plain": [
       "array([1, 2, 3, 4, 5])"
      ]
     },
     "execution_count": 15,
     "metadata": {},
     "output_type": "execute_result"
    }
   ],
   "source": [
    "ar1"
   ]
  },
  {
   "cell_type": "code",
   "execution_count": 16,
   "id": "7aecbc08-bcbd-46a1-a60a-f9000f8c6b22",
   "metadata": {},
   "outputs": [
    {
     "data": {
      "text/plain": [
       "1"
      ]
     },
     "execution_count": 16,
     "metadata": {},
     "output_type": "execute_result"
    }
   ],
   "source": [
    "ar1.ndim"
   ]
  },
  {
   "cell_type": "code",
   "execution_count": 18,
   "id": "241763a8-a30f-48b7-9b71-290a88f90e2e",
   "metadata": {},
   "outputs": [
    {
     "data": {
      "text/plain": [
       "array([[1],\n",
       "       [2],\n",
       "       [3],\n",
       "       [4],\n",
       "       [5]])"
      ]
     },
     "execution_count": 18,
     "metadata": {},
     "output_type": "execute_result"
    }
   ],
   "source": [
    "#np.expand_dims(ar1)\n",
    "np.expand_dims(ar1,axis=1)"
   ]
  },
  {
   "cell_type": "code",
   "execution_count": 19,
   "id": "ed26e931-6b30-47f9-af37-15e121383d42",
   "metadata": {},
   "outputs": [
    {
     "data": {
      "text/plain": [
       "array([[1, 2, 3, 4, 5]])"
      ]
     },
     "execution_count": 19,
     "metadata": {},
     "output_type": "execute_result"
    }
   ],
   "source": [
    "np.expand_dims(ar1,axis=0)"
   ]
  },
  {
   "cell_type": "code",
   "execution_count": 21,
   "id": "33f530d7-90d1-4f76-adc8-b45e4b6f5521",
   "metadata": {},
   "outputs": [
    {
     "data": {
      "text/plain": [
       "array([[4, 4, 2, 4],\n",
       "       [4, 4, 3, 5],\n",
       "       [8, 7, 5, 3]])"
      ]
     },
     "execution_count": 21,
     "metadata": {},
     "output_type": "execute_result"
    }
   ],
   "source": [
    "ar"
   ]
  },
  {
   "cell_type": "code",
   "execution_count": 23,
   "id": "3cc5c9d5-b5cd-4fc7-bd5f-af629d32111b",
   "metadata": {},
   "outputs": [
    {
     "data": {
      "text/plain": [
       "array([[4, 4, 2, 4],\n",
       "       [4, 4, 3, 5],\n",
       "       [8, 7, 5, 3]])"
      ]
     },
     "execution_count": 23,
     "metadata": {},
     "output_type": "execute_result"
    }
   ],
   "source": [
    "np.squeeze(ar)    # it doesn't work here"
   ]
  },
  {
   "cell_type": "code",
   "execution_count": 27,
   "id": "852a638b-d9f5-45b6-b756-26c28ce92505",
   "metadata": {},
   "outputs": [],
   "source": [
    "data = np.array([[1],[2],[3]])   # squeeze only work in single elements "
   ]
  },
  {
   "cell_type": "code",
   "execution_count": 25,
   "id": "b5011444-3843-4533-b9d7-138e24944802",
   "metadata": {},
   "outputs": [
    {
     "data": {
      "text/plain": [
       "array([[1],\n",
       "       [2],\n",
       "       [3]])"
      ]
     },
     "execution_count": 25,
     "metadata": {},
     "output_type": "execute_result"
    }
   ],
   "source": [
    "data"
   ]
  },
  {
   "cell_type": "code",
   "execution_count": 26,
   "id": "15bd98f9-56c2-49e4-a79d-f85252419523",
   "metadata": {},
   "outputs": [
    {
     "data": {
      "text/plain": [
       "array([1, 2, 3])"
      ]
     },
     "execution_count": 26,
     "metadata": {},
     "output_type": "execute_result"
    }
   ],
   "source": [
    "np.squeeze(data)"
   ]
  },
  {
   "cell_type": "code",
   "execution_count": 28,
   "id": "6a0344c9-1daf-4bd6-bd1d-3569e78970af",
   "metadata": {},
   "outputs": [
    {
     "data": {
      "text/plain": [
       "array([1, 2, 3, 4, 5])"
      ]
     },
     "execution_count": 28,
     "metadata": {},
     "output_type": "execute_result"
    }
   ],
   "source": [
    "ar1"
   ]
  },
  {
   "cell_type": "code",
   "execution_count": 31,
   "id": "d8a211fb-4d08-471b-b12c-b5c609525323",
   "metadata": {},
   "outputs": [
    {
     "data": {
      "text/plain": [
       "array([1, 1, 1, 2, 2, 2, 3, 3, 3, 4, 4, 4, 5, 5, 5])"
      ]
     },
     "execution_count": 31,
     "metadata": {},
     "output_type": "execute_result"
    }
   ],
   "source": [
    "np.repeat(ar1 ,3)"
   ]
  },
  {
   "cell_type": "code",
   "execution_count": 32,
   "id": "666ee00a-2afd-470c-be86-24514c40a452",
   "metadata": {},
   "outputs": [
    {
     "data": {
      "text/plain": [
       "array([4, 5, 1, 2, 3])"
      ]
     },
     "execution_count": 32,
     "metadata": {},
     "output_type": "execute_result"
    }
   ],
   "source": [
    "np.roll(ar1 ,2)"
   ]
  },
  {
   "cell_type": "code",
   "execution_count": 33,
   "id": "0cda1c86-5622-49b9-b363-1cd2cb8effa6",
   "metadata": {},
   "outputs": [
    {
     "data": {
      "text/plain": [
       "array([1, 2, 3, 4, 5])"
      ]
     },
     "execution_count": 33,
     "metadata": {},
     "output_type": "execute_result"
    }
   ],
   "source": [
    "ar1"
   ]
  },
  {
   "cell_type": "code",
   "execution_count": 35,
   "id": "a4b4f890-9f42-4285-9c20-ab5ef8bab7c9",
   "metadata": {},
   "outputs": [
    {
     "data": {
      "text/plain": [
       "array([[1, 0, 0, 0, 0],\n",
       "       [0, 2, 0, 0, 0],\n",
       "       [0, 0, 3, 0, 0],\n",
       "       [0, 0, 0, 4, 0],\n",
       "       [0, 0, 0, 0, 5]])"
      ]
     },
     "execution_count": 35,
     "metadata": {},
     "output_type": "execute_result"
    }
   ],
   "source": [
    "np.diag(ar1)"
   ]
  },
  {
   "cell_type": "code",
   "execution_count": 36,
   "id": "d9a329d4-c81b-4a2e-8d57-4157ce339e6f",
   "metadata": {},
   "outputs": [],
   "source": [
    "# Numpy - Binary Operatiors."
   ]
  },
  {
   "cell_type": "code",
   "execution_count": 38,
   "id": "842016bc-7471-472d-b326-7b9a1cc141bf",
   "metadata": {},
   "outputs": [],
   "source": [
    "ar2 = np.random.randint(1,10,(3,4))"
   ]
  },
  {
   "cell_type": "code",
   "execution_count": 39,
   "id": "38cb9416-9ab0-49b9-aea2-fd0b64e00c43",
   "metadata": {},
   "outputs": [],
   "source": [
    "ar3 = np.random.randint(1,10,(3,4))"
   ]
  },
  {
   "cell_type": "code",
   "execution_count": 40,
   "id": "fe3b3e57-22b1-435d-8c20-80a481cf3d7d",
   "metadata": {},
   "outputs": [
    {
     "data": {
      "text/plain": [
       "array([[9, 9, 9, 2],\n",
       "       [3, 7, 9, 1],\n",
       "       [8, 1, 6, 4]])"
      ]
     },
     "execution_count": 40,
     "metadata": {},
     "output_type": "execute_result"
    }
   ],
   "source": [
    "ar2"
   ]
  },
  {
   "cell_type": "code",
   "execution_count": 41,
   "id": "2af70f2f-7a39-46c4-aff4-18969832d22b",
   "metadata": {},
   "outputs": [
    {
     "data": {
      "text/plain": [
       "array([[1, 5, 3, 4],\n",
       "       [7, 9, 1, 1],\n",
       "       [6, 3, 7, 5]])"
      ]
     },
     "execution_count": 41,
     "metadata": {},
     "output_type": "execute_result"
    }
   ],
   "source": [
    "ar3"
   ]
  },
  {
   "cell_type": "code",
   "execution_count": 42,
   "id": "3940a409-9b4b-41c3-9a76-e9c75e348b63",
   "metadata": {},
   "outputs": [
    {
     "data": {
      "text/plain": [
       "array([[10, 14, 12,  6],\n",
       "       [10, 16, 10,  2],\n",
       "       [14,  4, 13,  9]])"
      ]
     },
     "execution_count": 42,
     "metadata": {},
     "output_type": "execute_result"
    }
   ],
   "source": [
    "ar2 + ar3"
   ]
  },
  {
   "cell_type": "code",
   "execution_count": 43,
   "id": "79c5da39-f098-4e29-a248-6f63c2e31515",
   "metadata": {},
   "outputs": [
    {
     "data": {
      "text/plain": [
       "array([[ 8,  4,  6, -2],\n",
       "       [-4, -2,  8,  0],\n",
       "       [ 2, -2, -1, -1]])"
      ]
     },
     "execution_count": 43,
     "metadata": {},
     "output_type": "execute_result"
    }
   ],
   "source": [
    "ar2 - ar3"
   ]
  },
  {
   "cell_type": "code",
   "execution_count": 44,
   "id": "5fb88425-2a41-481c-8a77-5314def8f2b7",
   "metadata": {},
   "outputs": [
    {
     "data": {
      "text/plain": [
       "array([[ 9, 45, 27,  8],\n",
       "       [21, 63,  9,  1],\n",
       "       [48,  3, 42, 20]])"
      ]
     },
     "execution_count": 44,
     "metadata": {},
     "output_type": "execute_result"
    }
   ],
   "source": [
    "ar2 * ar3"
   ]
  },
  {
   "cell_type": "code",
   "execution_count": 45,
   "id": "433aad49-8534-462e-9773-cc17868a3321",
   "metadata": {},
   "outputs": [
    {
     "data": {
      "text/plain": [
       "array([[9.        , 1.8       , 3.        , 0.5       ],\n",
       "       [0.42857143, 0.77777778, 9.        , 1.        ],\n",
       "       [1.33333333, 0.33333333, 0.85714286, 0.8       ]])"
      ]
     },
     "execution_count": 45,
     "metadata": {},
     "output_type": "execute_result"
    }
   ],
   "source": [
    "ar2 / ar3"
   ]
  },
  {
   "cell_type": "code",
   "execution_count": 46,
   "id": "00e0b2a2-06fd-4db8-8027-b07d88bdf452",
   "metadata": {},
   "outputs": [
    {
     "data": {
      "text/plain": [
       "array([[0, 4, 0, 2],\n",
       "       [3, 7, 0, 0],\n",
       "       [2, 1, 6, 4]])"
      ]
     },
     "execution_count": 46,
     "metadata": {},
     "output_type": "execute_result"
    }
   ],
   "source": [
    "ar2 % ar3"
   ]
  },
  {
   "cell_type": "code",
   "execution_count": 47,
   "id": "c8d812b6-1392-4349-90c2-ef2e72e766da",
   "metadata": {},
   "outputs": [
    {
     "data": {
      "text/plain": [
       "array([[       9,    59049,      729,       16],\n",
       "       [    2187, 40353607,        9,        1],\n",
       "       [  262144,        1,   279936,     1024]])"
      ]
     },
     "execution_count": 47,
     "metadata": {},
     "output_type": "execute_result"
    }
   ],
   "source": [
    "ar2 ** ar3"
   ]
  },
  {
   "cell_type": "code",
   "execution_count": 48,
   "id": "89ff182e-1ddb-4615-a363-4a75f2c7894a",
   "metadata": {},
   "outputs": [
    {
     "data": {
      "text/plain": [
       "array([[1, 1, 1, 0],\n",
       "       [3, 1, 1, 1],\n",
       "       [0, 1, 6, 4]])"
      ]
     },
     "execution_count": 48,
     "metadata": {},
     "output_type": "execute_result"
    }
   ],
   "source": [
    "ar2 & ar3"
   ]
  },
  {
   "cell_type": "code",
   "execution_count": 49,
   "id": "339307c6-f8fe-4212-9df2-44185462f1e7",
   "metadata": {},
   "outputs": [
    {
     "data": {
      "text/plain": [
       "array([[9, 9, 9, 2],\n",
       "       [3, 7, 9, 1],\n",
       "       [8, 1, 6, 4]])"
      ]
     },
     "execution_count": 49,
     "metadata": {},
     "output_type": "execute_result"
    }
   ],
   "source": [
    "ar2"
   ]
  },
  {
   "cell_type": "code",
   "execution_count": 50,
   "id": "a3c43268-98ef-474a-924a-963c0358be6f",
   "metadata": {},
   "outputs": [
    {
     "data": {
      "text/plain": [
       "array([[1, 5, 3, 4],\n",
       "       [7, 9, 1, 1],\n",
       "       [6, 3, 7, 5]])"
      ]
     },
     "execution_count": 50,
     "metadata": {},
     "output_type": "execute_result"
    }
   ],
   "source": [
    "ar3"
   ]
  },
  {
   "cell_type": "code",
   "execution_count": 51,
   "id": "5361aff1-e331-49f2-ab7f-15c953c029a0",
   "metadata": {},
   "outputs": [
    {
     "data": {
      "text/plain": [
       "array([[-9, -9, -9, -2],\n",
       "       [-3, -7, -9, -1],\n",
       "       [-8, -1, -6, -4]])"
      ]
     },
     "execution_count": 51,
     "metadata": {},
     "output_type": "execute_result"
    }
   ],
   "source": [
    "-ar2"
   ]
  },
  {
   "cell_type": "code",
   "execution_count": 52,
   "id": "4de123a5-c0fd-420a-a200-59431b5c192b",
   "metadata": {},
   "outputs": [
    {
     "data": {
      "text/plain": [
       "array([[ 9, 13, 11,  6],\n",
       "       [ 7, 15,  9,  1],\n",
       "       [14,  3,  7,  5]])"
      ]
     },
     "execution_count": 52,
     "metadata": {},
     "output_type": "execute_result"
    }
   ],
   "source": [
    "ar2|ar3"
   ]
  },
  {
   "cell_type": "code",
   "execution_count": 53,
   "id": "7aefda41-eb95-4e5c-b090-21013a96747e",
   "metadata": {},
   "outputs": [
    {
     "data": {
      "text/plain": [
       "array([[ True,  True,  True, False],\n",
       "       [False, False,  True, False],\n",
       "       [ True, False, False, False]])"
      ]
     },
     "execution_count": 53,
     "metadata": {},
     "output_type": "execute_result"
    }
   ],
   "source": [
    "ar2>ar3"
   ]
  },
  {
   "cell_type": "code",
   "execution_count": 54,
   "id": "eeb95c73-3948-4b33-b972-f0845247f8d6",
   "metadata": {},
   "outputs": [],
   "source": [
    "# Numpy - String Functions."
   ]
  },
  {
   "cell_type": "code",
   "execution_count": 55,
   "id": "1eeeed00-2850-4df5-bf8a-ac1ae6126c0d",
   "metadata": {},
   "outputs": [],
   "source": [
    "ar4 = np.array(['soya','mahi'])"
   ]
  },
  {
   "cell_type": "code",
   "execution_count": 56,
   "id": "1713fb1d-c75d-42e8-960f-b80b902b96c1",
   "metadata": {},
   "outputs": [
    {
     "data": {
      "text/plain": [
       "array(['soya', 'mahi'], dtype='<U4')"
      ]
     },
     "execution_count": 56,
     "metadata": {},
     "output_type": "execute_result"
    }
   ],
   "source": [
    "ar4"
   ]
  },
  {
   "cell_type": "code",
   "execution_count": 59,
   "id": "28f11b10-9419-4768-91a6-70e8490b3faf",
   "metadata": {},
   "outputs": [
    {
     "data": {
      "text/plain": [
       "array(['SOYA', 'MAHI'], dtype='<U4')"
      ]
     },
     "execution_count": 59,
     "metadata": {},
     "output_type": "execute_result"
    }
   ],
   "source": [
    "np.char.upper(ar4)"
   ]
  },
  {
   "cell_type": "code",
   "execution_count": 60,
   "id": "24a539d5-fb21-4aea-b35a-fa5dcdfb5004",
   "metadata": {},
   "outputs": [
    {
     "data": {
      "text/plain": [
       "array(['Soya', 'Mahi'], dtype='<U4')"
      ]
     },
     "execution_count": 60,
     "metadata": {},
     "output_type": "execute_result"
    }
   ],
   "source": [
    "np.char.title(ar4)"
   ]
  },
  {
   "cell_type": "code",
   "execution_count": 61,
   "id": "65d806b9-e968-42f1-8bc9-ab4a9e95756a",
   "metadata": {},
   "outputs": [
    {
     "data": {
      "text/plain": [
       "array(['Soya', 'Mahi'], dtype='<U4')"
      ]
     },
     "execution_count": 61,
     "metadata": {},
     "output_type": "execute_result"
    }
   ],
   "source": [
    "np.char.capitalize(ar4)"
   ]
  },
  {
   "cell_type": "code",
   "execution_count": 62,
   "id": "184817fe-d6f3-47c4-b58e-ded9af63639c",
   "metadata": {},
   "outputs": [],
   "source": [
    "# Numpy - Mathematical Functions."
   ]
  },
  {
   "cell_type": "code",
   "execution_count": 66,
   "id": "0c8ce2a4-37cf-4791-834b-4d7bd3af25e6",
   "metadata": {},
   "outputs": [
    {
     "data": {
      "text/plain": [
       "array([[4, 4, 2, 4],\n",
       "       [4, 4, 3, 5],\n",
       "       [8, 7, 5, 3]])"
      ]
     },
     "execution_count": 66,
     "metadata": {},
     "output_type": "execute_result"
    }
   ],
   "source": [
    "ar"
   ]
  },
  {
   "cell_type": "code",
   "execution_count": 67,
   "id": "60b7636a-1cd0-4f8b-8161-627c45cc606f",
   "metadata": {},
   "outputs": [
    {
     "data": {
      "text/plain": [
       "array([[-0.7568025 , -0.7568025 ,  0.90929743, -0.7568025 ],\n",
       "       [-0.7568025 , -0.7568025 ,  0.14112001, -0.95892427],\n",
       "       [ 0.98935825,  0.6569866 , -0.95892427,  0.14112001]])"
      ]
     },
     "execution_count": 67,
     "metadata": {},
     "output_type": "execute_result"
    }
   ],
   "source": [
    "np.sin(ar)"
   ]
  },
  {
   "cell_type": "code",
   "execution_count": 68,
   "id": "65973da3-9404-4376-b08f-1297949f41f3",
   "metadata": {},
   "outputs": [
    {
     "data": {
      "text/plain": [
       "array([[-0.65364362, -0.65364362, -0.41614684, -0.65364362],\n",
       "       [-0.65364362, -0.65364362, -0.9899925 ,  0.28366219],\n",
       "       [-0.14550003,  0.75390225,  0.28366219, -0.9899925 ]])"
      ]
     },
     "execution_count": 68,
     "metadata": {},
     "output_type": "execute_result"
    }
   ],
   "source": [
    "np.cos(ar)"
   ]
  },
  {
   "cell_type": "code",
   "execution_count": 74,
   "id": "30cd1c75-3a6d-49d8-8aa1-5f0eda660e10",
   "metadata": {},
   "outputs": [
    {
     "data": {
      "text/plain": [
       "array([[ 1.15782128,  1.15782128, -2.18503986,  1.15782128],\n",
       "       [ 1.15782128,  1.15782128, -0.14254654, -3.38051501],\n",
       "       [-6.79971146,  0.87144798, -3.38051501, -0.14254654]])"
      ]
     },
     "execution_count": 74,
     "metadata": {},
     "output_type": "execute_result"
    }
   ],
   "source": [
    "np.tan(ar)"
   ]
  },
  {
   "cell_type": "code",
   "execution_count": 79,
   "id": "f53519ef-3633-4fa9-a069-5b3ac3f61dbf",
   "metadata": {},
   "outputs": [
    {
     "data": {
      "text/plain": [
       "array([[0.9993293 , 0.9993293 , 0.96402758, 0.9993293 ],\n",
       "       [0.9993293 , 0.9993293 , 0.99505475, 0.9999092 ],\n",
       "       [0.99999977, 0.99999834, 0.9999092 , 0.99505475]])"
      ]
     },
     "execution_count": 79,
     "metadata": {},
     "output_type": "execute_result"
    }
   ],
   "source": [
    "np.tanh(ar)            # tangent"
   ]
  },
  {
   "cell_type": "code",
   "execution_count": 76,
   "id": "fe5a73a2-a969-4eab-9c7d-4fb6cc2d85cf",
   "metadata": {},
   "outputs": [
    {
     "data": {
      "text/plain": [
       "array([[0.60205999, 0.60205999, 0.30103   , 0.60205999],\n",
       "       [0.60205999, 0.60205999, 0.47712125, 0.69897   ],\n",
       "       [0.90308999, 0.84509804, 0.69897   , 0.47712125]])"
      ]
     },
     "execution_count": 76,
     "metadata": {},
     "output_type": "execute_result"
    }
   ],
   "source": [
    "np.log10(ar)"
   ]
  },
  {
   "cell_type": "code",
   "execution_count": 78,
   "id": "9f03f86b-88c6-442b-b96f-9f6b35f80fa0",
   "metadata": {},
   "outputs": [
    {
     "data": {
      "text/plain": [
       "array([[  54.59815003,   54.59815003,    7.3890561 ,   54.59815003],\n",
       "       [  54.59815003,   54.59815003,   20.08553692,  148.4131591 ],\n",
       "       [2980.95798704, 1096.63315843,  148.4131591 ,   20.08553692]])"
      ]
     },
     "execution_count": 78,
     "metadata": {},
     "output_type": "execute_result"
    }
   ],
   "source": [
    "np.exp(ar)           # Exponent     "
   ]
  },
  {
   "cell_type": "code",
   "execution_count": 81,
   "id": "738ec87b-22a5-430c-b2b2-2402ed21230d",
   "metadata": {},
   "outputs": [
    {
     "data": {
      "text/plain": [
       "array([[2.        , 2.        , 1.41421356, 2.        ],\n",
       "       [2.        , 2.        , 1.73205081, 2.23606798],\n",
       "       [2.82842712, 2.64575131, 2.23606798, 1.73205081]])"
      ]
     },
     "execution_count": 81,
     "metadata": {},
     "output_type": "execute_result"
    }
   ],
   "source": [
    "np.sqrt(ar)          # square root"
   ]
  },
  {
   "cell_type": "code",
   "execution_count": 83,
   "id": "364ada7f-1b83-4bd3-a4ab-09a3232f7b77",
   "metadata": {},
   "outputs": [
    {
     "data": {
      "text/plain": [
       "array([[16, 16,  4, 16],\n",
       "       [16, 16,  9, 25],\n",
       "       [64, 49, 25,  9]])"
      ]
     },
     "execution_count": 83,
     "metadata": {},
     "output_type": "execute_result"
    }
   ],
   "source": [
    "np.power(ar , 2)      # power"
   ]
  },
  {
   "cell_type": "code",
   "execution_count": 84,
   "id": "bfb8cf91-94aa-4df9-88e7-6787885c1e7b",
   "metadata": {},
   "outputs": [
    {
     "data": {
      "text/plain": [
       "4.416666666666667"
      ]
     },
     "execution_count": 84,
     "metadata": {},
     "output_type": "execute_result"
    }
   ],
   "source": [
    "np.mean(ar)"
   ]
  },
  {
   "cell_type": "code",
   "execution_count": 86,
   "id": "310abaea-916d-4a0d-8f34-54656c171f49",
   "metadata": {},
   "outputs": [
    {
     "data": {
      "text/plain": [
       "4.0"
      ]
     },
     "execution_count": 86,
     "metadata": {},
     "output_type": "execute_result"
    }
   ],
   "source": [
    "np.median(ar)"
   ]
  },
  {
   "cell_type": "code",
   "execution_count": 87,
   "id": "6b7ce590-45a5-4fe5-b0a6-e01296433357",
   "metadata": {},
   "outputs": [
    {
     "data": {
      "text/plain": [
       "1.6051133570215186"
      ]
     },
     "execution_count": 87,
     "metadata": {},
     "output_type": "execute_result"
    }
   ],
   "source": [
    "np.std(ar)            # standard deviation"
   ]
  },
  {
   "cell_type": "code",
   "execution_count": 91,
   "id": "72149f93-daee-4350-9d1d-c69c1c9bfa38",
   "metadata": {},
   "outputs": [
    {
     "data": {
      "text/plain": [
       "2.5763888888888893"
      ]
     },
     "execution_count": 91,
     "metadata": {},
     "output_type": "execute_result"
    }
   ],
   "source": [
    "np.var(ar)             # varience"
   ]
  },
  {
   "cell_type": "code",
   "execution_count": 92,
   "id": "903a3ffd-2ed1-4c4e-8948-0bd7598a3431",
   "metadata": {},
   "outputs": [
    {
     "data": {
      "text/plain": [
       "array([[4, 4, 2, 4],\n",
       "       [4, 4, 3, 5],\n",
       "       [8, 7, 5, 3]])"
      ]
     },
     "execution_count": 92,
     "metadata": {},
     "output_type": "execute_result"
    }
   ],
   "source": [
    "ar         "
   ]
  },
  {
   "cell_type": "code",
   "execution_count": 93,
   "id": "1fcd28ff-b9f2-43aa-ab64-980c80e0e808",
   "metadata": {},
   "outputs": [
    {
     "data": {
      "text/plain": [
       "8"
      ]
     },
     "execution_count": 93,
     "metadata": {},
     "output_type": "execute_result"
    }
   ],
   "source": [
    "np.max(ar)"
   ]
  },
  {
   "cell_type": "code",
   "execution_count": 94,
   "id": "36118de6-21f1-40f6-8b74-e0290cc76461",
   "metadata": {},
   "outputs": [
    {
     "data": {
      "text/plain": [
       "2"
      ]
     },
     "execution_count": 94,
     "metadata": {},
     "output_type": "execute_result"
    }
   ],
   "source": [
    "np.min(ar)"
   ]
  },
  {
   "cell_type": "code",
   "execution_count": 95,
   "id": "5291b016-3be5-4ebc-ac43-fe0f70aab1c2",
   "metadata": {},
   "outputs": [],
   "source": [
    "# Sort, Search & Counting Functions."
   ]
  },
  {
   "cell_type": "code",
   "execution_count": 97,
   "id": "47bbd0ca-f182-4b77-8189-ea1a0a32b71c",
   "metadata": {},
   "outputs": [],
   "source": [
    "import numpy as np"
   ]
  },
  {
   "cell_type": "code",
   "execution_count": 98,
   "id": "c2620829-d3be-49aa-a7a5-d86a0900e38e",
   "metadata": {},
   "outputs": [],
   "source": [
    "ar = np.array([2,3,4,4,3,5,6,7,4])"
   ]
  },
  {
   "cell_type": "code",
   "execution_count": 99,
   "id": "02003455-3a0f-4a8b-875e-0b383840b26e",
   "metadata": {},
   "outputs": [
    {
     "data": {
      "text/plain": [
       "array([2, 3, 4, 4, 3, 5, 6, 7, 4])"
      ]
     },
     "execution_count": 99,
     "metadata": {},
     "output_type": "execute_result"
    }
   ],
   "source": [
    "ar"
   ]
  },
  {
   "cell_type": "code",
   "execution_count": 100,
   "id": "29d1b3a7-e668-4046-8d54-fa4e53980b4a",
   "metadata": {},
   "outputs": [
    {
     "data": {
      "text/plain": [
       "array([2, 3, 3, 4, 4, 4, 5, 6, 7])"
      ]
     },
     "execution_count": 100,
     "metadata": {},
     "output_type": "execute_result"
    }
   ],
   "source": [
    "np.sort(ar)"
   ]
  },
  {
   "cell_type": "code",
   "execution_count": 101,
   "id": "0da78951-14b2-4c2a-b3b3-fcfda30251e8",
   "metadata": {},
   "outputs": [
    {
     "data": {
      "text/plain": [
       "9"
      ]
     },
     "execution_count": 101,
     "metadata": {},
     "output_type": "execute_result"
    }
   ],
   "source": [
    "np.searchsorted(ar, 11)"
   ]
  },
  {
   "cell_type": "code",
   "execution_count": 104,
   "id": "bf61c383-84f1-4cf6-b2c3-1b7bf8eca184",
   "metadata": {},
   "outputs": [],
   "source": [
    "ar1 = np.array([0,23,56,34,0,0,0,])"
   ]
  },
  {
   "cell_type": "code",
   "execution_count": 105,
   "id": "9b11446b-fed3-4ffb-9c10-662777446304",
   "metadata": {},
   "outputs": [
    {
     "data": {
      "text/plain": [
       "3"
      ]
     },
     "execution_count": 105,
     "metadata": {},
     "output_type": "execute_result"
    }
   ],
   "source": [
    "np.count_nonzero(ar1)"
   ]
  },
  {
   "cell_type": "code",
   "execution_count": 106,
   "id": "8aed0723-2843-4ac2-8ea9-5c09aff4c42d",
   "metadata": {},
   "outputs": [
    {
     "data": {
      "text/plain": [
       "array([2, 3, 4, 4, 3, 5, 6, 7, 4])"
      ]
     },
     "execution_count": 106,
     "metadata": {},
     "output_type": "execute_result"
    }
   ],
   "source": [
    "ar"
   ]
  },
  {
   "cell_type": "code",
   "execution_count": 107,
   "id": "145601ee-1865-4ffe-882e-7ad1ea019ad8",
   "metadata": {},
   "outputs": [
    {
     "data": {
      "text/plain": [
       "(array([6, 7]),)"
      ]
     },
     "execution_count": 107,
     "metadata": {},
     "output_type": "execute_result"
    }
   ],
   "source": [
    "np.where(ar > 5)"
   ]
  },
  {
   "cell_type": "code",
   "execution_count": 109,
   "id": "8cd7169e-2a48-43cf-a1e8-146e401f67b6",
   "metadata": {},
   "outputs": [
    {
     "data": {
      "text/plain": [
       "array([4, 4, 5, 6, 7, 4])"
      ]
     },
     "execution_count": 109,
     "metadata": {},
     "output_type": "execute_result"
    }
   ],
   "source": [
    "np.extract(ar>3 ,ar)"
   ]
  },
  {
   "cell_type": "code",
   "execution_count": 110,
   "id": "d74c8314-53bd-42c6-a474-f3f505aa0b0a",
   "metadata": {},
   "outputs": [],
   "source": [
    "# Numpy - Byte Swapping."
   ]
  },
  {
   "cell_type": "code",
   "execution_count": 111,
   "id": "a4486d3f-b32f-4069-939d-5d22134fd18d",
   "metadata": {},
   "outputs": [
    {
     "data": {
      "text/plain": [
       "array([2, 3, 4, 4, 3, 5, 6, 7, 4])"
      ]
     },
     "execution_count": 111,
     "metadata": {},
     "output_type": "execute_result"
    }
   ],
   "source": [
    "ar"
   ]
  },
  {
   "cell_type": "code",
   "execution_count": 112,
   "id": "1f1c354d-34cc-4c2a-903b-cd459a97c48f",
   "metadata": {},
   "outputs": [
    {
     "data": {
      "text/plain": [
       "array([144115188075855872, 216172782113783808, 288230376151711744,\n",
       "       288230376151711744, 216172782113783808, 360287970189639680,\n",
       "       432345564227567616, 504403158265495552, 288230376151711744])"
      ]
     },
     "execution_count": 112,
     "metadata": {},
     "output_type": "execute_result"
    }
   ],
   "source": [
    "ar.byteswap()"
   ]
  },
  {
   "cell_type": "code",
   "execution_count": 113,
   "id": "55404c4c-e9a5-4f5f-9d53-509142eb6aeb",
   "metadata": {},
   "outputs": [],
   "source": [
    "# Numpy - Copies &Views."
   ]
  },
  {
   "cell_type": "code",
   "execution_count": 114,
   "id": "3507e7cf-f0db-4d7a-bdc7-57f315b712de",
   "metadata": {},
   "outputs": [
    {
     "data": {
      "text/plain": [
       "array([2, 3, 4, 4, 3, 5, 6, 7, 4])"
      ]
     },
     "execution_count": 114,
     "metadata": {},
     "output_type": "execute_result"
    }
   ],
   "source": [
    "ar"
   ]
  },
  {
   "cell_type": "code",
   "execution_count": 124,
   "id": "e955dc85-d7f8-4696-b4a2-ba0e85d669bd",
   "metadata": {},
   "outputs": [],
   "source": [
    "a = np.copy(ar)"
   ]
  },
  {
   "cell_type": "code",
   "execution_count": 118,
   "id": "ffd70e5d-d0fa-4c28-9446-a6355bcce087",
   "metadata": {},
   "outputs": [],
   "source": [
    "b = ar.view()"
   ]
  },
  {
   "cell_type": "code",
   "execution_count": 126,
   "id": "c4fa5ff3-ae05-4407-aeb0-0327d7aa2f9f",
   "metadata": {},
   "outputs": [],
   "source": [
    "b = ar"
   ]
  },
  {
   "cell_type": "code",
   "execution_count": 119,
   "id": "5fa5be81-1d0c-46a9-b7a8-6f179d17a87d",
   "metadata": {},
   "outputs": [
    {
     "data": {
      "text/plain": [
       "array([2, 3, 4, 4, 3, 5, 6, 7, 4])"
      ]
     },
     "execution_count": 119,
     "metadata": {},
     "output_type": "execute_result"
    }
   ],
   "source": [
    "b"
   ]
  },
  {
   "cell_type": "code",
   "execution_count": 120,
   "id": "5d67a714-c5e8-41e0-ad1e-f45aa621a6e1",
   "metadata": {},
   "outputs": [
    {
     "data": {
      "text/plain": [
       "array([2, 3, 4, 4, 3, 5, 6, 7, 4])"
      ]
     },
     "execution_count": 120,
     "metadata": {},
     "output_type": "execute_result"
    }
   ],
   "source": [
    "ar"
   ]
  },
  {
   "cell_type": "code",
   "execution_count": 121,
   "id": "21dfa3b4-7222-4508-bc54-166cfafeff24",
   "metadata": {},
   "outputs": [],
   "source": [
    "b[0] = 45"
   ]
  },
  {
   "cell_type": "code",
   "execution_count": 122,
   "id": "84f4b4d1-6231-43bc-8c6a-f70b19b080ac",
   "metadata": {},
   "outputs": [
    {
     "data": {
      "text/plain": [
       "array([45,  3,  4,  4,  3,  5,  6,  7,  4])"
      ]
     },
     "execution_count": 122,
     "metadata": {},
     "output_type": "execute_result"
    }
   ],
   "source": [
    "b"
   ]
  },
  {
   "cell_type": "code",
   "execution_count": 123,
   "id": "4eaadec5-c4b5-4574-98be-422c13cd44b4",
   "metadata": {},
   "outputs": [
    {
     "data": {
      "text/plain": [
       "array([45,  3,  4,  4,  3,  5,  6,  7,  4])"
      ]
     },
     "execution_count": 123,
     "metadata": {},
     "output_type": "execute_result"
    }
   ],
   "source": [
    "ar"
   ]
  },
  {
   "cell_type": "code",
   "execution_count": 127,
   "id": "564d8cfb-994f-481a-a7f0-5a335050a4d8",
   "metadata": {},
   "outputs": [],
   "source": [
    "# Numpy - Matrix Library."
   ]
  },
  {
   "cell_type": "code",
   "execution_count": 128,
   "id": "cf49af27-40e9-48df-8908-2c288a3bde2b",
   "metadata": {},
   "outputs": [],
   "source": [
    "import numpy.matlib as nm"
   ]
  },
  {
   "cell_type": "code",
   "execution_count": 129,
   "id": "10e49988-a3a2-44ab-9fc2-5bbf470ed5e1",
   "metadata": {},
   "outputs": [
    {
     "data": {
      "text/plain": [
       "matrix([[0., 0., 0., 0., 0.]])"
      ]
     },
     "execution_count": 129,
     "metadata": {},
     "output_type": "execute_result"
    }
   ],
   "source": [
    "nm.zeros(5)"
   ]
  },
  {
   "cell_type": "code",
   "execution_count": 130,
   "id": "1a9e7daa-5aca-47ea-a06a-639dc7ad518f",
   "metadata": {},
   "outputs": [
    {
     "data": {
      "text/plain": [
       "matrix([[1., 1., 1., 1.],\n",
       "        [1., 1., 1., 1.],\n",
       "        [1., 1., 1., 1.]])"
      ]
     },
     "execution_count": 130,
     "metadata": {},
     "output_type": "execute_result"
    }
   ],
   "source": [
    "nm.ones((3,4))"
   ]
  },
  {
   "cell_type": "code",
   "execution_count": 131,
   "id": "df456e33-bbcb-4430-be2b-b4c9160679a8",
   "metadata": {},
   "outputs": [
    {
     "data": {
      "text/plain": [
       "matrix([[1., 0., 0., 0., 0.],\n",
       "        [0., 1., 0., 0., 0.],\n",
       "        [0., 0., 1., 0., 0.],\n",
       "        [0., 0., 0., 1., 0.],\n",
       "        [0., 0., 0., 0., 1.]])"
      ]
     },
     "execution_count": 131,
     "metadata": {},
     "output_type": "execute_result"
    }
   ],
   "source": [
    "nm.eye(5)"
   ]
  },
  {
   "cell_type": "code",
   "execution_count": 132,
   "id": "0730da3c-9bc0-439c-b2fa-6c2c95c80874",
   "metadata": {},
   "outputs": [],
   "source": [
    "# Numpy - Linear Algebra"
   ]
  },
  {
   "cell_type": "code",
   "execution_count": 133,
   "id": "fb1c61b1-41e9-4b8b-9e90-c5aa44d46c38",
   "metadata": {},
   "outputs": [],
   "source": [
    "ar1 = np.random.randint([[2,3],[4,5]])"
   ]
  },
  {
   "cell_type": "code",
   "execution_count": 134,
   "id": "03187c61-bfc0-484d-87df-9d9c0f4e6b2e",
   "metadata": {},
   "outputs": [],
   "source": [
    "ar2 = np.random.randint([[5,3],[2,5]])"
   ]
  },
  {
   "cell_type": "code",
   "execution_count": 135,
   "id": "245750ce-a1a3-4ab8-9732-6c915b9bc028",
   "metadata": {},
   "outputs": [
    {
     "data": {
      "text/plain": [
       "array([[ 0,  0],\n",
       "       [13, 19]])"
      ]
     },
     "execution_count": 135,
     "metadata": {},
     "output_type": "execute_result"
    }
   ],
   "source": [
    "np.dot(ar1,ar2)"
   ]
  },
  {
   "cell_type": "code",
   "execution_count": 136,
   "id": "33cc0da6-4d8c-4d2c-ace3-a10e8a8323a8",
   "metadata": {},
   "outputs": [
    {
     "data": {
      "text/plain": [
       "array([[ 0,  0],\n",
       "       [13, 19]])"
      ]
     },
     "execution_count": 136,
     "metadata": {},
     "output_type": "execute_result"
    }
   ],
   "source": [
    "ar1@ar2"
   ]
  },
  {
   "cell_type": "code",
   "execution_count": null,
   "id": "0d9e44ca-f8ec-443e-8ed1-6ff1423b8c4b",
   "metadata": {},
   "outputs": [],
   "source": []
  }
 ],
 "metadata": {
  "kernelspec": {
   "display_name": "Python 3 (ipykernel)",
   "language": "python",
   "name": "python3"
  },
  "language_info": {
   "codemirror_mode": {
    "name": "ipython",
    "version": 3
   },
   "file_extension": ".py",
   "mimetype": "text/x-python",
   "name": "python",
   "nbconvert_exporter": "python",
   "pygments_lexer": "ipython3",
   "version": "3.10.8"
  }
 },
 "nbformat": 4,
 "nbformat_minor": 5
}
