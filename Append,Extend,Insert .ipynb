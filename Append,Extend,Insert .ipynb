{
 "cells": [
  {
   "cell_type": "markdown",
   "id": "dbe61a07-6416-4c2c-956f-97c85fb315e5",
   "metadata": {},
   "source": [
    "# Append, Extend, Insert function"
   ]
  },
  {
   "cell_type": "code",
   "execution_count": 22,
   "id": "29ee283c-8c1a-4791-8727-7f8c043ae72c",
   "metadata": {},
   "outputs": [],
   "source": [
    "l1 = [23,76,\"skill\",56.78,23]"
   ]
  },
  {
   "cell_type": "code",
   "execution_count": 23,
   "id": "f781d528-4394-4b0d-949e-85f4c1979d3f",
   "metadata": {},
   "outputs": [],
   "source": [
    "l2 = [34,67.54]"
   ]
  },
  {
   "cell_type": "code",
   "execution_count": 24,
   "id": "6f531a7d-a493-4d73-a420-4b5628d08008",
   "metadata": {},
   "outputs": [],
   "source": [
    "# Append \n",
    "l1.append(l2)"
   ]
  },
  {
   "cell_type": "code",
   "execution_count": 25,
   "id": "0fd3f4b4-af74-4c96-a49c-9b28289a61dd",
   "metadata": {},
   "outputs": [
    {
     "data": {
      "text/plain": [
       "[23, 76, 'skill', 56.78, 23, [34, 67.54]]"
      ]
     },
     "execution_count": 25,
     "metadata": {},
     "output_type": "execute_result"
    }
   ],
   "source": [
    "l1"
   ]
  },
  {
   "cell_type": "code",
   "execution_count": 26,
   "id": "d744ac6e-cfaf-40b3-84af-d11bfbf0d0da",
   "metadata": {},
   "outputs": [],
   "source": [
    "# Extend\n",
    "l1.extend(l2)"
   ]
  },
  {
   "cell_type": "code",
   "execution_count": 27,
   "id": "4fb77261-c217-494d-94f1-b0854b369743",
   "metadata": {},
   "outputs": [
    {
     "data": {
      "text/plain": [
       "[23, 76, 'skill', 56.78, 23, [34, 67.54], 34, 67.54]"
      ]
     },
     "execution_count": 27,
     "metadata": {},
     "output_type": "execute_result"
    }
   ],
   "source": [
    "l1"
   ]
  },
  {
   "cell_type": "code",
   "execution_count": 34,
   "id": "a6551751-4f6a-4483-b977-9d4d56efa65f",
   "metadata": {},
   "outputs": [],
   "source": [
    "# Insert\n",
    "l1.insert(4,\"Goodwill\")"
   ]
  },
  {
   "cell_type": "code",
   "execution_count": 31,
   "id": "5b37337f-ad13-4b4e-a5ee-da379b7f97a1",
   "metadata": {},
   "outputs": [
    {
     "data": {
      "text/plain": [
       "[23, [34, 67.54], 76, 'skill', 'Goodwill', 56.78, 23, [34, 67.54], 34, 67.54]"
      ]
     },
     "execution_count": 31,
     "metadata": {},
     "output_type": "execute_result"
    }
   ],
   "source": [
    "l1"
   ]
  },
  {
   "cell_type": "code",
   "execution_count": 32,
   "id": "12b4a1f7-1c09-49e7-a131-a6d931bb6403",
   "metadata": {},
   "outputs": [],
   "source": [
    "l1.insert(6,\"Radhika\")"
   ]
  },
  {
   "cell_type": "code",
   "execution_count": 33,
   "id": "fcd2fc22-3892-4eb0-82ad-77f772d51a2a",
   "metadata": {},
   "outputs": [
    {
     "data": {
      "text/plain": [
       "[23,\n",
       " [34, 67.54],\n",
       " 76,\n",
       " 'skill',\n",
       " 'Goodwill',\n",
       " 56.78,\n",
       " 'Radhika',\n",
       " 23,\n",
       " [34, 67.54],\n",
       " 34,\n",
       " 67.54]"
      ]
     },
     "execution_count": 33,
     "metadata": {},
     "output_type": "execute_result"
    }
   ],
   "source": [
    "l1"
   ]
  },
  {
   "cell_type": "code",
   "execution_count": 1,
   "id": "7c051243-0c67-43f1-935b-5cee1af88067",
   "metadata": {},
   "outputs": [],
   "source": [
    "l3 = [ 23,'thai',45,'hello']\n",
    "l4 = [ 34,'kill','lion',56,45]"
   ]
  },
  {
   "cell_type": "code",
   "execution_count": 3,
   "id": "7877fad8-e384-4458-b4d3-9830d865fa5e",
   "metadata": {},
   "outputs": [],
   "source": [
    "l3.append(l4)"
   ]
  },
  {
   "cell_type": "code",
   "execution_count": 4,
   "id": "92a55300-0cc6-4ad4-933b-69d839f7d898",
   "metadata": {},
   "outputs": [],
   "source": [
    "l3.extend(l4)"
   ]
  },
  {
   "cell_type": "code",
   "execution_count": null,
   "id": "d98a1f89-f32f-4f02-bf24-f4723cce2720",
   "metadata": {},
   "outputs": [],
   "source": []
  }
 ],
 "metadata": {
  "kernelspec": {
   "display_name": "Python 3 (ipykernel)",
   "language": "python",
   "name": "python3"
  },
  "language_info": {
   "codemirror_mode": {
    "name": "ipython",
    "version": 3
   },
   "file_extension": ".py",
   "mimetype": "text/x-python",
   "name": "python",
   "nbconvert_exporter": "python",
   "pygments_lexer": "ipython3",
   "version": "3.10.8"
  }
 },
 "nbformat": 4,
 "nbformat_minor": 5
}
