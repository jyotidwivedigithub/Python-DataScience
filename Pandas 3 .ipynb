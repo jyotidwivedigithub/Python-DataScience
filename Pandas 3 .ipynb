{
 "cells": [
  {
   "cell_type": "code",
   "execution_count": 1,
   "id": "6f67b54e-df9a-495c-8b7b-8550aef29ca9",
   "metadata": {},
   "outputs": [],
   "source": [
    "import pandas as pd"
   ]
  },
  {
   "cell_type": "code",
   "execution_count": 2,
   "id": "4daeecc8-06d3-4aa7-9287-0ecb7f256056",
   "metadata": {},
   "outputs": [],
   "source": [
    "df = pd.read_csv(\"https://raw.githubusercontent.com/datasciencedojo/datasets/master/titanic.csv\")"
   ]
  },
  {
   "cell_type": "code",
   "execution_count": 4,
   "id": "b1476173-5c21-4d0a-b8dd-7dfb2a8fde50",
   "metadata": {},
   "outputs": [
    {
     "data": {
      "text/plain": [
       "Index(['PassengerId', 'Survived', 'Pclass', 'Name', 'Sex', 'Age', 'SibSp',\n",
       "       'Parch', 'Ticket', 'Fare', 'Cabin', 'Embarked'],\n",
       "      dtype='object')"
      ]
     },
     "execution_count": 4,
     "metadata": {},
     "output_type": "execute_result"
    }
   ],
   "source": [
    "df.columns"
   ]
  },
  {
   "cell_type": "code",
   "execution_count": 5,
   "id": "1cc07e1a-180a-41d4-a1dd-cc578650eab0",
   "metadata": {},
   "outputs": [
    {
     "data": {
      "text/plain": [
       "0                                Braund, Mr. Owen Harris\n",
       "1      Cumings, Mrs. John Bradley (Florence Briggs Th...\n",
       "2                                 Heikkinen, Miss. Laina\n",
       "3           Futrelle, Mrs. Jacques Heath (Lily May Peel)\n",
       "4                               Allen, Mr. William Henry\n",
       "                             ...                        \n",
       "886                                Montvila, Rev. Juozas\n",
       "887                         Graham, Miss. Margaret Edith\n",
       "888             Johnston, Miss. Catherine Helen \"Carrie\"\n",
       "889                                Behr, Mr. Karl Howell\n",
       "890                                  Dooley, Mr. Patrick\n",
       "Name: Name, Length: 891, dtype: object"
      ]
     },
     "execution_count": 5,
     "metadata": {},
     "output_type": "execute_result"
    }
   ],
   "source": [
    "df['Name']"
   ]
  },
  {
   "cell_type": "code",
   "execution_count": 11,
   "id": "12b0a603-7eeb-4bc5-87ec-a692057eca0e",
   "metadata": {},
   "outputs": [],
   "source": [
    "s = df['Name'][0:10]"
   ]
  },
  {
   "cell_type": "code",
   "execution_count": 12,
   "id": "8458885a-92af-49da-b883-0ba2fed20c57",
   "metadata": {},
   "outputs": [
    {
     "data": {
      "text/plain": [
       "10"
      ]
     },
     "execution_count": 12,
     "metadata": {},
     "output_type": "execute_result"
    }
   ],
   "source": [
    "len(s)"
   ]
  },
  {
   "cell_type": "code",
   "execution_count": 13,
   "id": "09a3512b-8eed-45be-908f-71df1eb97352",
   "metadata": {},
   "outputs": [
    {
     "data": {
      "text/plain": [
       "0                              Braund, Mr. Owen Harris\n",
       "1    Cumings, Mrs. John Bradley (Florence Briggs Th...\n",
       "2                               Heikkinen, Miss. Laina\n",
       "3         Futrelle, Mrs. Jacques Heath (Lily May Peel)\n",
       "4                             Allen, Mr. William Henry\n",
       "5                                     Moran, Mr. James\n",
       "6                              McCarthy, Mr. Timothy J\n",
       "7                       Palsson, Master. Gosta Leonard\n",
       "8    Johnson, Mrs. Oscar W (Elisabeth Vilhelmina Berg)\n",
       "9                  Nasser, Mrs. Nicholas (Adele Achem)\n",
       "Name: Name, dtype: object"
      ]
     },
     "execution_count": 13,
     "metadata": {},
     "output_type": "execute_result"
    }
   ],
   "source": [
    "s"
   ]
  },
  {
   "cell_type": "code",
   "execution_count": 14,
   "id": "d717bde7-a459-4e22-b9a2-650dbd3de805",
   "metadata": {},
   "outputs": [
    {
     "data": {
      "text/plain": [
       "pandas.core.series.Series"
      ]
     },
     "execution_count": 14,
     "metadata": {},
     "output_type": "execute_result"
    }
   ],
   "source": [
    "type(s)"
   ]
  },
  {
   "cell_type": "code",
   "execution_count": 24,
   "id": "a6b8e999-af18-4002-a497-297c9efd9cbc",
   "metadata": {},
   "outputs": [],
   "source": [
    "l = ['a','b','c','d','e','f','g','h','i','j']"
   ]
  },
  {
   "cell_type": "code",
   "execution_count": 28,
   "id": "3f9a9e53-222b-4062-8783-cb1ad37ad3f8",
   "metadata": {},
   "outputs": [],
   "source": [
    "s = pd.Series(list(s),index=l)"
   ]
  },
  {
   "cell_type": "code",
   "execution_count": 20,
   "id": "9134642d-3473-4f70-a100-ce853be1792a",
   "metadata": {},
   "outputs": [
    {
     "data": {
      "text/plain": [
       "0                              Braund, Mr. Owen Harris\n",
       "1    Cumings, Mrs. John Bradley (Florence Briggs Th...\n",
       "2                               Heikkinen, Miss. Laina\n",
       "3         Futrelle, Mrs. Jacques Heath (Lily May Peel)\n",
       "4                             Allen, Mr. William Henry\n",
       "5                                     Moran, Mr. James\n",
       "6                              McCarthy, Mr. Timothy J\n",
       "7                       Palsson, Master. Gosta Leonard\n",
       "8    Johnson, Mrs. Oscar W (Elisabeth Vilhelmina Berg)\n",
       "9                  Nasser, Mrs. Nicholas (Adele Achem)\n",
       "Name: Name, dtype: object"
      ]
     },
     "execution_count": 20,
     "metadata": {},
     "output_type": "execute_result"
    }
   ],
   "source": [
    "s"
   ]
  },
  {
   "cell_type": "code",
   "execution_count": 26,
   "id": "8d928a66-bf01-40ee-a64d-d8697718719f",
   "metadata": {},
   "outputs": [],
   "source": [
    "l = ['subh','b','c','d','e','f','g','h','i','j']"
   ]
  },
  {
   "cell_type": "code",
   "execution_count": 29,
   "id": "9e69edb7-bbea-4073-a354-61e35ec7de2d",
   "metadata": {},
   "outputs": [],
   "source": [
    "s1 = pd.Series(list(s),index=l)"
   ]
  },
  {
   "cell_type": "code",
   "execution_count": 30,
   "id": "6b07dd98-da7c-4c99-8f1c-503b52cafce3",
   "metadata": {},
   "outputs": [
    {
     "data": {
      "text/plain": [
       "subh                              Braund, Mr. Owen Harris\n",
       "b       Cumings, Mrs. John Bradley (Florence Briggs Th...\n",
       "c                                  Heikkinen, Miss. Laina\n",
       "d            Futrelle, Mrs. Jacques Heath (Lily May Peel)\n",
       "e                                Allen, Mr. William Henry\n",
       "f                                        Moran, Mr. James\n",
       "g                                 McCarthy, Mr. Timothy J\n",
       "h                          Palsson, Master. Gosta Leonard\n",
       "i       Johnson, Mrs. Oscar W (Elisabeth Vilhelmina Berg)\n",
       "j                     Nasser, Mrs. Nicholas (Adele Achem)\n",
       "dtype: object"
      ]
     },
     "execution_count": 30,
     "metadata": {},
     "output_type": "execute_result"
    }
   ],
   "source": [
    "s1"
   ]
  },
  {
   "cell_type": "code",
   "execution_count": 31,
   "id": "1faefa98-008f-417f-a32a-da96e2fe00ab",
   "metadata": {},
   "outputs": [
    {
     "data": {
      "text/plain": [
       "'Braund, Mr. Owen Harris'"
      ]
     },
     "execution_count": 31,
     "metadata": {},
     "output_type": "execute_result"
    }
   ],
   "source": [
    "s[0]"
   ]
  },
  {
   "cell_type": "code",
   "execution_count": 32,
   "id": "07b3640a-8488-465f-a9dc-c3b188ed8216",
   "metadata": {},
   "outputs": [
    {
     "data": {
      "text/plain": [
       "'Braund, Mr. Owen Harris'"
      ]
     },
     "execution_count": 32,
     "metadata": {},
     "output_type": "execute_result"
    }
   ],
   "source": [
    "s1[0]"
   ]
  },
  {
   "cell_type": "code",
   "execution_count": 33,
   "id": "ae876fbd-09af-453b-b5df-efe6174de7ae",
   "metadata": {},
   "outputs": [
    {
     "data": {
      "text/plain": [
       "'Braund, Mr. Owen Harris'"
      ]
     },
     "execution_count": 33,
     "metadata": {},
     "output_type": "execute_result"
    }
   ],
   "source": [
    "s1['subh']"
   ]
  },
  {
   "cell_type": "code",
   "execution_count": 35,
   "id": "756bf379-372e-4777-8469-7db00e836329",
   "metadata": {},
   "outputs": [
    {
     "name": "stderr",
     "output_type": "stream",
     "text": [
      "/tmp/ipykernel_133/2451741888.py:1: FutureWarning: The series.append method is deprecated and will be removed from pandas in a future version. Use pandas.concat instead.\n",
      "  s2 = s1.append(s)\n"
     ]
    }
   ],
   "source": [
    "s2 = s1.append(s)"
   ]
  },
  {
   "cell_type": "code",
   "execution_count": 36,
   "id": "9f1c2f3d-dcc9-4534-8dea-f8777606dd6b",
   "metadata": {},
   "outputs": [
    {
     "data": {
      "text/plain": [
       "subh                              Braund, Mr. Owen Harris\n",
       "b       Cumings, Mrs. John Bradley (Florence Briggs Th...\n",
       "c                                  Heikkinen, Miss. Laina\n",
       "d            Futrelle, Mrs. Jacques Heath (Lily May Peel)\n",
       "e                                Allen, Mr. William Henry\n",
       "f                                        Moran, Mr. James\n",
       "g                                 McCarthy, Mr. Timothy J\n",
       "h                          Palsson, Master. Gosta Leonard\n",
       "i       Johnson, Mrs. Oscar W (Elisabeth Vilhelmina Berg)\n",
       "j                     Nasser, Mrs. Nicholas (Adele Achem)\n",
       "subh                              Braund, Mr. Owen Harris\n",
       "b       Cumings, Mrs. John Bradley (Florence Briggs Th...\n",
       "c                                  Heikkinen, Miss. Laina\n",
       "d            Futrelle, Mrs. Jacques Heath (Lily May Peel)\n",
       "e                                Allen, Mr. William Henry\n",
       "f                                        Moran, Mr. James\n",
       "g                                 McCarthy, Mr. Timothy J\n",
       "h                          Palsson, Master. Gosta Leonard\n",
       "i       Johnson, Mrs. Oscar W (Elisabeth Vilhelmina Berg)\n",
       "j                     Nasser, Mrs. Nicholas (Adele Achem)\n",
       "dtype: object"
      ]
     },
     "execution_count": 36,
     "metadata": {},
     "output_type": "execute_result"
    }
   ],
   "source": [
    "s2"
   ]
  },
  {
   "cell_type": "code",
   "execution_count": 37,
   "id": "a1d67402-7157-4180-8ed4-685d33621dcd",
   "metadata": {},
   "outputs": [
    {
     "data": {
      "text/plain": [
       "'Braund, Mr. Owen Harris'"
      ]
     },
     "execution_count": 37,
     "metadata": {},
     "output_type": "execute_result"
    }
   ],
   "source": [
    "s2[0]"
   ]
  },
  {
   "cell_type": "code",
   "execution_count": 38,
   "id": "f94d6521-fd20-4d3f-a0db-37d67e8c3230",
   "metadata": {},
   "outputs": [
    {
     "data": {
      "text/plain": [
       "'Allen, Mr. William Henry'"
      ]
     },
     "execution_count": 38,
     "metadata": {},
     "output_type": "execute_result"
    }
   ],
   "source": [
    "s2[4]"
   ]
  },
  {
   "cell_type": "code",
   "execution_count": 40,
   "id": "69e1b60b-f6e4-4e18-9593-c7fe35f728ab",
   "metadata": {},
   "outputs": [],
   "source": [
    "s3 = pd.Series([3,4,5,6,6] , index =[2,4,5,6,1])"
   ]
  },
  {
   "cell_type": "code",
   "execution_count": 41,
   "id": "98050b5c-6f12-4745-9657-c91fdd634074",
   "metadata": {},
   "outputs": [],
   "source": [
    "s4 = pd.Series([34,345,45,45,454] , index=[9,4,5,6,7])"
   ]
  },
  {
   "cell_type": "code",
   "execution_count": 43,
   "id": "1067ec1f-4b2d-4011-ae23-175335a5b06b",
   "metadata": {},
   "outputs": [
    {
     "name": "stderr",
     "output_type": "stream",
     "text": [
      "/tmp/ipykernel_133/2271913347.py:1: FutureWarning: The series.append method is deprecated and will be removed from pandas in a future version. Use pandas.concat instead.\n",
      "  s5 = s3.append(s4)\n"
     ]
    }
   ],
   "source": [
    "s5 = s3.append(s4)"
   ]
  },
  {
   "cell_type": "code",
   "execution_count": 44,
   "id": "61b34509-7a81-482a-867b-61a9524a502c",
   "metadata": {},
   "outputs": [
    {
     "data": {
      "text/plain": [
       "2      3\n",
       "4      4\n",
       "5      5\n",
       "6      6\n",
       "1      6\n",
       "9     34\n",
       "4    345\n",
       "5     45\n",
       "6     45\n",
       "7    454\n",
       "dtype: int64"
      ]
     },
     "execution_count": 44,
     "metadata": {},
     "output_type": "execute_result"
    }
   ],
   "source": [
    "s5"
   ]
  },
  {
   "cell_type": "code",
   "execution_count": 45,
   "id": "1fae102c-5dce-4aa0-9f73-6ff30dfcb82f",
   "metadata": {},
   "outputs": [
    {
     "data": {
      "text/plain": [
       "4      4\n",
       "4    345\n",
       "dtype: int64"
      ]
     },
     "execution_count": 45,
     "metadata": {},
     "output_type": "execute_result"
    }
   ],
   "source": [
    "s5[4]"
   ]
  },
  {
   "cell_type": "code",
   "execution_count": 46,
   "id": "0ab604fe-57a0-4552-9c4f-bc4db6764187",
   "metadata": {},
   "outputs": [
    {
     "name": "stderr",
     "output_type": "stream",
     "text": [
      "/tmp/ipykernel_133/1173574618.py:1: FutureWarning: The behavior of `series[i:j]` with an integer-dtype index is deprecated. In a future version, this will be treated as *label-based* indexing, consistent with e.g. `series[i]` lookups. To retain the old behavior, use `series.iloc[i:j]`. To get the future behavior, use `series.loc[i:j]`.\n",
      "  s5[0:5]\n"
     ]
    },
    {
     "data": {
      "text/plain": [
       "2    3\n",
       "4    4\n",
       "5    5\n",
       "6    6\n",
       "1    6\n",
       "dtype: int64"
      ]
     },
     "execution_count": 46,
     "metadata": {},
     "output_type": "execute_result"
    }
   ],
   "source": [
    "s5[0:5]"
   ]
  },
  {
   "cell_type": "code",
   "execution_count": 48,
   "id": "e78f919a-b8ec-44b2-8003-1c8f2feb6637",
   "metadata": {},
   "outputs": [
    {
     "data": {
      "text/plain": [
       "1      NaN\n",
       "2      NaN\n",
       "4    349.0\n",
       "4    690.0\n",
       "5     50.0\n",
       "5     90.0\n",
       "6     51.0\n",
       "6     90.0\n",
       "7    908.0\n",
       "9     68.0\n",
       "dtype: float64"
      ]
     },
     "execution_count": 48,
     "metadata": {},
     "output_type": "execute_result"
    }
   ],
   "source": [
    "s5+s4"
   ]
  },
  {
   "cell_type": "code",
   "execution_count": null,
   "id": "32d1781f-1a08-4c27-8682-5f86696ba6f2",
   "metadata": {},
   "outputs": [],
   "source": []
  }
 ],
 "metadata": {
  "kernelspec": {
   "display_name": "Python 3 (ipykernel)",
   "language": "python",
   "name": "python3"
  },
  "language_info": {
   "codemirror_mode": {
    "name": "ipython",
    "version": 3
   },
   "file_extension": ".py",
   "mimetype": "text/x-python",
   "name": "python",
   "nbconvert_exporter": "python",
   "pygments_lexer": "ipython3",
   "version": "3.10.8"
  }
 },
 "nbformat": 4,
 "nbformat_minor": 5
}
