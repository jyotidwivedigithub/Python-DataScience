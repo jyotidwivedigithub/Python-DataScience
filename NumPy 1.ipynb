{
 "cells": [
  {
   "cell_type": "code",
   "execution_count": 1,
   "id": "c3285eab-d21f-4c61-9fd7-bda41e0f0e67",
   "metadata": {},
   "outputs": [],
   "source": [
    "# Create Array and Matrix"
   ]
  },
  {
   "cell_type": "code",
   "execution_count": null,
   "id": "48f93dab-dc40-4a28-9e03-911d221b79ff",
   "metadata": {},
   "outputs": [],
   "source": [
    "import numpy as np"
   ]
  },
  {
   "cell_type": "code",
   "execution_count": null,
   "id": "4f51b105-4aa7-4e05-952b-c48668a54c96",
   "metadata": {},
   "outputs": [],
   "source": [
    "l = [1,2,3,4]"
   ]
  },
  {
   "cell_type": "code",
   "execution_count": null,
   "id": "48b3b5d2-8261-4989-8db8-f2438cfd6a1b",
   "metadata": {},
   "outputs": [],
   "source": [
    "# convert list data into array\n",
    "ar = np.array(l)"
   ]
  },
  {
   "cell_type": "code",
   "execution_count": null,
   "id": "ad58f38a-9600-44b9-906b-496650f9293e",
   "metadata": {},
   "outputs": [],
   "source": [
    "ar"
   ]
  },
  {
   "cell_type": "code",
   "execution_count": 5,
   "id": "2da1a3d1-0149-4da0-90ed-3eddbd66dd21",
   "metadata": {},
   "outputs": [
    {
     "data": {
      "text/plain": [
       "array([1, 2, 3, 4])"
      ]
     },
     "execution_count": 5,
     "metadata": {},
     "output_type": "execute_result"
    }
   ],
   "source": [
    "# convert list data into array\n",
    "np.asarray(l)"
   ]
  },
  {
   "cell_type": "code",
   "execution_count": 6,
   "id": "ecebec93-91af-40de-9167-209901f047ed",
   "metadata": {},
   "outputs": [
    {
     "data": {
      "text/plain": [
       "numpy.ndarray"
      ]
     },
     "execution_count": 6,
     "metadata": {},
     "output_type": "execute_result"
    }
   ],
   "source": [
    "type(ar)   "
   ]
  },
  {
   "cell_type": "code",
   "execution_count": 7,
   "id": "7d44a70b-5060-425a-af6c-b8ff1bedb8db",
   "metadata": {},
   "outputs": [],
   "source": [
    "a = [2,4,6]"
   ]
  },
  {
   "cell_type": "code",
   "execution_count": 8,
   "id": "86a9dff2-4a60-4e95-a64c-69963a1c98ba",
   "metadata": {},
   "outputs": [
    {
     "data": {
      "text/plain": [
       "array([2, 4, 6])"
      ]
     },
     "execution_count": 8,
     "metadata": {},
     "output_type": "execute_result"
    }
   ],
   "source": [
    "# convert list data into array\n",
    "np.asanyarray(a)"
   ]
  },
  {
   "cell_type": "code",
   "execution_count": 9,
   "id": "b7ba88c2-7035-45f6-89dd-a8ac5fcf1cdf",
   "metadata": {},
   "outputs": [],
   "source": [
    "ar1 = np.array([[1,2],[4,5]])"
   ]
  },
  {
   "cell_type": "code",
   "execution_count": 10,
   "id": "94dcdaaf-8b06-461e-bde7-e24694fc4dc3",
   "metadata": {},
   "outputs": [
    {
     "data": {
      "text/plain": [
       "array([[1, 2],\n",
       "       [4, 5]])"
      ]
     },
     "execution_count": 10,
     "metadata": {},
     "output_type": "execute_result"
    }
   ],
   "source": [
    "ar1"
   ]
  },
  {
   "cell_type": "code",
   "execution_count": 11,
   "id": "e3305ccc-29fc-4844-8d69-f0eed5abc928",
   "metadata": {},
   "outputs": [
    {
     "data": {
      "text/plain": [
       "numpy.ndarray"
      ]
     },
     "execution_count": 11,
     "metadata": {},
     "output_type": "execute_result"
    }
   ],
   "source": [
    "type(ar1)"
   ]
  },
  {
   "cell_type": "code",
   "execution_count": 12,
   "id": "bc9b8297-2b24-42bc-bf3e-d057dc78084b",
   "metadata": {},
   "outputs": [],
   "source": [
    "# Matrix is 2-d by default \n",
    "# it is subset of array\n",
    "\n",
    "b = np.matrix(l)"
   ]
  },
  {
   "cell_type": "code",
   "execution_count": 13,
   "id": "d14d3712-ae47-4284-9f2f-baef64c26f46",
   "metadata": {},
   "outputs": [
    {
     "data": {
      "text/plain": [
       "matrix([[1, 2, 3, 4]])"
      ]
     },
     "execution_count": 13,
     "metadata": {},
     "output_type": "execute_result"
    }
   ],
   "source": [
    "b"
   ]
  },
  {
   "cell_type": "code",
   "execution_count": 14,
   "id": "1fc7907c-383a-4159-894a-21f5c6d28a15",
   "metadata": {},
   "outputs": [
    {
     "data": {
      "text/plain": [
       "matrix([[1, 2, 3, 4]])"
      ]
     },
     "execution_count": 14,
     "metadata": {},
     "output_type": "execute_result"
    }
   ],
   "source": [
    "np.asanyarray(b)   #it is subset of array"
   ]
  },
  {
   "cell_type": "code",
   "execution_count": 15,
   "id": "9cd091e8-0898-4eff-bc41-e499f8387f8d",
   "metadata": {},
   "outputs": [],
   "source": [
    "a = np.array(l)"
   ]
  },
  {
   "cell_type": "code",
   "execution_count": 16,
   "id": "be58a0b9-2da6-4fc1-966b-01f9cefad434",
   "metadata": {},
   "outputs": [
    {
     "data": {
      "text/plain": [
       "array([1, 2, 3, 4])"
      ]
     },
     "execution_count": 16,
     "metadata": {},
     "output_type": "execute_result"
    }
   ],
   "source": [
    "a"
   ]
  },
  {
   "cell_type": "code",
   "execution_count": 17,
   "id": "f5f351b7-3e3d-4d67-8a17-99e692066e37",
   "metadata": {},
   "outputs": [],
   "source": [
    "c = a"
   ]
  },
  {
   "cell_type": "code",
   "execution_count": 18,
   "id": "22439825-ca6b-4fbe-b1fa-3251fc98fc54",
   "metadata": {},
   "outputs": [
    {
     "data": {
      "text/plain": [
       "array([1, 2, 3, 4])"
      ]
     },
     "execution_count": 18,
     "metadata": {},
     "output_type": "execute_result"
    }
   ],
   "source": [
    "c"
   ]
  },
  {
   "cell_type": "code",
   "execution_count": 19,
   "id": "00f45088-6e55-462a-8bb8-8689d9e674b9",
   "metadata": {},
   "outputs": [
    {
     "data": {
      "text/plain": [
       "1"
      ]
     },
     "execution_count": 19,
     "metadata": {},
     "output_type": "execute_result"
    }
   ],
   "source": [
    "c[0]"
   ]
  },
  {
   "cell_type": "code",
   "execution_count": 20,
   "id": "962dc4e3-a6d4-4951-8020-083860287434",
   "metadata": {},
   "outputs": [],
   "source": [
    "c[0] = 100"
   ]
  },
  {
   "cell_type": "code",
   "execution_count": 21,
   "id": "8d57380f-df3b-4f1c-8e9e-bb0185098390",
   "metadata": {},
   "outputs": [
    {
     "data": {
      "text/plain": [
       "array([100,   2,   3,   4])"
      ]
     },
     "execution_count": 21,
     "metadata": {},
     "output_type": "execute_result"
    }
   ],
   "source": [
    "c"
   ]
  },
  {
   "cell_type": "code",
   "execution_count": 22,
   "id": "1d134ac3-2da7-4050-98b9-5d6a3714ea6e",
   "metadata": {},
   "outputs": [
    {
     "data": {
      "text/plain": [
       "array([100,   2,   3,   4])"
      ]
     },
     "execution_count": 22,
     "metadata": {},
     "output_type": "execute_result"
    }
   ],
   "source": [
    "a"
   ]
  },
  {
   "cell_type": "code",
   "execution_count": 23,
   "id": "5619050d-7680-4378-8a83-88e836a4ef26",
   "metadata": {},
   "outputs": [],
   "source": [
    "# Copy Function\n",
    "d = np.copy(a)"
   ]
  },
  {
   "cell_type": "code",
   "execution_count": 24,
   "id": "0109d04e-b50f-4703-8691-4e177317775d",
   "metadata": {},
   "outputs": [
    {
     "data": {
      "text/plain": [
       "array([100,   2,   3,   4])"
      ]
     },
     "execution_count": 24,
     "metadata": {},
     "output_type": "execute_result"
    }
   ],
   "source": [
    "d"
   ]
  },
  {
   "cell_type": "code",
   "execution_count": 25,
   "id": "ea9901f7-1512-4232-ba93-f6e496886ad7",
   "metadata": {},
   "outputs": [],
   "source": [
    "a[1] = 200"
   ]
  },
  {
   "cell_type": "code",
   "execution_count": 26,
   "id": "fc3e4223-99f6-4f9e-81cb-df062023474b",
   "metadata": {},
   "outputs": [
    {
     "data": {
      "text/plain": [
       "array([100, 200,   3,   4])"
      ]
     },
     "execution_count": 26,
     "metadata": {},
     "output_type": "execute_result"
    }
   ],
   "source": [
    "a"
   ]
  },
  {
   "cell_type": "code",
   "execution_count": 27,
   "id": "1064eb11-9aa8-4303-b9ad-72aadadc8bbe",
   "metadata": {},
   "outputs": [
    {
     "data": {
      "text/plain": [
       "array([100,   2,   3,   4])"
      ]
     },
     "execution_count": 27,
     "metadata": {},
     "output_type": "execute_result"
    }
   ],
   "source": [
    "d"
   ]
  },
  {
   "cell_type": "code",
   "execution_count": 28,
   "id": "5c370fbe-823e-441e-bd2f-d85390e29984",
   "metadata": {},
   "outputs": [
    {
     "data": {
      "text/plain": [
       "array([[ True, False, False],\n",
       "       [False,  True, False],\n",
       "       [False, False,  True]])"
      ]
     },
     "execution_count": 28,
     "metadata": {},
     "output_type": "execute_result"
    }
   ],
   "source": [
    "# fromfunction\n",
    "\n",
    "np.fromfunction(lambda i,j : i==j, (3,3))"
   ]
  },
  {
   "cell_type": "code",
   "execution_count": 29,
   "id": "ad3c218c-e953-451e-ad16-81a280c19034",
   "metadata": {},
   "outputs": [
    {
     "data": {
      "text/plain": [
       "array([[0., 0., 0.],\n",
       "       [0., 1., 2.],\n",
       "       [0., 2., 4.]])"
      ]
     },
     "execution_count": 29,
     "metadata": {},
     "output_type": "execute_result"
    }
   ],
   "source": [
    "np.fromfunction(lambda i,j : i*j, (3,3))"
   ]
  },
  {
   "cell_type": "code",
   "execution_count": 30,
   "id": "0add2af8-f361-42e4-822c-476a4558d8a9",
   "metadata": {},
   "outputs": [],
   "source": [
    "iterable = (i*i for i in range(5))"
   ]
  },
  {
   "cell_type": "code",
   "execution_count": 31,
   "id": "607ce61f-1d77-4483-bcb5-f8e4df9d5f1d",
   "metadata": {},
   "outputs": [
    {
     "data": {
      "text/plain": [
       "<generator object <genexpr> at 0x7f8adc4ca730>"
      ]
     },
     "execution_count": 31,
     "metadata": {},
     "output_type": "execute_result"
    }
   ],
   "source": [
    "iterable"
   ]
  },
  {
   "cell_type": "code",
   "execution_count": 32,
   "id": "9e2679a6-d5ef-4fc4-93ee-654d729396bf",
   "metadata": {},
   "outputs": [
    {
     "data": {
      "text/plain": [
       "array([ 0.,  1.,  4.,  9., 16.])"
      ]
     },
     "execution_count": 32,
     "metadata": {},
     "output_type": "execute_result"
    }
   ],
   "source": [
    "# fromiter\n",
    "\n",
    "np.fromiter(iterable,float)"
   ]
  },
  {
   "cell_type": "code",
   "execution_count": 33,
   "id": "c6cead19-2306-45a4-b2bc-3cd7575a23cb",
   "metadata": {},
   "outputs": [
    {
     "data": {
      "text/plain": [
       "array([345., 243.])"
      ]
     },
     "execution_count": 33,
     "metadata": {},
     "output_type": "execute_result"
    }
   ],
   "source": [
    "# fromstring....convert string to array\n",
    "\n",
    "np.fromstring('345 243', sep=' ')"
   ]
  },
  {
   "cell_type": "code",
   "execution_count": 34,
   "id": "e0b869c2-7b4b-42f0-b696-77e21a4deae7",
   "metadata": {},
   "outputs": [
    {
     "data": {
      "text/plain": [
       "array([45., 65.])"
      ]
     },
     "execution_count": 34,
     "metadata": {},
     "output_type": "execute_result"
    }
   ],
   "source": [
    "np.fromstring('45 , 65' , sep=',')"
   ]
  },
  {
   "cell_type": "code",
   "execution_count": 35,
   "id": "a9f6fe6a-62dc-45c6-8d51-e48fce458414",
   "metadata": {},
   "outputs": [],
   "source": [
    "# Numpy - Data Types.\n",
    "\n",
    "l = [2,3,4,6,8,5]"
   ]
  },
  {
   "cell_type": "code",
   "execution_count": 36,
   "id": "35c67a29-3f56-4e5d-8b51-3726f53ad8eb",
   "metadata": {},
   "outputs": [],
   "source": [
    "ar = np.array(l)"
   ]
  },
  {
   "cell_type": "code",
   "execution_count": 37,
   "id": "8d2616be-a3dd-4c43-bac1-a9ca9394eada",
   "metadata": {},
   "outputs": [
    {
     "data": {
      "text/plain": [
       "array([2, 3, 4, 6, 8, 5])"
      ]
     },
     "execution_count": 37,
     "metadata": {},
     "output_type": "execute_result"
    }
   ],
   "source": [
    "ar"
   ]
  },
  {
   "cell_type": "code",
   "execution_count": 38,
   "id": "8c423547-7141-44f8-8fe9-0ca29deec3ff",
   "metadata": {},
   "outputs": [
    {
     "data": {
      "text/plain": [
       "1"
      ]
     },
     "execution_count": 38,
     "metadata": {},
     "output_type": "execute_result"
    }
   ],
   "source": [
    "# ndim..to know size and shape\n",
    "\n",
    "ar.ndim"
   ]
  },
  {
   "cell_type": "code",
   "execution_count": 39,
   "id": "349eb114-c649-4d27-9887-5c2b09cd4fef",
   "metadata": {},
   "outputs": [],
   "source": [
    "ar2 = np.array([[1,3,5,7],[3,6,8,4]])"
   ]
  },
  {
   "cell_type": "code",
   "execution_count": 40,
   "id": "bd4bee17-9b14-45fd-80b7-01eb580903a1",
   "metadata": {},
   "outputs": [
    {
     "data": {
      "text/plain": [
       "array([[1, 3, 5, 7],\n",
       "       [3, 6, 8, 4]])"
      ]
     },
     "execution_count": 40,
     "metadata": {},
     "output_type": "execute_result"
    }
   ],
   "source": [
    "ar2"
   ]
  },
  {
   "cell_type": "code",
   "execution_count": 41,
   "id": "5d3ae998-7a44-404f-adf5-5facd9a9f0c0",
   "metadata": {},
   "outputs": [
    {
     "data": {
      "text/plain": [
       "2"
      ]
     },
     "execution_count": 41,
     "metadata": {},
     "output_type": "execute_result"
    }
   ],
   "source": [
    "ar2.ndim"
   ]
  },
  {
   "cell_type": "code",
   "execution_count": 42,
   "id": "9a22efe3-caa4-42f9-848f-31f66146f8da",
   "metadata": {},
   "outputs": [
    {
     "data": {
      "text/plain": [
       "8"
      ]
     },
     "execution_count": 42,
     "metadata": {},
     "output_type": "execute_result"
    }
   ],
   "source": [
    "ar2.size"
   ]
  },
  {
   "cell_type": "code",
   "execution_count": 43,
   "id": "48844e18-ddac-4db3-aad9-aa5781148fa0",
   "metadata": {},
   "outputs": [
    {
     "data": {
      "text/plain": [
       "(2, 4)"
      ]
     },
     "execution_count": 43,
     "metadata": {},
     "output_type": "execute_result"
    }
   ],
   "source": [
    "ar2.shape"
   ]
  },
  {
   "cell_type": "code",
   "execution_count": 44,
   "id": "180bbd9c-49fe-4dcf-b98f-61ab33eae303",
   "metadata": {},
   "outputs": [
    {
     "data": {
      "text/plain": [
       "dtype('int64')"
      ]
     },
     "execution_count": 44,
     "metadata": {},
     "output_type": "execute_result"
    }
   ],
   "source": [
    "ar2.dtype"
   ]
  },
  {
   "cell_type": "code",
   "execution_count": 47,
   "id": "5c439dee-5763-4b44-972b-97b587e0afbb",
   "metadata": {},
   "outputs": [],
   "source": [
    "ar22 = np.array([(1,4,45,45) , (23,34,45,67)])"
   ]
  },
  {
   "cell_type": "code",
   "execution_count": 48,
   "id": "53cba94c-e154-4154-93e7-6714a5c8b7bb",
   "metadata": {},
   "outputs": [
    {
     "data": {
      "text/plain": [
       "array([[ 1,  4, 45, 45],\n",
       "       [23, 34, 45, 67]])"
      ]
     },
     "execution_count": 48,
     "metadata": {},
     "output_type": "execute_result"
    }
   ],
   "source": [
    "ar22"
   ]
  },
  {
   "cell_type": "code",
   "execution_count": 49,
   "id": "3ae799cf-dbb0-42b6-bb9b-5ccea271dec6",
   "metadata": {},
   "outputs": [
    {
     "data": {
      "text/plain": [
       "dtype('int64')"
      ]
     },
     "execution_count": 49,
     "metadata": {},
     "output_type": "execute_result"
    }
   ],
   "source": [
    "ar22.dtype"
   ]
  },
  {
   "cell_type": "code",
   "execution_count": 50,
   "id": "18ab960c-3b2c-4d18-81f8-6a96f4824699",
   "metadata": {},
   "outputs": [
    {
     "data": {
      "text/plain": [
       "range(0, 5)"
      ]
     },
     "execution_count": 50,
     "metadata": {},
     "output_type": "execute_result"
    }
   ],
   "source": [
    "range(5)"
   ]
  },
  {
   "cell_type": "code",
   "execution_count": 52,
   "id": "9b0b7aa0-6bf9-49e2-8bc8-7856a59c5837",
   "metadata": {},
   "outputs": [
    {
     "data": {
      "text/plain": [
       "[0, 1, 2, 3, 4]"
      ]
     },
     "execution_count": 52,
     "metadata": {},
     "output_type": "execute_result"
    }
   ],
   "source": [
    "list(range(5))"
   ]
  },
  {
   "cell_type": "code",
   "execution_count": null,
   "id": "44b18c68-c95d-4991-abfb-cf41b0a55346",
   "metadata": {},
   "outputs": [],
   "source": [
    "list(range(o,1,5))"
   ]
  },
  {
   "cell_type": "code",
   "execution_count": 55,
   "id": "6e7b0e42-b35b-42fc-beb6-1e341c910ddf",
   "metadata": {},
   "outputs": [
    {
     "data": {
      "text/plain": [
       "array([2.3, 3.3, 4.3, 5.3])"
      ]
     },
     "execution_count": 55,
     "metadata": {},
     "output_type": "execute_result"
    }
   ],
   "source": [
    "np.arange(2.3,5.6)"
   ]
  },
  {
   "cell_type": "code",
   "execution_count": 56,
   "id": "cd24ba61-8744-4ff5-9b0e-e5dc4cfb07bd",
   "metadata": {},
   "outputs": [
    {
     "data": {
      "text/plain": [
       "[2.3, 3.3, 4.3, 5.3]"
      ]
     },
     "execution_count": 56,
     "metadata": {},
     "output_type": "execute_result"
    }
   ],
   "source": [
    "list(np.arange(2.3,5.6))"
   ]
  },
  {
   "cell_type": "code",
   "execution_count": 58,
   "id": "2f94900a-5557-4e42-b898-92519f07cae5",
   "metadata": {},
   "outputs": [
    {
     "data": {
      "text/plain": [
       "array([1.        , 1.44444444, 1.88888889, 2.33333333, 2.77777778,\n",
       "       3.22222222, 3.66666667, 4.11111111, 4.55555556, 5.        ])"
      ]
     },
     "execution_count": 58,
     "metadata": {},
     "output_type": "execute_result"
    }
   ],
   "source": [
    "#np.linespace(1,5,10)\n",
    "np.linspace(1,5,10)"
   ]
  },
  {
   "cell_type": "code",
   "execution_count": 59,
   "id": "de7a3df7-1269-4231-b260-7d870ba6905f",
   "metadata": {},
   "outputs": [
    {
     "data": {
      "text/plain": [
       "array([0., 0., 0., 0., 0.])"
      ]
     },
     "execution_count": 59,
     "metadata": {},
     "output_type": "execute_result"
    }
   ],
   "source": [
    "np.zeros(5)"
   ]
  },
  {
   "cell_type": "code",
   "execution_count": 60,
   "id": "6b33c8b2-1baa-401c-8796-47b9190fac29",
   "metadata": {},
   "outputs": [
    {
     "data": {
      "text/plain": [
       "array([[0., 0., 0., 0.],\n",
       "       [0., 0., 0., 0.],\n",
       "       [0., 0., 0., 0.]])"
      ]
     },
     "execution_count": 60,
     "metadata": {},
     "output_type": "execute_result"
    }
   ],
   "source": [
    "np.zeros((3,4))"
   ]
  },
  {
   "cell_type": "code",
   "execution_count": 61,
   "id": "bca0e4d3-c472-4bf7-b172-b3ed41df2d36",
   "metadata": {},
   "outputs": [
    {
     "data": {
      "text/plain": [
       "array([[[0., 0.],\n",
       "        [0., 0.],\n",
       "        [0., 0.],\n",
       "        [0., 0.],\n",
       "        [0., 0.]],\n",
       "\n",
       "       [[0., 0.],\n",
       "        [0., 0.],\n",
       "        [0., 0.],\n",
       "        [0., 0.],\n",
       "        [0., 0.]],\n",
       "\n",
       "       [[0., 0.],\n",
       "        [0., 0.],\n",
       "        [0., 0.],\n",
       "        [0., 0.],\n",
       "        [0., 0.]]])"
      ]
     },
     "execution_count": 61,
     "metadata": {},
     "output_type": "execute_result"
    }
   ],
   "source": [
    "np.zeros((3,5,2))"
   ]
  },
  {
   "cell_type": "code",
   "execution_count": 63,
   "id": "028d57e6-5105-4bc3-9514-2752f20c7743",
   "metadata": {},
   "outputs": [],
   "source": [
    "ar4 = np.zeros((3,4,2,3))\n",
    "# it is a 4-d array"
   ]
  },
  {
   "cell_type": "code",
   "execution_count": 64,
   "id": "5f6d0ef5-9b1a-466c-a2bd-5378d4cf14e3",
   "metadata": {},
   "outputs": [
    {
     "data": {
      "text/plain": [
       "array([[[[0., 0., 0.],\n",
       "         [0., 0., 0.]],\n",
       "\n",
       "        [[0., 0., 0.],\n",
       "         [0., 0., 0.]],\n",
       "\n",
       "        [[0., 0., 0.],\n",
       "         [0., 0., 0.]],\n",
       "\n",
       "        [[0., 0., 0.],\n",
       "         [0., 0., 0.]]],\n",
       "\n",
       "\n",
       "       [[[0., 0., 0.],\n",
       "         [0., 0., 0.]],\n",
       "\n",
       "        [[0., 0., 0.],\n",
       "         [0., 0., 0.]],\n",
       "\n",
       "        [[0., 0., 0.],\n",
       "         [0., 0., 0.]],\n",
       "\n",
       "        [[0., 0., 0.],\n",
       "         [0., 0., 0.]]],\n",
       "\n",
       "\n",
       "       [[[0., 0., 0.],\n",
       "         [0., 0., 0.]],\n",
       "\n",
       "        [[0., 0., 0.],\n",
       "         [0., 0., 0.]],\n",
       "\n",
       "        [[0., 0., 0.],\n",
       "         [0., 0., 0.]],\n",
       "\n",
       "        [[0., 0., 0.],\n",
       "         [0., 0., 0.]]]])"
      ]
     },
     "execution_count": 64,
     "metadata": {},
     "output_type": "execute_result"
    }
   ],
   "source": [
    "ar4"
   ]
  },
  {
   "cell_type": "code",
   "execution_count": 66,
   "id": "06e0434b-1347-44db-8478-ed03979e7422",
   "metadata": {},
   "outputs": [
    {
     "data": {
      "text/plain": [
       "4"
      ]
     },
     "execution_count": 66,
     "metadata": {},
     "output_type": "execute_result"
    }
   ],
   "source": [
    "ar4.ndim"
   ]
  },
  {
   "cell_type": "code",
   "execution_count": 67,
   "id": "ca25310b-2867-4737-af21-5ffbbc198504",
   "metadata": {},
   "outputs": [
    {
     "data": {
      "text/plain": [
       "array([[1., 1., 1.],\n",
       "       [1., 1., 1.]])"
      ]
     },
     "execution_count": 67,
     "metadata": {},
     "output_type": "execute_result"
    }
   ],
   "source": [
    "np.ones((2,3))"
   ]
  },
  {
   "cell_type": "code",
   "execution_count": 69,
   "id": "2c621559-b6c3-4649-8e96-84de9d7b8695",
   "metadata": {},
   "outputs": [],
   "source": [
    "on = np.ones((2,3,2))"
   ]
  },
  {
   "cell_type": "code",
   "execution_count": 70,
   "id": "5b3602db-02b5-4a88-8712-943685dd1351",
   "metadata": {},
   "outputs": [
    {
     "data": {
      "text/plain": [
       "array([[[1., 1.],\n",
       "        [1., 1.],\n",
       "        [1., 1.]],\n",
       "\n",
       "       [[1., 1.],\n",
       "        [1., 1.],\n",
       "        [1., 1.]]])"
      ]
     },
     "execution_count": 70,
     "metadata": {},
     "output_type": "execute_result"
    }
   ],
   "source": [
    "on"
   ]
  },
  {
   "cell_type": "code",
   "execution_count": 71,
   "id": "31a8ffbe-018e-4288-aad4-18504839e6bb",
   "metadata": {},
   "outputs": [
    {
     "data": {
      "text/plain": [
       "array([[[4., 4.],\n",
       "        [4., 4.],\n",
       "        [4., 4.]],\n",
       "\n",
       "       [[4., 4.],\n",
       "        [4., 4.],\n",
       "        [4., 4.]]])"
      ]
     },
     "execution_count": 71,
     "metadata": {},
     "output_type": "execute_result"
    }
   ],
   "source": [
    "on *4"
   ]
  },
  {
   "cell_type": "code",
   "execution_count": 75,
   "id": "ad7e89e0-88f1-47f6-a8cf-0708d32dc082",
   "metadata": {},
   "outputs": [
    {
     "data": {
      "text/plain": [
       "array([[1., 1., 1., 2.],\n",
       "       [2., 2., 1., 2.],\n",
       "       [1., 2., 1., 2.]])"
      ]
     },
     "execution_count": 75,
     "metadata": {},
     "output_type": "execute_result"
    }
   ],
   "source": [
    "np.empty((3,4))"
   ]
  },
  {
   "cell_type": "code",
   "execution_count": 76,
   "id": "f7780499-0fe0-40c0-9318-05c61d8c6664",
   "metadata": {},
   "outputs": [
    {
     "data": {
      "text/plain": [
       "array([[4.63901736e-310, 0.00000000e+000, 0.00000000e+000,\n",
       "        0.00000000e+000, 0.00000000e+000],\n",
       "       [0.00000000e+000, 0.00000000e+000, 0.00000000e+000,\n",
       "        0.00000000e+000, 0.00000000e+000],\n",
       "       [0.00000000e+000, 0.00000000e+000, 0.00000000e+000,\n",
       "        0.00000000e+000, 6.32404027e-322]])"
      ]
     },
     "execution_count": 76,
     "metadata": {},
     "output_type": "execute_result"
    }
   ],
   "source": [
    "np.empty((3,5))"
   ]
  },
  {
   "cell_type": "code",
   "execution_count": 77,
   "id": "102f86a5-93e9-4c71-ac04-c4d02e38a7bb",
   "metadata": {},
   "outputs": [
    {
     "data": {
      "text/plain": [
       "array([[0., 0., 0., 1., 1., 1.],\n",
       "       [2., 2., 2., 0., 1., 2.],\n",
       "       [0., 1., 2., 0., 1., 2.]])"
      ]
     },
     "execution_count": 77,
     "metadata": {},
     "output_type": "execute_result"
    }
   ],
   "source": [
    "np.empty((3,6))"
   ]
  },
  {
   "cell_type": "code",
   "execution_count": 79,
   "id": "299573b6-0d63-49f5-96f7-b824f9c90180",
   "metadata": {},
   "outputs": [
    {
     "data": {
      "text/plain": [
       "array([[1., 0., 0.],\n",
       "       [0., 1., 0.],\n",
       "       [0., 0., 1.]])"
      ]
     },
     "execution_count": 79,
     "metadata": {},
     "output_type": "execute_result"
    }
   ],
   "source": [
    "np.eye(3)"
   ]
  },
  {
   "cell_type": "code",
   "execution_count": 80,
   "id": "fd8b27ec-a7b2-4104-8d51-af2537af64ca",
   "metadata": {},
   "outputs": [
    {
     "data": {
      "text/plain": [
       "array([[1., 0., 0., 0.],\n",
       "       [0., 1., 0., 0.],\n",
       "       [0., 0., 1., 0.],\n",
       "       [0., 0., 0., 1.]])"
      ]
     },
     "execution_count": 80,
     "metadata": {},
     "output_type": "execute_result"
    }
   ],
   "source": [
    "np.eye(4)"
   ]
  },
  {
   "cell_type": "code",
   "execution_count": 81,
   "id": "f7ab0dfe-9cf4-40c1-85b5-0e28e54dc3f4",
   "metadata": {},
   "outputs": [
    {
     "data": {
      "text/plain": [
       "array([2.        , 2.10526316, 2.21052632, 2.31578947, 2.42105263,\n",
       "       2.52631579, 2.63157895, 2.73684211, 2.84210526, 2.94736842,\n",
       "       3.05263158, 3.15789474, 3.26315789, 3.36842105, 3.47368421,\n",
       "       3.57894737, 3.68421053, 3.78947368, 3.89473684, 4.        ])"
      ]
     },
     "execution_count": 81,
     "metadata": {},
     "output_type": "execute_result"
    }
   ],
   "source": [
    "np.linspace(2,4,20)"
   ]
  },
  {
   "cell_type": "code",
   "execution_count": 83,
   "id": "e8ec46cf-56d0-4b4c-82e2-093f5fca8754",
   "metadata": {},
   "outputs": [
    {
     "data": {
      "text/plain": [
       "array([ 4.        ,  5.0396842 ,  6.34960421,  8.        , 10.0793684 ,\n",
       "       12.69920842, 16.        , 20.1587368 , 25.39841683, 32.        ])"
      ]
     },
     "execution_count": 83,
     "metadata": {},
     "output_type": "execute_result"
    }
   ],
   "source": [
    "np.logspace(2,5,10 , base = 2 )"
   ]
  },
  {
   "cell_type": "code",
   "execution_count": 85,
   "id": "d5a9ff35-432c-47a6-b743-16b2ca0056f5",
   "metadata": {},
   "outputs": [],
   "source": [
    "# generate random data\n",
    "arr = np.random.randn(3,4)"
   ]
  },
  {
   "cell_type": "code",
   "execution_count": 86,
   "id": "33278cb4-38cd-4ad2-b7a4-3ee11b7a606e",
   "metadata": {},
   "outputs": [
    {
     "data": {
      "text/plain": [
       "array([[ 1.36304816,  0.45577163, -1.3352824 ,  2.8747199 ],\n",
       "       [ 1.04111736,  0.0394258 , -1.68617608, -0.19149231],\n",
       "       [-1.11587962,  0.07213224, -0.38621439, -0.2223991 ]])"
      ]
     },
     "execution_count": 86,
     "metadata": {},
     "output_type": "execute_result"
    }
   ],
   "source": [
    "arr"
   ]
  },
  {
   "cell_type": "code",
   "execution_count": 88,
   "id": "2d6c046e-9eb5-43df-8dd6-04d2154edd99",
   "metadata": {},
   "outputs": [],
   "source": [
    "import pandas as pd"
   ]
  },
  {
   "cell_type": "code",
   "execution_count": 89,
   "id": "5f4f9744-d6fa-4253-b8e9-75e548b77c79",
   "metadata": {},
   "outputs": [
    {
     "data": {
      "text/html": [
       "<div>\n",
       "<style scoped>\n",
       "    .dataframe tbody tr th:only-of-type {\n",
       "        vertical-align: middle;\n",
       "    }\n",
       "\n",
       "    .dataframe tbody tr th {\n",
       "        vertical-align: top;\n",
       "    }\n",
       "\n",
       "    .dataframe thead th {\n",
       "        text-align: right;\n",
       "    }\n",
       "</style>\n",
       "<table border=\"1\" class=\"dataframe\">\n",
       "  <thead>\n",
       "    <tr style=\"text-align: right;\">\n",
       "      <th></th>\n",
       "      <th>0</th>\n",
       "      <th>1</th>\n",
       "      <th>2</th>\n",
       "      <th>3</th>\n",
       "    </tr>\n",
       "  </thead>\n",
       "  <tbody>\n",
       "    <tr>\n",
       "      <th>0</th>\n",
       "      <td>1.363048</td>\n",
       "      <td>0.455772</td>\n",
       "      <td>-1.335282</td>\n",
       "      <td>2.874720</td>\n",
       "    </tr>\n",
       "    <tr>\n",
       "      <th>1</th>\n",
       "      <td>1.041117</td>\n",
       "      <td>0.039426</td>\n",
       "      <td>-1.686176</td>\n",
       "      <td>-0.191492</td>\n",
       "    </tr>\n",
       "    <tr>\n",
       "      <th>2</th>\n",
       "      <td>-1.115880</td>\n",
       "      <td>0.072132</td>\n",
       "      <td>-0.386214</td>\n",
       "      <td>-0.222399</td>\n",
       "    </tr>\n",
       "  </tbody>\n",
       "</table>\n",
       "</div>"
      ],
      "text/plain": [
       "          0         1         2         3\n",
       "0  1.363048  0.455772 -1.335282  2.874720\n",
       "1  1.041117  0.039426 -1.686176 -0.191492\n",
       "2 -1.115880  0.072132 -0.386214 -0.222399"
      ]
     },
     "execution_count": 89,
     "metadata": {},
     "output_type": "execute_result"
    }
   ],
   "source": [
    "pd.DataFrame(arr)"
   ]
  },
  {
   "cell_type": "code",
   "execution_count": 90,
   "id": "bd56b408-ea97-4a69-ab02-c14c121dc0ce",
   "metadata": {},
   "outputs": [
    {
     "data": {
      "text/plain": [
       "array([[0.41373954, 0.35823022, 0.57009144, 0.91669562],\n",
       "       [0.14507202, 0.34898509, 0.8314383 , 0.99873074],\n",
       "       [0.66541989, 0.71551213, 0.56797211, 0.26411903]])"
      ]
     },
     "execution_count": 90,
     "metadata": {},
     "output_type": "execute_result"
    }
   ],
   "source": [
    "np.random.rand(3,4)    # produce random data"
   ]
  },
  {
   "cell_type": "code",
   "execution_count": 92,
   "id": "ef1456e7-dfb9-46a5-81d5-6d8edfc8afa3",
   "metadata": {},
   "outputs": [
    {
     "data": {
      "text/plain": [
       "array([[ 95,  72, 100,  64],\n",
       "       [106,  27, 106,  60],\n",
       "       [ 90,  88,  25, 107]])"
      ]
     },
     "execution_count": 92,
     "metadata": {},
     "output_type": "execute_result"
    }
   ],
   "source": [
    "np.random.randint(3,110,(3,4))  # produce integer"
   ]
  },
  {
   "cell_type": "code",
   "execution_count": 95,
   "id": "308858dd-1ab3-4cb4-9d05-e290440cac1b",
   "metadata": {},
   "outputs": [
    {
     "data": {
      "text/html": [
       "<div>\n",
       "<style scoped>\n",
       "    .dataframe tbody tr th:only-of-type {\n",
       "        vertical-align: middle;\n",
       "    }\n",
       "\n",
       "    .dataframe tbody tr th {\n",
       "        vertical-align: top;\n",
       "    }\n",
       "\n",
       "    .dataframe thead th {\n",
       "        text-align: right;\n",
       "    }\n",
       "</style>\n",
       "<table border=\"1\" class=\"dataframe\">\n",
       "  <thead>\n",
       "    <tr style=\"text-align: right;\">\n",
       "      <th></th>\n",
       "      <th>0</th>\n",
       "      <th>1</th>\n",
       "      <th>2</th>\n",
       "      <th>3</th>\n",
       "    </tr>\n",
       "  </thead>\n",
       "  <tbody>\n",
       "    <tr>\n",
       "      <th>0</th>\n",
       "      <td>105</td>\n",
       "      <td>65</td>\n",
       "      <td>66</td>\n",
       "      <td>46</td>\n",
       "    </tr>\n",
       "    <tr>\n",
       "      <th>1</th>\n",
       "      <td>86</td>\n",
       "      <td>77</td>\n",
       "      <td>65</td>\n",
       "      <td>100</td>\n",
       "    </tr>\n",
       "    <tr>\n",
       "      <th>2</th>\n",
       "      <td>51</td>\n",
       "      <td>105</td>\n",
       "      <td>61</td>\n",
       "      <td>66</td>\n",
       "    </tr>\n",
       "  </tbody>\n",
       "</table>\n",
       "</div>"
      ],
      "text/plain": [
       "     0    1   2    3\n",
       "0  105   65  66   46\n",
       "1   86   77  65  100\n",
       "2   51  105  61   66"
      ]
     },
     "execution_count": 95,
     "metadata": {},
     "output_type": "execute_result"
    }
   ],
   "source": [
    "# we can also convert it into dataframe\n",
    "pd.DataFrame(np.random.randint(3,110,(3,4)))"
   ]
  },
  {
   "cell_type": "code",
   "execution_count": 98,
   "id": "751ba90b-619e-445d-97fa-de432a3106e1",
   "metadata": {},
   "outputs": [],
   "source": [
    "# store data in csv file\n",
    "pd.DataFrame(np.random.randint(3,110,(3,4))).to_csv('test.csv')"
   ]
  },
  {
   "cell_type": "code",
   "execution_count": 104,
   "id": "1c4f3d5b-b677-4172-a1d7-c6324ecac6ba",
   "metadata": {},
   "outputs": [],
   "source": [
    "ar2 = np.random.rand(3,4)"
   ]
  },
  {
   "cell_type": "code",
   "execution_count": 105,
   "id": "3092fcd2-be91-4347-a261-7ffd0eadc48b",
   "metadata": {},
   "outputs": [
    {
     "data": {
      "text/plain": [
       "array([[0.21388592, 0.15631284, 0.72397158, 0.61746652],\n",
       "       [0.35656999, 0.11524702, 0.94533834, 0.89985089],\n",
       "       [0.38684382, 0.54848043, 0.13284138, 0.83151604]])"
      ]
     },
     "execution_count": 105,
     "metadata": {},
     "output_type": "execute_result"
    }
   ],
   "source": [
    "ar2"
   ]
  },
  {
   "cell_type": "code",
   "execution_count": 106,
   "id": "f7fbc8cb-9443-46ad-ada9-a33c952a1e48",
   "metadata": {},
   "outputs": [],
   "source": [
    "ar3 = ar2.reshape(6,-1)"
   ]
  },
  {
   "cell_type": "code",
   "execution_count": 107,
   "id": "dd1833de-2881-4d55-99d8-d034dfd522f1",
   "metadata": {},
   "outputs": [
    {
     "data": {
      "text/plain": [
       "array([[0.21388592, 0.15631284],\n",
       "       [0.72397158, 0.61746652],\n",
       "       [0.35656999, 0.11524702],\n",
       "       [0.94533834, 0.89985089],\n",
       "       [0.38684382, 0.54848043],\n",
       "       [0.13284138, 0.83151604]])"
      ]
     },
     "execution_count": 107,
     "metadata": {},
     "output_type": "execute_result"
    }
   ],
   "source": [
    "ar3"
   ]
  },
  {
   "cell_type": "code",
   "execution_count": 108,
   "id": "a1ea563c-56c6-41a2-ac54-da8d5752139b",
   "metadata": {},
   "outputs": [
    {
     "data": {
      "text/plain": [
       "0.6174665166131087"
      ]
     },
     "execution_count": 108,
     "metadata": {},
     "output_type": "execute_result"
    }
   ],
   "source": [
    "ar3[1][1]"
   ]
  },
  {
   "cell_type": "code",
   "execution_count": 109,
   "id": "b7aa0601-cf2a-4eae-a871-1ff8d0a34e6a",
   "metadata": {},
   "outputs": [
    {
     "data": {
      "text/plain": [
       "array([[0.35656999, 0.11524702],\n",
       "       [0.94533834, 0.89985089],\n",
       "       [0.38684382, 0.54848043]])"
      ]
     },
     "execution_count": 109,
     "metadata": {},
     "output_type": "execute_result"
    }
   ],
   "source": [
    "ar3[2:5]"
   ]
  },
  {
   "cell_type": "code",
   "execution_count": 110,
   "id": "874004a0-4217-4f16-8e8e-3cf6402d6ab2",
   "metadata": {},
   "outputs": [
    {
     "data": {
      "text/plain": [
       "array([0.11524702, 0.89985089, 0.54848043])"
      ]
     },
     "execution_count": 110,
     "metadata": {},
     "output_type": "execute_result"
    }
   ],
   "source": [
    "ar3[2:5,1]"
   ]
  },
  {
   "cell_type": "code",
   "execution_count": 111,
   "id": "87593b28-36a2-4788-8cc2-fc5f4ac849da",
   "metadata": {},
   "outputs": [],
   "source": [
    "ar4 = np.random.randint(1,100,(5,5))"
   ]
  },
  {
   "cell_type": "code",
   "execution_count": 112,
   "id": "7473046e-8cf5-4970-b849-870c491660bc",
   "metadata": {},
   "outputs": [
    {
     "data": {
      "text/plain": [
       "array([[54, 50, 94, 22,  3],\n",
       "       [15, 82, 15,  7,  6],\n",
       "       [78, 52, 85, 45,  2],\n",
       "       [81, 28, 94, 81, 32],\n",
       "       [78, 85, 55, 81, 81]])"
      ]
     },
     "execution_count": 112,
     "metadata": {},
     "output_type": "execute_result"
    }
   ],
   "source": [
    "ar4"
   ]
  },
  {
   "cell_type": "code",
   "execution_count": 113,
   "id": "14c804ff-f6f2-4d12-a056-90692b7eb3c9",
   "metadata": {},
   "outputs": [
    {
     "data": {
      "text/plain": [
       "array([[ True, False,  True, False, False],\n",
       "       [False,  True, False, False, False],\n",
       "       [ True,  True,  True, False, False],\n",
       "       [ True, False,  True,  True, False],\n",
       "       [ True,  True,  True,  True,  True]])"
      ]
     },
     "execution_count": 113,
     "metadata": {},
     "output_type": "execute_result"
    }
   ],
   "source": [
    "ar4>50"
   ]
  },
  {
   "cell_type": "code",
   "execution_count": 115,
   "id": "74dd58c5-92f3-46eb-93b5-21dccc784189",
   "metadata": {},
   "outputs": [
    {
     "data": {
      "text/plain": [
       "array([54, 94, 82, 78, 52, 85, 81, 94, 81, 78, 85, 55, 81, 81])"
      ]
     },
     "execution_count": 115,
     "metadata": {},
     "output_type": "execute_result"
    }
   ],
   "source": [
    "ar4[ar4>50]"
   ]
  },
  {
   "cell_type": "code",
   "execution_count": 116,
   "id": "4bf34c2d-8632-4d72-9fac-8eb525d2271b",
   "metadata": {},
   "outputs": [
    {
     "data": {
      "text/plain": [
       "array([[54, 50, 94, 22,  3],\n",
       "       [15, 82, 15,  7,  6],\n",
       "       [78, 52, 85, 45,  2],\n",
       "       [81, 28, 94, 81, 32],\n",
       "       [78, 85, 55, 81, 81]])"
      ]
     },
     "execution_count": 116,
     "metadata": {},
     "output_type": "execute_result"
    }
   ],
   "source": [
    "ar4"
   ]
  },
  {
   "cell_type": "code",
   "execution_count": 117,
   "id": "fe3045ca-ab28-4ac8-8f2b-3775c70b58ba",
   "metadata": {},
   "outputs": [
    {
     "data": {
      "text/plain": [
       "array([[52, 85],\n",
       "       [28, 94]])"
      ]
     },
     "execution_count": 117,
     "metadata": {},
     "output_type": "execute_result"
    }
   ],
   "source": [
    "ar4[2:4, [1,2]]"
   ]
  },
  {
   "cell_type": "code",
   "execution_count": 118,
   "id": "b8f35583-bb4d-45bd-92d9-9053cf95c8b0",
   "metadata": {},
   "outputs": [],
   "source": [
    "ar4[0][0] = 500"
   ]
  },
  {
   "cell_type": "code",
   "execution_count": 119,
   "id": "3909c55c-f631-4a67-bb5d-08273d5121d7",
   "metadata": {},
   "outputs": [
    {
     "data": {
      "text/plain": [
       "array([[500,  50,  94,  22,   3],\n",
       "       [ 15,  82,  15,   7,   6],\n",
       "       [ 78,  52,  85,  45,   2],\n",
       "       [ 81,  28,  94,  81,  32],\n",
       "       [ 78,  85,  55,  81,  81]])"
      ]
     },
     "execution_count": 119,
     "metadata": {},
     "output_type": "execute_result"
    }
   ],
   "source": [
    "ar4"
   ]
  },
  {
   "cell_type": "code",
   "execution_count": 120,
   "id": "9b08b568-9d9b-4382-9ffd-2d1bc2798583",
   "metadata": {},
   "outputs": [],
   "source": [
    "ar5 = np.random.randint(1,3 ,(3,3))\n",
    "ar6 = np.random.randint(1,3 ,(3,3))"
   ]
  },
  {
   "cell_type": "code",
   "execution_count": 121,
   "id": "2f4866f3-058b-4b41-acd2-5984d5894f06",
   "metadata": {},
   "outputs": [
    {
     "data": {
      "text/plain": [
       "array([[2, 1, 2],\n",
       "       [1, 2, 2],\n",
       "       [2, 2, 2]])"
      ]
     },
     "execution_count": 121,
     "metadata": {},
     "output_type": "execute_result"
    }
   ],
   "source": [
    "ar5"
   ]
  },
  {
   "cell_type": "code",
   "execution_count": 122,
   "id": "32745087-c4b0-4fb6-aef2-3a31d9dda688",
   "metadata": {},
   "outputs": [
    {
     "data": {
      "text/plain": [
       "array([[1, 1, 1],\n",
       "       [1, 2, 2],\n",
       "       [2, 1, 1]])"
      ]
     },
     "execution_count": 122,
     "metadata": {},
     "output_type": "execute_result"
    }
   ],
   "source": [
    "ar6"
   ]
  },
  {
   "cell_type": "code",
   "execution_count": 123,
   "id": "412f2387-18a0-4e54-8be2-a64a5ccb804e",
   "metadata": {},
   "outputs": [
    {
     "data": {
      "text/plain": [
       "array([[3, 2, 3],\n",
       "       [2, 4, 4],\n",
       "       [4, 3, 3]])"
      ]
     },
     "execution_count": 123,
     "metadata": {},
     "output_type": "execute_result"
    }
   ],
   "source": [
    "ar5+ar6"
   ]
  },
  {
   "cell_type": "code",
   "execution_count": 124,
   "id": "0fbed340-aaea-4e70-91b5-a72f1a317b99",
   "metadata": {},
   "outputs": [
    {
     "data": {
      "text/plain": [
       "array([[1, 0, 1],\n",
       "       [0, 0, 0],\n",
       "       [0, 1, 1]])"
      ]
     },
     "execution_count": 124,
     "metadata": {},
     "output_type": "execute_result"
    }
   ],
   "source": [
    "ar5-ar6"
   ]
  },
  {
   "cell_type": "code",
   "execution_count": 125,
   "id": "3d1da90f-2377-4209-9771-2547b8d99f07",
   "metadata": {},
   "outputs": [
    {
     "data": {
      "text/plain": [
       "array([[2., 1., 2.],\n",
       "       [1., 1., 1.],\n",
       "       [1., 2., 2.]])"
      ]
     },
     "execution_count": 125,
     "metadata": {},
     "output_type": "execute_result"
    }
   ],
   "source": [
    "ar5/ar6"
   ]
  },
  {
   "cell_type": "code",
   "execution_count": 126,
   "id": "ffbdcff5-dbe7-4371-a73e-fbd59184ed7a",
   "metadata": {},
   "outputs": [
    {
     "data": {
      "text/plain": [
       "array([[2, 1, 2],\n",
       "       [1, 4, 4],\n",
       "       [4, 2, 2]])"
      ]
     },
     "execution_count": 126,
     "metadata": {},
     "output_type": "execute_result"
    }
   ],
   "source": [
    "ar5*ar6"
   ]
  },
  {
   "cell_type": "code",
   "execution_count": 128,
   "id": "a1dd7f22-c200-43cf-92cf-e00fb5ce574f",
   "metadata": {},
   "outputs": [
    {
     "data": {
      "text/plain": [
       "array([[7, 6, 6],\n",
       "       [7, 7, 7],\n",
       "       [8, 8, 8]])"
      ]
     },
     "execution_count": 128,
     "metadata": {},
     "output_type": "execute_result"
    }
   ],
   "source": [
    "ar5@ar6            # index by multiplication"
   ]
  },
  {
   "cell_type": "code",
   "execution_count": 129,
   "id": "2c3cf98d-7790-40e7-b1fa-fc974ecc898f",
   "metadata": {},
   "outputs": [
    {
     "name": "stderr",
     "output_type": "stream",
     "text": [
      "/tmp/ipykernel_182/4261370027.py:1: RuntimeWarning: divide by zero encountered in divide\n",
      "  ar5/0\n"
     ]
    },
    {
     "data": {
      "text/plain": [
       "array([[inf, inf, inf],\n",
       "       [inf, inf, inf],\n",
       "       [inf, inf, inf]])"
      ]
     },
     "execution_count": 129,
     "metadata": {},
     "output_type": "execute_result"
    }
   ],
   "source": [
    "ar5/0"
   ]
  },
  {
   "cell_type": "code",
   "execution_count": 130,
   "id": "54cf7a2e-64af-4367-a73b-d9a70bd73103",
   "metadata": {},
   "outputs": [
    {
     "data": {
      "text/plain": [
       "array([[102, 101, 102],\n",
       "       [101, 102, 102],\n",
       "       [102, 102, 102]])"
      ]
     },
     "execution_count": 130,
     "metadata": {},
     "output_type": "execute_result"
    }
   ],
   "source": [
    "ar5 +100"
   ]
  },
  {
   "cell_type": "code",
   "execution_count": 131,
   "id": "57409ec6-5c24-4f03-b7f6-0457989a1b7a",
   "metadata": {},
   "outputs": [
    {
     "data": {
      "text/plain": [
       "array([[4, 1, 4],\n",
       "       [1, 4, 4],\n",
       "       [4, 4, 4]])"
      ]
     },
     "execution_count": 131,
     "metadata": {},
     "output_type": "execute_result"
    }
   ],
   "source": [
    "ar5 **2"
   ]
  },
  {
   "cell_type": "code",
   "execution_count": 132,
   "id": "dc4e718c-5da0-4ebe-981f-5e675d65a1a1",
   "metadata": {},
   "outputs": [],
   "source": [
    "# Numpy -Broadcasting"
   ]
  },
  {
   "cell_type": "code",
   "execution_count": 134,
   "id": "ad0466fb-5604-476f-86ca-8e12a6769824",
   "metadata": {},
   "outputs": [],
   "source": [
    "ar = np.zeros((4,4))"
   ]
  },
  {
   "cell_type": "code",
   "execution_count": 135,
   "id": "f6e017b1-987d-446e-bbc9-ff4928b7845e",
   "metadata": {},
   "outputs": [
    {
     "data": {
      "text/plain": [
       "array([[0., 0., 0., 0.],\n",
       "       [0., 0., 0., 0.],\n",
       "       [0., 0., 0., 0.],\n",
       "       [0., 0., 0., 0.]])"
      ]
     },
     "execution_count": 135,
     "metadata": {},
     "output_type": "execute_result"
    }
   ],
   "source": [
    "ar"
   ]
  },
  {
   "cell_type": "code",
   "execution_count": 136,
   "id": "2bb5d575-1a8d-4c28-9b43-6d87eaadc7c1",
   "metadata": {},
   "outputs": [],
   "source": [
    "row = np.array([1,2,3,4])"
   ]
  },
  {
   "cell_type": "code",
   "execution_count": 137,
   "id": "26e92928-ba44-4c3a-8531-578c30afd76c",
   "metadata": {},
   "outputs": [
    {
     "data": {
      "text/plain": [
       "array([1, 2, 3, 4])"
      ]
     },
     "execution_count": 137,
     "metadata": {},
     "output_type": "execute_result"
    }
   ],
   "source": [
    "row"
   ]
  },
  {
   "cell_type": "code",
   "execution_count": 139,
   "id": "dbadb032-8c6b-46cc-b38d-725c3a9011dc",
   "metadata": {},
   "outputs": [
    {
     "data": {
      "text/plain": [
       "1"
      ]
     },
     "execution_count": 139,
     "metadata": {},
     "output_type": "execute_result"
    }
   ],
   "source": [
    "row.ndim"
   ]
  },
  {
   "cell_type": "code",
   "execution_count": 140,
   "id": "47b1c7f9-e67d-404c-8a08-84dfa28586f1",
   "metadata": {},
   "outputs": [
    {
     "data": {
      "text/plain": [
       "(4,)"
      ]
     },
     "execution_count": 140,
     "metadata": {},
     "output_type": "execute_result"
    }
   ],
   "source": [
    "row.shape"
   ]
  },
  {
   "cell_type": "code",
   "execution_count": 138,
   "id": "87623cd3-7d12-413d-9812-806c1452e2ca",
   "metadata": {},
   "outputs": [
    {
     "data": {
      "text/plain": [
       "array([[1., 2., 3., 4.],\n",
       "       [1., 2., 3., 4.],\n",
       "       [1., 2., 3., 4.],\n",
       "       [1., 2., 3., 4.]])"
      ]
     },
     "execution_count": 138,
     "metadata": {},
     "output_type": "execute_result"
    }
   ],
   "source": [
    "ar + row"
   ]
  },
  {
   "cell_type": "code",
   "execution_count": 141,
   "id": "cc6e6000-0b55-4456-92bd-1b0c4e6a4314",
   "metadata": {},
   "outputs": [
    {
     "data": {
      "text/plain": [
       "array([1, 2, 3, 4])"
      ]
     },
     "execution_count": 141,
     "metadata": {},
     "output_type": "execute_result"
    }
   ],
   "source": [
    "row.T"
   ]
  },
  {
   "cell_type": "code",
   "execution_count": 144,
   "id": "74f1611c-37f6-4d1a-8dcf-a332ebbdc0ad",
   "metadata": {},
   "outputs": [],
   "source": [
    "col = np.array([[1,2,3,4]])"
   ]
  },
  {
   "cell_type": "code",
   "execution_count": 145,
   "id": "8900df7a-392f-4c32-8848-eada7c365824",
   "metadata": {},
   "outputs": [
    {
     "data": {
      "text/plain": [
       "array([[1],\n",
       "       [2],\n",
       "       [3],\n",
       "       [4]])"
      ]
     },
     "execution_count": 145,
     "metadata": {},
     "output_type": "execute_result"
    }
   ],
   "source": [
    "col.T"
   ]
  },
  {
   "cell_type": "code",
   "execution_count": 146,
   "id": "b54f7aa5-14c3-4a50-8f59-e09724ebfd09",
   "metadata": {},
   "outputs": [
    {
     "data": {
      "text/plain": [
       "array([[1., 1., 1., 1.],\n",
       "       [2., 2., 2., 2.],\n",
       "       [3., 3., 3., 3.],\n",
       "       [4., 4., 4., 4.]])"
      ]
     },
     "execution_count": 146,
     "metadata": {},
     "output_type": "execute_result"
    }
   ],
   "source": [
    "col.T + ar"
   ]
  },
  {
   "cell_type": "code",
   "execution_count": 148,
   "id": "ea613ca1-2198-426f-990d-b50b0806bc3f",
   "metadata": {},
   "outputs": [
    {
     "data": {
      "text/plain": [
       "array([[0., 0., 0., 0.],\n",
       "       [0., 0., 0., 0.],\n",
       "       [0., 0., 0., 0.],\n",
       "       [0., 0., 0., 0.]])"
      ]
     },
     "execution_count": 148,
     "metadata": {},
     "output_type": "execute_result"
    }
   ],
   "source": [
    "ar"
   ]
  },
  {
   "cell_type": "code",
   "execution_count": 149,
   "id": "8edd318b-77af-49f2-ad5f-38d543fa60c8",
   "metadata": {},
   "outputs": [],
   "source": [
    "ar2 = np.random.randint(1,4,(3,4))"
   ]
  },
  {
   "cell_type": "code",
   "execution_count": 150,
   "id": "e092bf64-926b-42d7-8654-8fb1b606aa81",
   "metadata": {},
   "outputs": [
    {
     "data": {
      "text/plain": [
       "array([[2, 1, 2, 1],\n",
       "       [1, 3, 2, 2],\n",
       "       [2, 2, 1, 1]])"
      ]
     },
     "execution_count": 150,
     "metadata": {},
     "output_type": "execute_result"
    }
   ],
   "source": [
    "ar2"
   ]
  },
  {
   "cell_type": "code",
   "execution_count": 152,
   "id": "47f52d68-035c-4a8d-a2e6-4e5819f9b00f",
   "metadata": {},
   "outputs": [
    {
     "data": {
      "text/plain": [
       "dtype('int64')"
      ]
     },
     "execution_count": 152,
     "metadata": {},
     "output_type": "execute_result"
    }
   ],
   "source": [
    "ar2.dtype"
   ]
  },
  {
   "cell_type": "code",
   "execution_count": 154,
   "id": "3457e8f7-44ed-4d3b-a6af-95b862348e51",
   "metadata": {},
   "outputs": [
    {
     "data": {
      "text/plain": [
       "array([[1.41421356, 1.        , 1.41421356, 1.        ],\n",
       "       [1.        , 1.73205081, 1.41421356, 1.41421356],\n",
       "       [1.41421356, 1.41421356, 1.        , 1.        ]])"
      ]
     },
     "execution_count": 154,
     "metadata": {},
     "output_type": "execute_result"
    }
   ],
   "source": [
    "np.sqrt(ar2)"
   ]
  },
  {
   "cell_type": "code",
   "execution_count": 155,
   "id": "bfd150e9-73b9-4dd4-b104-060821039cec",
   "metadata": {},
   "outputs": [
    {
     "data": {
      "text/plain": [
       "array([[ 7.3890561 ,  2.71828183,  7.3890561 ,  2.71828183],\n",
       "       [ 2.71828183, 20.08553692,  7.3890561 ,  7.3890561 ],\n",
       "       [ 7.3890561 ,  7.3890561 ,  2.71828183,  2.71828183]])"
      ]
     },
     "execution_count": 155,
     "metadata": {},
     "output_type": "execute_result"
    }
   ],
   "source": [
    "np.exp(ar2)"
   ]
  },
  {
   "cell_type": "code",
   "execution_count": 156,
   "id": "3620f9b2-71c4-45b8-848b-83ee9f416049",
   "metadata": {},
   "outputs": [
    {
     "data": {
      "text/plain": [
       "array([[0.30103   , 0.        , 0.30103   , 0.        ],\n",
       "       [0.        , 0.47712125, 0.30103   , 0.30103   ],\n",
       "       [0.30103   , 0.30103   , 0.        , 0.        ]])"
      ]
     },
     "execution_count": 156,
     "metadata": {},
     "output_type": "execute_result"
    }
   ],
   "source": [
    "np.log10(ar2)"
   ]
  },
  {
   "cell_type": "code",
   "execution_count": null,
   "id": "ee5dc97a-dcb3-4867-b19d-08b9bd45a5e2",
   "metadata": {},
   "outputs": [],
   "source": []
  }
 ],
 "metadata": {
  "kernelspec": {
   "display_name": "Python 3 (ipykernel)",
   "language": "python",
   "name": "python3"
  },
  "language_info": {
   "codemirror_mode": {
    "name": "ipython",
    "version": 3
   },
   "file_extension": ".py",
   "mimetype": "text/x-python",
   "name": "python",
   "nbconvert_exporter": "python",
   "pygments_lexer": "ipython3",
   "version": "3.10.8"
  }
 },
 "nbformat": 4,
 "nbformat_minor": 5
}
