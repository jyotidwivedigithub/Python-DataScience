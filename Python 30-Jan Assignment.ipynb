{
 "cells": [
  {
   "cell_type": "code",
   "execution_count": null,
   "id": "992b1c24-d6c6-4fb6-8062-7fac3ed2f22b",
   "metadata": {},
   "outputs": [],
   "source": [
    "Q1. Write a program to accept percentage from the user and display the grade according to the following criteria:\n",
    "          Marks      Grade\n",
    "          >90          A\n",
    "     >80 and <=90      B\n",
    "     >=60 and <=80     C\n",
    "       below 60        D\n",
    "    \n",
    "Ans."
   ]
  },
  {
   "cell_type": "code",
   "execution_count": 18,
   "id": "c9b416bf-d3a5-4e99-bcbe-fd03807464eb",
   "metadata": {},
   "outputs": [
    {
     "name": "stdin",
     "output_type": "stream",
     "text": [
      "Enter the marks of the student:  98\n"
     ]
    },
    {
     "name": "stdout",
     "output_type": "stream",
     "text": [
      "The Grade of the students:  A\n"
     ]
    }
   ],
   "source": [
    "percentage = float(input('Enter the marks of the student: '))\n",
    "if percentage > 90:\n",
    "    Grade = 'A'\n",
    "elif percentage > 80 and percentage <=90:\n",
    "    Grade = 'B'\n",
    "elif percentage >= 60:\n",
    "    Grade = 'C'\n",
    "else:\n",
    "    Grade = 'D'\n",
    "    \n",
    "print(\"The Grade of the students: \",Grade)"
   ]
  },
  {
   "cell_type": "code",
   "execution_count": null,
   "id": "fce984e7-71b3-4f3d-9cdc-d6bded452596",
   "metadata": {},
   "outputs": [],
   "source": [
    "Q2. Write a program to accept the cost of a bike and display the road tax to be paid according to the following criteria:\n",
    "           Tax           Cost Price(in Rs)\n",
    "            15%             >100000\n",
    "            10%          >50000 and <=100000\n",
    "            5%              <=50000"
   ]
  },
  {
   "cell_type": "code",
   "execution_count": 19,
   "id": "2de5812d-7adc-47d3-b017-461b48190aea",
   "metadata": {},
   "outputs": [
    {
     "name": "stdin",
     "output_type": "stream",
     "text": [
      "Enter the cost price of the bike (in Rs):  870000\n"
     ]
    },
    {
     "name": "stdout",
     "output_type": "stream",
     "text": [
      "Road tax to be paid: Rs 130500.0\n"
     ]
    }
   ],
   "source": [
    "# Price of Bike\n",
    "cost_price = float(input(\"Enter the cost price of the bike (in Rs): \"))\n",
    "\n",
    "# Road tax based on cost_price\n",
    "if cost_price > 100000:\n",
    "    road_tax = 0.15 * cost_price\n",
    "elif cost_price >50000 and cost_price <=100000:\n",
    "    road_tax = 0.10 * cost_price\n",
    "else:\n",
    "    road_tax = .05 * cost_price\n",
    "    \n",
    "print(\"Road tax to be paid: Rs\", road_tax)\n"
   ]
  },
  {
   "cell_type": "code",
   "execution_count": null,
   "id": "8ba3b3ef-bcc6-498c-92cc-c25f2b5679dc",
   "metadata": {},
   "outputs": [],
   "source": [
    "Q3. Accept any city from the user and display monuments of that city.\n",
    "        City          Monument\n",
    "        Delhi          Red Fort\n",
    "        Agra           Taj Mahal\n",
    "        Jaipur         Jal Mahal"
   ]
  },
  {
   "cell_type": "code",
   "execution_count": 23,
   "id": "bd59c68f-97bf-41c6-bf34-61cd554f64b3",
   "metadata": {},
   "outputs": [
    {
     "name": "stdin",
     "output_type": "stream",
     "text": [
      "Enter the name of the city:  Delhi\n"
     ]
    },
    {
     "name": "stdout",
     "output_type": "stream",
     "text": [
      "Monument in Delhi is Red Fort\n"
     ]
    }
   ],
   "source": [
    "monuments = {\n",
    "    'Delhi' : 'Red Fort',\n",
    "    'Agra'  : 'Taj Mahal',\n",
    "    'Jaipur' : 'Jal Mahal'\n",
    "}\n",
    "\n",
    "city = input(\"Enter the name of the city: \")\n",
    "\n",
    "if city in monuments:\n",
    "    print(\"Monument in\", city, \"is\", monuments[city])\n",
    "else:\n",
    "    print(\"Monument is not available in\", city)\n",
    "    "
   ]
  },
  {
   "cell_type": "code",
   "execution_count": null,
   "id": "c3df943e-2cda-4ab9-abda-5bf4f59b72b7",
   "metadata": {},
   "outputs": [],
   "source": [
    "Q4: Check how many times a given number can be divided by 3 before it is less than or equal to 10.\n",
    "Ans. "
   ]
  },
  {
   "cell_type": "code",
   "execution_count": 54,
   "id": "574ed2eb-89d8-49f3-ae7f-672c96626e19",
   "metadata": {},
   "outputs": [
    {
     "name": "stdin",
     "output_type": "stream",
     "text": [
      "Enter a number:  30\n"
     ]
    },
    {
     "name": "stdout",
     "output_type": "stream",
     "text": [
      "Number of times divisible by 3 before reaching 10 or less: 1\n"
     ]
    }
   ],
   "source": [
    "number = int(input(\"Enter a number: \"))\n",
    "count=0\n",
    "\n",
    "while number > 10:\n",
    "    number /= 3\n",
    "    count += 1\n",
    "    \n",
    "print(\"Number of times divisible by 3 before reaching 10 or less:\", count)"
   ]
  },
  {
   "cell_type": "code",
   "execution_count": null,
   "id": "4d40217b-7d98-473c-b346-e8863377c40f",
   "metadata": {},
   "outputs": [],
   "source": [
    "Q5. Why and When to use while loop in python give a detailed description with example\n",
    "Ans.Python While Loop is used to execute a block of statements repeatedly until a given condition is satisfied. When the condition \n",
    "     becomes false, the line immediately after the loop in the program is executed."
   ]
  },
  {
   "cell_type": "code",
   "execution_count": 42,
   "id": "2ed550b9-1456-42dd-816a-ca890c109e14",
   "metadata": {},
   "outputs": [
    {
     "name": "stdout",
     "output_type": "stream",
     "text": [
      "Hello India\n",
      "Hello India\n",
      "Hello India\n"
     ]
    }
   ],
   "source": [
    "count = 0\n",
    "while (count < 3): \n",
    "    count = count + 1\n",
    "    print(\"Hello India\")"
   ]
  },
  {
   "cell_type": "code",
   "execution_count": null,
   "id": "8829b64a-e328-48fe-9f0d-16a04bdc87bb",
   "metadata": {},
   "outputs": [],
   "source": [
    "Q6. Use nested while loop to print 3 different pattern.\n",
    "Ans."
   ]
  },
  {
   "cell_type": "code",
   "execution_count": 56,
   "id": "5fe6e33b-4ea1-4a68-8871-8ade76da4891",
   "metadata": {},
   "outputs": [
    {
     "name": "stdout",
     "output_type": "stream",
     "text": [
      "Pattern 1:\n",
      "* * * * * \n",
      "* * * * * \n",
      "* * * * * \n",
      "* * * * * \n",
      "* * * * * \n"
     ]
    }
   ],
   "source": [
    "# Pattern 1: Square of asterisks\n",
    "print(\"Pattern 1:\")\n",
    "row = 1\n",
    "while row <= 5:\n",
    "    col = 1\n",
    "    while col <= 5:\n",
    "        print(\"*\", end=\" \")\n",
    "        col += 1\n",
    "    print()\n",
    "    row += 1"
   ]
  },
  {
   "cell_type": "code",
   "execution_count": 58,
   "id": "bb20ea02-77b0-4c38-aba9-f95bfe865b6b",
   "metadata": {},
   "outputs": [
    {
     "name": "stdout",
     "output_type": "stream",
     "text": [
      "\n",
      "Pattern 2:\n",
      "* \n",
      "* * \n",
      "* * * \n",
      "* * * * \n",
      "* * * * * \n"
     ]
    }
   ],
   "source": [
    "#Pattern 2: Right-angled triangle of asterisks\n",
    "print(\"\\nPattern 2:\")\n",
    "row = 1\n",
    "while row <= 5:\n",
    "    col = 1\n",
    "    while col <= row:\n",
    "        print(\"*\", end=\" \")\n",
    "        col += 1\n",
    "    print()\n",
    "    row += 1"
   ]
  },
  {
   "cell_type": "code",
   "execution_count": 59,
   "id": "693b63ef-5dc1-45d6-8d3e-5d7f4219c4ee",
   "metadata": {},
   "outputs": [
    {
     "name": "stdout",
     "output_type": "stream",
     "text": [
      "\n",
      "Pattern 3:\n",
      "* * * * * \n",
      "* * * * \n",
      "* * * \n",
      "* * \n",
      "* \n"
     ]
    }
   ],
   "source": [
    "# Pattern 3: Inverted right-angled triangle of asterisks\n",
    "print(\"\\nPattern 3:\")\n",
    "row = 5\n",
    "while row >= 1:\n",
    "    col = 1\n",
    "    while col <= row:\n",
    "        print(\"*\", end=\" \")\n",
    "        col += 1\n",
    "    print()\n",
    "    row -= 1"
   ]
  },
  {
   "cell_type": "code",
   "execution_count": null,
   "id": "bf1e6c15-84b6-4bb0-863d-22209554d1aa",
   "metadata": {},
   "outputs": [],
   "source": [
    "Q6.Reverse a while loop to display numbers from 10 to 1.\n",
    "Ans."
   ]
  },
  {
   "cell_type": "code",
   "execution_count": 55,
   "id": "59ea3a1d-1041-4cae-b9ba-9546d6f62a9d",
   "metadata": {},
   "outputs": [
    {
     "name": "stdout",
     "output_type": "stream",
     "text": [
      "10\n",
      "9\n",
      "8\n",
      "7\n",
      "6\n",
      "5\n",
      "4\n",
      "3\n",
      "2\n",
      "1\n"
     ]
    }
   ],
   "source": [
    "num = 10\n",
    "\n",
    "while num >= 1:\n",
    "    print(num)\n",
    "    num -= 1"
   ]
  },
  {
   "cell_type": "code",
   "execution_count": null,
   "id": "ab9da02f-8c39-41b8-a577-eb9b04ad91b9",
   "metadata": {},
   "outputs": [],
   "source": []
  }
 ],
 "metadata": {
  "kernelspec": {
   "display_name": "Python 3 (ipykernel)",
   "language": "python",
   "name": "python3"
  },
  "language_info": {
   "codemirror_mode": {
    "name": "ipython",
    "version": 3
   },
   "file_extension": ".py",
   "mimetype": "text/x-python",
   "name": "python",
   "nbconvert_exporter": "python",
   "pygments_lexer": "ipython3",
   "version": "3.10.8"
  }
 },
 "nbformat": 4,
 "nbformat_minor": 5
}
