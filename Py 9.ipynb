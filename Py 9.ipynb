{
 "cells": [
  {
   "cell_type": "code",
   "execution_count": null,
   "id": "3315b2a6-75b9-49ed-8699-f5a9c27cb766",
   "metadata": {},
   "outputs": [],
   "source": [
    "Q1. Write a Python program that prompts the user for two integers and divides the first integer by the\n",
    "second integer. If the either variable are none integer then print the value error and second integer is\n",
    "zero, catch the ZeroDivisionError and print an error message to the user.\n",
    "Q2. Write a Python program that prompts the user for a password and checks whether the password\n",
    "meets certain criteria (e.g., at least 8 characters, contains at least one uppercase letter, etc.). If the\n",
    "password does not meet the criteria, raise a custom exception called PasswordError with a custom error\n",
    "message.\n",
    "Q3. Write a Python program that prompts the user for a number and calculates the square root of the\n",
    "number using the math.sqrt() function. If the number is negative, raise a ValueError with a custom error\n",
    "message.\n",
    "Q4. Write a Python program that prompts the user for a number and calculates the square root of the\n",
    "number using the math.sqrt() function. If the number is negative, raise a ValueError with a custom error\n",
    "message.\n",
    "Q5. Write a Python program that prompts the user for a list of integers and calculates the average of the\n",
    "list. If the list is empty, raise a ValueError with a custom error message.\n",
    "Q6. Write a function that takes a string as input and returns the number of vow\n",
    "els in the string. If the input is not a string, raise a TypeError with a custom error message.\n",
    "Q7. write a python program how to handle simple runtime error?\n",
    "Q8. write a program how to handle multiple errors with one answer:# Program to handle multiple errors\n",
    "with one.\n",
    "Q9. write a program to print the reciprocal of even numbers note:we might want to run a certain block of\n",
    "code if the code block inside try runs without any errors. For these cases, you can use the optional else\n",
    "keyword with the try statement.\n",
    "Q10. How to handle exceptions using the try, except, and finally statements write code."
   ]
  }
 ],
 "metadata": {
  "kernelspec": {
   "display_name": "Python 3 (ipykernel)",
   "language": "python",
   "name": "python3"
  },
  "language_info": {
   "codemirror_mode": {
    "name": "ipython",
    "version": 3
   },
   "file_extension": ".py",
   "mimetype": "text/x-python",
   "name": "python",
   "nbconvert_exporter": "python",
   "pygments_lexer": "ipython3",
   "version": "3.10.8"
  }
 },
 "nbformat": 4,
 "nbformat_minor": 5
}
