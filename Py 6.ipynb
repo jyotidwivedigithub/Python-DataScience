{
 "cells": [
  {
   "cell_type": "code",
   "execution_count": null,
   "id": "5c57718e-bb04-4787-aa02-028cb244be0e",
   "metadata": {},
   "outputs": [],
   "source": [
    "Q1. Write a program that prints the first 10 even numbers using a for loop.\n",
    "Q2. Write a program that takes a list of strings and prints out each string in reverse order using a for loop.\n",
    "Q3. Write a program that prints the multiplication table of a given number using a for loop.\n",
    "Q4. Write a program that takes a list of integers as input and returns the sum of all the numbers in the list\n",
    "using a for loop.\n",
    "Q5. Write a program that prompts the user for a positive integer and then prints out all the prime\n",
    "numbers up to that number using a for loop.\n",
    "Q6. Write a program that prompts the user to enter a password until the correct password is entered\n",
    "using a while loop.\n",
    "Q7. Write a program that takes a list of strings and prints out each string in reverse order using a while\n",
    "loop.\n",
    "Q8. Write a program that prompts the user to enter a positive integer and then prints out all the Fibonacci\n",
    "numbers up to that number using a while loop.\n",
    "Q9. Write a program that takes a list of integers as input and returns the product of all the numbers in the\n",
    "list using a while loop.\n",
    "Q10. Write a program that prompts the user to enter a positive integer and then prints out the factorial of\n",
    "that number using a while loop."
   ]
  }
 ],
 "metadata": {
  "kernelspec": {
   "display_name": "Python 3 (ipykernel)",
   "language": "python",
   "name": "python3"
  },
  "language_info": {
   "codemirror_mode": {
    "name": "ipython",
    "version": 3
   },
   "file_extension": ".py",
   "mimetype": "text/x-python",
   "name": "python",
   "nbconvert_exporter": "python",
   "pygments_lexer": "ipython3",
   "version": "3.10.8"
  }
 },
 "nbformat": 4,
 "nbformat_minor": 5
}
