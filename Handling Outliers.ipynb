{
 "cells": [
  {
   "cell_type": "markdown",
   "id": "9c57b885-c48f-4974-ade2-e4e8bb1e6716",
   "metadata": {},
   "source": [
    "We can handle outliers by calculating...\n",
    "\n",
    " 1.Minimum Value    \n",
    " 2.Q1- 25 percentile    \n",
    " 3.Median    \n",
    " 4.Q2- 75 percentile   \n",
    " 5.Maximum"
   ]
  },
  {
   "cell_type": "code",
   "execution_count": 2,
   "id": "f5246bc1-f6df-4173-9df3-8de7082022a0",
   "metadata": {},
   "outputs": [],
   "source": [
    "import numpy as np"
   ]
  },
  {
   "cell_type": "code",
   "execution_count": 3,
   "id": "588d4c48-bce0-47e4-95c0-d5bbb1460456",
   "metadata": {},
   "outputs": [],
   "source": [
    "list = [24, 65, 87, 34, 67, 56, 45, 57, 36, 76, 64, 43, 47, 56, 1000, 1100, 2300] "
   ]
  },
  {
   "cell_type": "code",
   "execution_count": 4,
   "id": "0e24be60-383f-4ef5-a10a-43d22f53d437",
   "metadata": {},
   "outputs": [
    {
     "name": "stdout",
     "output_type": "stream",
     "text": [
      "[45.]\n"
     ]
    }
   ],
   "source": [
    "# Minimum value [ Lower Fence <-------> Higher Fence ]\n",
    "Q1 = np.percentile(list,[25])\n",
    "print(Q1)"
   ]
  },
  {
   "cell_type": "code",
   "execution_count": 11,
   "id": "53398d70-b11d-4ed3-a128-674980536c8c",
   "metadata": {},
   "outputs": [],
   "source": [
    "Minimum,Q1,Q2,Q3,Maximum = np.quantile(list,[0,0.25,0.50,0.75,1.0])"
   ]
  },
  {
   "cell_type": "code",
   "execution_count": 12,
   "id": "75e7e66c-d058-4bb2-9b45-194d7e6aa216",
   "metadata": {},
   "outputs": [
    {
     "data": {
      "text/plain": [
       "24.0"
      ]
     },
     "execution_count": 12,
     "metadata": {},
     "output_type": "execute_result"
    }
   ],
   "source": [
    "Minimum"
   ]
  },
  {
   "cell_type": "code",
   "execution_count": 7,
   "id": "d7c6628d-31d4-4b23-90df-562e13e2e403",
   "metadata": {},
   "outputs": [
    {
     "data": {
      "text/plain": [
       "45.0"
      ]
     },
     "execution_count": 7,
     "metadata": {},
     "output_type": "execute_result"
    }
   ],
   "source": [
    "Q1"
   ]
  },
  {
   "cell_type": "code",
   "execution_count": 8,
   "id": "44039d0b-4662-4a18-87a1-ee8b700e0d5e",
   "metadata": {},
   "outputs": [
    {
     "data": {
      "text/plain": [
       "57.0"
      ]
     },
     "execution_count": 8,
     "metadata": {},
     "output_type": "execute_result"
    }
   ],
   "source": [
    "Q2"
   ]
  },
  {
   "cell_type": "code",
   "execution_count": 9,
   "id": "20816429-c29e-43f3-bee4-9e1c710ef085",
   "metadata": {},
   "outputs": [
    {
     "data": {
      "text/plain": [
       "76.0"
      ]
     },
     "execution_count": 9,
     "metadata": {},
     "output_type": "execute_result"
    }
   ],
   "source": [
    "Q3"
   ]
  },
  {
   "cell_type": "code",
   "execution_count": 13,
   "id": "8d3ab449-c5bf-43fb-890e-0f0425701691",
   "metadata": {},
   "outputs": [
    {
     "data": {
      "text/plain": [
       "2300.0"
      ]
     },
     "execution_count": 13,
     "metadata": {},
     "output_type": "execute_result"
    }
   ],
   "source": [
    "Maximum"
   ]
  },
  {
   "cell_type": "code",
   "execution_count": 15,
   "id": "e4e1b857-16e9-4643-8b98-9a1593d77002",
   "metadata": {},
   "outputs": [
    {
     "name": "stdout",
     "output_type": "stream",
     "text": [
      "31.0\n"
     ]
    }
   ],
   "source": [
    "IQR = Q3-Q1             # IQR Means the range of value that resides in the middle of scores\n",
    "print(IQR)"
   ]
  },
  {
   "cell_type": "code",
   "execution_count": 16,
   "id": "4d46158d-6fbf-4362-b610-30d3b58ab04a",
   "metadata": {},
   "outputs": [
    {
     "data": {
      "text/plain": [
       "(-1.5, 122.5)"
      ]
     },
     "execution_count": 16,
     "metadata": {},
     "output_type": "execute_result"
    }
   ],
   "source": [
    "lower_fence = Q1-1.5*(IQR)\n",
    "higher_fence = Q3+1.5*(IQR)\n",
    "lower_fence, higher_fence"
   ]
  },
  {
   "cell_type": "code",
   "execution_count": 27,
   "id": "09c91b07-ae53-473c-8813-4372091882fa",
   "metadata": {},
   "outputs": [
    {
     "name": "stdout",
     "output_type": "stream",
     "text": [
      "This element is not on outliers\n",
      "This element is not on outliers\n",
      "This element is not on outliers\n",
      "This element is not on outliers\n",
      "This element is not on outliers\n",
      "This element is not on outliers\n",
      "This element is not on outliers\n",
      "This element is not on outliers\n",
      "This element is not on outliers\n",
      "This element is not on outliers\n",
      "This element is not on outliers\n",
      "This element is not on outliers\n",
      "This element is not on outliers\n",
      "This element is not on outliers\n"
     ]
    }
   ],
   "source": [
    "# Outliers\n",
    "\n",
    "outliers = [ ]\n",
    "for i in list:\n",
    "    if i >= -1.5 and i <= 122.5 :\n",
    "        print(\"This element is not on outliers\")\n",
    "    else:\n",
    "        outliers.append(i)\n",
    "        "
   ]
  },
  {
   "cell_type": "code",
   "execution_count": 28,
   "id": "eb131fc9-5afe-4bc3-91ba-e30155db283b",
   "metadata": {},
   "outputs": [
    {
     "data": {
      "text/plain": [
       "[1000, 1100, 2300]"
      ]
     },
     "execution_count": 28,
     "metadata": {},
     "output_type": "execute_result"
    }
   ],
   "source": [
    "outliers"
   ]
  },
  {
   "cell_type": "code",
   "execution_count": 29,
   "id": "6336628d-669e-41e7-8030-02a83e72ef7c",
   "metadata": {},
   "outputs": [],
   "source": [
    "import seaborn as sns"
   ]
  },
  {
   "cell_type": "code",
   "execution_count": 30,
   "id": "5f3af6e7-7fdb-41b4-a040-e14ecc628b59",
   "metadata": {},
   "outputs": [
    {
     "data": {
      "text/plain": [
       "<AxesSubplot: >"
      ]
     },
     "execution_count": 30,
     "metadata": {},
     "output_type": "execute_result"
    },
    {
     "data": {
      "image/png": "[encoded data removed]",
      "text/plain": [
       "<Figure size 640x480 with 1 Axes>"
      ]
     },
     "metadata": {},
     "output_type": "display_data"
    }
   ],
   "source": [
    "sns.boxplot(list)"
   ]
  },
  {
   "cell_type": "code",
   "execution_count": 33,
   "id": "3642e751-09b7-4579-90e4-20a96b395cdb",
   "metadata": {},
   "outputs": [],
   "source": [
    "lis = [24, 65, 87, 34, 67, 56, 45, 57, 36, 76, 64, 43, 47, 56, 1000, 1100, 2300] "
   ]
  },
  {
   "cell_type": "code",
   "execution_count": 34,
   "id": "b51f9721-b9ed-4d16-b08c-923f6706dc01",
   "metadata": {},
   "outputs": [
    {
     "data": {
      "text/plain": [
       "<AxesSubplot: >"
      ]
     },
     "execution_count": 34,
     "metadata": {},
     "output_type": "execute_result"
    },
    {
     "data": {
      "image/png": "[encoded data removed]",
      "text/plain": [
       "<Figure size 640x480 with 1 Axes>"
      ]
     },
     "metadata": {},
     "output_type": "display_data"
    }
   ],
   "source": [
    "sns.boxplot(list)"
   ]
  },
  {
   "cell_type": "code",
   "execution_count": null,
   "id": "aa8dbbe5-0918-40e4-9b62-43769ce4f5c0",
   "metadata": {},
   "outputs": [],
   "source": []
  }
 ],
 "metadata": {
  "kernelspec": {
   "display_name": "Python 3 (ipykernel)",
   "language": "python",
   "name": "python3"
  },
  "language_info": {
   "codemirror_mode": {
    "name": "ipython",
    "version": 3
   },
   "file_extension": ".py",
   "mimetype": "text/x-python",
   "name": "python",
   "nbconvert_exporter": "python",
   "pygments_lexer": "ipython3",
   "version": "3.10.8"
  }
 },
 "nbformat": 4,
 "nbformat_minor": 5
}
