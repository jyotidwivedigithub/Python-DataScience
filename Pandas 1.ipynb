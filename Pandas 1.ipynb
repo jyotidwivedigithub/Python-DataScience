{
 "cells": [
  {
   "cell_type": "code",
   "execution_count": 117,
   "id": "7ffb188b-7890-4f67-a955-d3b956f0f4c2",
   "metadata": {},
   "outputs": [],
   "source": [
    "# Work / read  with csv file\n",
    "# Dataframe is a tabular structure"
   ]
  },
  {
   "cell_type": "code",
   "execution_count": null,
   "id": "ec2548f0-d003-4497-9c64-ba00a7e5a7b5",
   "metadata": {},
   "outputs": [],
   "source": [
    "import pandas as pd"
   ]
  },
  {
   "cell_type": "code",
   "execution_count": null,
   "id": "4ff99a5f-bb65-4a40-9aff-a96abee30a15",
   "metadata": {},
   "outputs": [],
   "source": [
    "pip install pandas"
   ]
  },
  {
   "cell_type": "code",
   "execution_count": null,
   "id": "4a0a6a89-6f1a-47f6-b420-7c54667cda46",
   "metadata": {},
   "outputs": [],
   "source": [
    "df = pd.read_csv(\"p2.csv\")"
   ]
  },
  {
   "cell_type": "code",
   "execution_count": null,
   "id": "92dc8863-f028-493f-9b52-e87d5f88cd9a",
   "metadata": {},
   "outputs": [],
   "source": [
    "df.head()"
   ]
  },
  {
   "cell_type": "code",
   "execution_count": null,
   "id": "062c3256-3ad4-49bc-8bce-6f56ac7825ed",
   "metadata": {},
   "outputs": [],
   "source": [
    "df.head(3)"
   ]
  },
  {
   "cell_type": "code",
   "execution_count": null,
   "id": "69a72d11-0685-4196-9ac7-636406f73208",
   "metadata": {},
   "outputs": [],
   "source": [
    "# last five record\n",
    "df.tail()"
   ]
  },
  {
   "cell_type": "code",
   "execution_count": null,
   "id": "d5c27142-005a-40c1-8f5d-6685bf3252dc",
   "metadata": {},
   "outputs": [],
   "source": [
    "df.tail(3)"
   ]
  },
  {
   "cell_type": "code",
   "execution_count": null,
   "id": "2d2baab9-60cf-4471-8858-fd48da074de9",
   "metadata": {},
   "outputs": [],
   "source": [
    "type(df)"
   ]
  },
  {
   "cell_type": "code",
   "execution_count": null,
   "id": "beac381d-8f33-4d28-8535-bf12de5023c1",
   "metadata": {},
   "outputs": [],
   "source": [
    "#to get column\n",
    "list(df.columns)"
   ]
  },
  {
   "cell_type": "code",
   "execution_count": null,
   "id": "e730db58-bf7e-4b2d-8993-bcbd8f2e6326",
   "metadata": {},
   "outputs": [],
   "source": [
    "# to get specific column data\n",
    "df['JobRole'] "
   ]
  },
  {
   "cell_type": "code",
   "execution_count": null,
   "id": "9d29b74c-5bd2-4ac3-b43d-297286e4d375",
   "metadata": {},
   "outputs": [],
   "source": [
    "df['Gender']"
   ]
  },
  {
   "cell_type": "code",
   "execution_count": null,
   "id": "eb366554-d5f1-4bcc-a20f-93ae48c73209",
   "metadata": {},
   "outputs": [],
   "source": [
    "type(df['Gender'])"
   ]
  },
  {
   "cell_type": "code",
   "execution_count": null,
   "id": "54d7bc37-a528-4966-83e4-ea380067c131",
   "metadata": {},
   "outputs": [],
   "source": [
    "df[['Gender']]       #data get in dataframe form"
   ]
  },
  {
   "cell_type": "code",
   "execution_count": null,
   "id": "db4f6014-77c8-42fc-843f-f3040ea7c007",
   "metadata": {},
   "outputs": [],
   "source": [
    "type(df[['Gender']])"
   ]
  },
  {
   "cell_type": "code",
   "execution_count": null,
   "id": "d90812ad-7ff2-44ff-89c8-aedb27d413b6",
   "metadata": {},
   "outputs": [],
   "source": [
    "df.columns"
   ]
  },
  {
   "cell_type": "code",
   "execution_count": null,
   "id": "05c644f7-69a6-4dd9-8980-073c6c02616b",
   "metadata": {},
   "outputs": [],
   "source": [
    "# for selecting single columns it [] will only work for single column\n",
    "df[\"Gender\"]"
   ]
  },
  {
   "cell_type": "code",
   "execution_count": null,
   "id": "8de444a3-2b37-4f69-810a-131a8e4d4293",
   "metadata": {},
   "outputs": [],
   "source": [
    "# for selecting multiple columns\n",
    "df[['EmployeeNumber' , 'Gender' , 'JobRole']]"
   ]
  },
  {
   "cell_type": "code",
   "execution_count": null,
   "id": "8a9022c7-317d-4cf5-810d-8c6b665c94a8",
   "metadata": {},
   "outputs": [],
   "source": [
    "df.dtypes"
   ]
  },
  {
   "cell_type": "code",
   "execution_count": null,
   "id": "97c040ab-4249-4e2d-813e-0c15bad8328d",
   "metadata": {},
   "outputs": [],
   "source": [
    "# Work / read with Excel file"
   ]
  },
  {
   "cell_type": "code",
   "execution_count": null,
   "id": "ff0c289f-f5b3-4c1d-82cd-278bc7ddf695",
   "metadata": {},
   "outputs": [],
   "source": [
    "df1 = pd.read_excel(\"assignment1.xlsx\")"
   ]
  },
  {
   "cell_type": "code",
   "execution_count": null,
   "id": "4f6ad32d-b145-42db-9cff-def910f22d60",
   "metadata": {},
   "outputs": [],
   "source": [
    "type(df1)"
   ]
  },
  {
   "cell_type": "code",
   "execution_count": null,
   "id": "63df7cd0-629e-4259-82dc-4455453deaae",
   "metadata": {},
   "outputs": [],
   "source": [
    "df1.dtypes"
   ]
  },
  {
   "cell_type": "code",
   "execution_count": null,
   "id": "e3dc2a20-0f65-41f0-9441-630ad0a7a1c2",
   "metadata": {},
   "outputs": [],
   "source": [
    "df1.columns"
   ]
  },
  {
   "cell_type": "code",
   "execution_count": null,
   "id": "a77775ea-edac-43d9-8431-79405934c7bb",
   "metadata": {},
   "outputs": [],
   "source": [
    "df1['Customer Number']"
   ]
  },
  {
   "cell_type": "code",
   "execution_count": null,
   "id": "42893ac6-be90-4f5e-a113-01c935453b74",
   "metadata": {},
   "outputs": [],
   "source": [
    "df1[['Customer Number', 'Amount Deposited']]"
   ]
  },
  {
   "cell_type": "code",
   "execution_count": null,
   "id": "4219411d-8915-4e07-8e6c-830aa786ba7f",
   "metadata": {},
   "outputs": [],
   "source": [
    "# read with url\n",
    "pd.read_csv(\"https://raw.githubusercontent.com/datasciencedojo/datasets/master/titanic.csv\")"
   ]
  },
  {
   "cell_type": "code",
   "execution_count": null,
   "id": "87760665-4538-41cf-aa72-c9e722e04a4c",
   "metadata": {},
   "outputs": [],
   "source": [
    "df2 = pd.read_csv(\"https://raw.githubusercontent.com/datasciencedojo/datasets/master/titanic.csv\")"
   ]
  },
  {
   "cell_type": "code",
   "execution_count": null,
   "id": "80a52afd-7df5-45ce-8c4c-b150f74442d3",
   "metadata": {},
   "outputs": [],
   "source": [
    "df2.head()"
   ]
  },
  {
   "cell_type": "code",
   "execution_count": null,
   "id": "0a942ad6-a08a-4e29-b69e-921a9d4c3fcf",
   "metadata": {},
   "outputs": [],
   "source": [
    "df2.columns"
   ]
  },
  {
   "cell_type": "code",
   "execution_count": null,
   "id": "6970e83f-4367-4067-9ba2-0b30cba6e473",
   "metadata": {},
   "outputs": [],
   "source": [
    "type(df2)"
   ]
  },
  {
   "cell_type": "code",
   "execution_count": null,
   "id": "d114f1af-ce75-46cf-99f2-bc1bb0d5163b",
   "metadata": {},
   "outputs": [],
   "source": [
    "df2[[\"PassengerId\", \"Survived\"]]"
   ]
  },
  {
   "cell_type": "code",
   "execution_count": null,
   "id": "8a15c80d-1750-4aad-a867-80ba93069d30",
   "metadata": {},
   "outputs": [],
   "source": [
    "type(df2[\"Survived\"])"
   ]
  },
  {
   "cell_type": "code",
   "execution_count": null,
   "id": "cc6c2d67-33b8-4b0f-a725-b88956f3dced",
   "metadata": {},
   "outputs": [],
   "source": [
    "df2.tail()"
   ]
  },
  {
   "cell_type": "code",
   "execution_count": null,
   "id": "97d8989a-29d3-4bdb-85f2-07525ecae7a1",
   "metadata": {},
   "outputs": [],
   "source": [
    "df2.tail(3)"
   ]
  },
  {
   "cell_type": "code",
   "execution_count": null,
   "id": "191733bb-8014-4c09-a8d7-fbb4692384e7",
   "metadata": {},
   "outputs": [],
   "source": [
    "# Read with html"
   ]
  },
  {
   "cell_type": "code",
   "execution_count": null,
   "id": "241a8680-0237-4092-9f5a-a624b3ebf706",
   "metadata": {},
   "outputs": [],
   "source": [
    "pip install lxml"
   ]
  },
  {
   "cell_type": "code",
   "execution_count": null,
   "id": "205057fc-95bb-45f3-afbe-115cfc5d3673",
   "metadata": {},
   "outputs": [],
   "source": [
    "import lxml                  #it return list\n",
    "import pandas as pd\n",
    "pd.read_html(\"https://www.basketball-reference.com/leagues/NBA_2015_totals.html\")"
   ]
  },
  {
   "cell_type": "code",
   "execution_count": null,
   "id": "681e767d-9b71-4a8a-b60b-9cb40b0a2c03",
   "metadata": {},
   "outputs": [],
   "source": [
    "url_data = pd.read_html(\"https://www.basketball-reference.com/leagues/NBA_2015_totals.html\")"
   ]
  },
  {
   "cell_type": "code",
   "execution_count": null,
   "id": "a52894bd-5d1c-4e00-a3ac-ab80c8170b8a",
   "metadata": {},
   "outputs": [],
   "source": [
    "type(url_data)"
   ]
  },
  {
   "cell_type": "code",
   "execution_count": null,
   "id": "0ee6611b-e37e-4a1a-9765-8b6501f63991",
   "metadata": {},
   "outputs": [],
   "source": [
    "len(url_data)"
   ]
  },
  {
   "cell_type": "code",
   "execution_count": null,
   "id": "ccc9adb8-e084-4c26-b0d2-36d25c2c237a",
   "metadata": {},
   "outputs": [],
   "source": [
    "df2 = url_data[0]"
   ]
  },
  {
   "cell_type": "code",
   "execution_count": null,
   "id": "ea5fc201-954d-46ff-a799-9d5af10f33be",
   "metadata": {},
   "outputs": [],
   "source": [
    "df3"
   ]
  },
  {
   "cell_type": "code",
   "execution_count": null,
   "id": "957b833b-6951-4d33-b308-1c97ff9039ca",
   "metadata": {},
   "outputs": [],
   "source": [
    "df3.head()"
   ]
  },
  {
   "cell_type": "code",
   "execution_count": null,
   "id": "f51e26c4-f11a-4b13-bf72-fb64d208e025",
   "metadata": {},
   "outputs": [],
   "source": [
    "df3.tail(3)"
   ]
  },
  {
   "cell_type": "code",
   "execution_count": null,
   "id": "e6c872ac-beb0-4985-a11c-959f9082d579",
   "metadata": {},
   "outputs": [],
   "source": [
    "df3.dtypes"
   ]
  },
  {
   "cell_type": "code",
   "execution_count": 113,
   "id": "200a3f3b-17ce-4ab0-9277-649dec8670be",
   "metadata": {},
   "outputs": [],
   "source": [
    "# store data permanently"
   ]
  },
  {
   "cell_type": "code",
   "execution_count": 114,
   "id": "b67020ab-3253-4a73-bc82-ae8ccfabc981",
   "metadata": {},
   "outputs": [],
   "source": [
    "df2.to_csv(\"players_data.csv\")"
   ]
  },
  {
   "cell_type": "code",
   "execution_count": 115,
   "id": "108dcd72-116a-424b-895b-3f13c403073f",
   "metadata": {},
   "outputs": [],
   "source": [
    "# to avoid row index\n",
    "df2.to_csv(\"players_data.csv\", index = False)"
   ]
  },
  {
   "cell_type": "code",
   "execution_count": 116,
   "id": "47e28154-cff2-451c-a957-09b22108b060",
   "metadata": {},
   "outputs": [],
   "source": [
    "# to avoid columns\n",
    "df2.to_csv(\"players_data.csv\", columns = None)"
   ]
  },
  {
   "cell_type": "code",
   "execution_count": 3,
   "id": "887886a6-aded-432c-9356-76798ad0eac9",
   "metadata": {},
   "outputs": [],
   "source": [
    "import pandas as pd\n",
    "df = pd.DataFrame([1,2,3],index=['A','B','C'])                                       \n",
    "def reindex_dataframe(df):\n",
    "       # Reset the index of the DataFrame to a new index starting from 0\n",
    "    df = df.reset_index(drop=True)\n",
    "       # Set the new index values by multiplying the row number by 2 and adding 1\n",
    "    df.index = (df.index * 2) + 1\n",
    "    return df\n",
    "new_df = reindex_dataframe(df) "
   ]
  },
  {
   "cell_type": "code",
   "execution_count": 4,
   "id": "e9828319-81f8-47d0-ab4a-41535ad5855e",
   "metadata": {},
   "outputs": [
    {
     "data": {
      "text/html": [
       "<div>\n",
       "<style scoped>\n",
       "    .dataframe tbody tr th:only-of-type {\n",
       "        vertical-align: middle;\n",
       "    }\n",
       "\n",
       "    .dataframe tbody tr th {\n",
       "        vertical-align: top;\n",
       "    }\n",
       "\n",
       "    .dataframe thead th {\n",
       "        text-align: right;\n",
       "    }\n",
       "</style>\n",
       "<table border=\"1\" class=\"dataframe\">\n",
       "  <thead>\n",
       "    <tr style=\"text-align: right;\">\n",
       "      <th></th>\n",
       "      <th>0</th>\n",
       "    </tr>\n",
       "  </thead>\n",
       "  <tbody>\n",
       "    <tr>\n",
       "      <th>1</th>\n",
       "      <td>1</td>\n",
       "    </tr>\n",
       "    <tr>\n",
       "      <th>3</th>\n",
       "      <td>2</td>\n",
       "    </tr>\n",
       "    <tr>\n",
       "      <th>5</th>\n",
       "      <td>3</td>\n",
       "    </tr>\n",
       "  </tbody>\n",
       "</table>\n",
       "</div>"
      ],
      "text/plain": [
       "   0\n",
       "1  1\n",
       "3  2\n",
       "5  3"
      ]
     },
     "execution_count": 4,
     "metadata": {},
     "output_type": "execute_result"
    }
   ],
   "source": [
    "new_df"
   ]
  },
  {
   "cell_type": "code",
   "execution_count": 5,
   "id": "c0452931-dadd-4603-ae40-8a310e3550e2",
   "metadata": {},
   "outputs": [
    {
     "name": "stdout",
     "output_type": "stream",
     "text": [
      "Sum of the first three values in 'Values' column: 60\n"
     ]
    }
   ],
   "source": [
    "import pandas as pd\n",
    "def sum_first_three(df):\n",
    "      # Get the first three values in the 'Values' column\n",
    "    values = df['Values'][:3]\n",
    "      # Calculate the sum of the first three values\n",
    "    sum_first_three = sum(values)\n",
    "      # Print the sum to the console\n",
    "    print(\"Sum of the first three values in 'Values' column:\", sum_first_three)\n",
    "                                       \n",
    "df = pd.DataFrame({'Values': [10, 20, 30, 40, 50]})\n",
    "sum_first_three(df)"
   ]
  },
  {
   "cell_type": "code",
   "execution_count": 6,
   "id": "516325fc-adbe-449d-a1db-1c910c217afd",
   "metadata": {},
   "outputs": [
    {
     "name": "stdout",
     "output_type": "stream",
     "text": [
      "                               Text  Word_Count\n",
      "0                This is a sentence           4\n",
      "1  Another sentence with more words           5\n"
     ]
    }
   ],
   "source": [
    "import pandas as pd\n",
    "\n",
    "def add_word_count(df):\n",
    "    # Split the 'Text' column by spaces and count the number of words in each row\n",
    "    word_count = df['Text'].str.split().str.len()\n",
    "    # Add the new 'Word_Count' column to the DataFrame\n",
    "    df['Word_Count'] = word_count\n",
    "    # Return the updated DataFrame\n",
    "    return df\n",
    "   \n",
    "df = pd.DataFrame({'Text': ['This is a sentence', 'Another sentence with more words']})\n",
    "df = add_word_count(df)\n",
    "print(df)"
   ]
  },
  {
   "cell_type": "code",
   "execution_count": 8,
   "id": "de9a4545-88cf-4b89-80a5-2c34f70e043b",
   "metadata": {},
   "outputs": [
    {
     "name": "stdout",
     "output_type": "stream",
     "text": [
      "9\n",
      "(3, 3)\n"
     ]
    }
   ],
   "source": [
    "import pandas as pd\n",
    "df = pd.DataFrame({'A': [1, 2, 3], 'B': [4, 5, 6], 'C': [7, 8, 9]})\n",
    "print( df.size)\n",
    "print( df.shape)"
   ]
  },
  {
   "cell_type": "code",
   "execution_count": null,
   "id": "3d7dfcbe-e8e3-4f22-8610-b3851d3b68ee",
   "metadata": {},
   "outputs": [],
   "source": []
  }
 ],
 "metadata": {
  "kernelspec": {
   "display_name": "Python 3 (ipykernel)",
   "language": "python",
   "name": "python3"
  },
  "language_info": {
   "codemirror_mode": {
    "name": "ipython",
    "version": 3
   },
   "file_extension": ".py",
   "mimetype": "text/x-python",
   "name": "python",
   "nbconvert_exporter": "python",
   "pygments_lexer": "ipython3",
   "version": "3.10.8"
  }
 },
 "nbformat": 4,
 "nbformat_minor": 5
}
