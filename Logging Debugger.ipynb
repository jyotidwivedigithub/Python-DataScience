{
 "cells": [
  {
   "cell_type": "code",
   "execution_count": null,
   "id": "9b758c7e-730e-4a4b-a9ac-69256cc93e59",
   "metadata": {},
   "outputs": [],
   "source": [
    "# Logging Debugger-Debug logging is a troubleshooting process that gathers a large\n",
    "#                  amount of information and system logs to help find problems. \n",
    "# Instead of writting print use logging by default\n",
    "\n",
    "print(\"this is my print\")"
   ]
  },
  {
   "cell_type": "code",
   "execution_count": 7,
   "id": "95815fcf-58c1-4789-9779-ccd6e7c23169",
   "metadata": {},
   "outputs": [],
   "source": [
    "import logging\n",
    "\n",
    "logging.basicConfig(filename = \"test.log\" , level = logging.INFO)"
   ]
  },
  {
   "cell_type": "code",
   "execution_count": null,
   "id": "1f30d241-eff5-44b9-8cd7-dab38fbc41ba",
   "metadata": {},
   "outputs": [],
   "source": [
    "# Level Defined under Logging\n",
    "1. NOTSET\n",
    "2. DEBUG\n",
    "3. INFO\n",
    "4. WARNING\n",
    "5. ERROR\n",
    "6. CRITICAL"
   ]
  },
  {
   "cell_type": "code",
   "execution_count": 16,
   "id": "bd676933-665b-45fb-b171-3ae0f183d239",
   "metadata": {},
   "outputs": [],
   "source": [
    "logging.info(\"log this line of executation\")"
   ]
  },
  {
   "cell_type": "code",
   "execution_count": 17,
   "id": "45672057-8857-468d-8273-f59cc1ebba9c",
   "metadata": {},
   "outputs": [],
   "source": [
    "logging.info(\"this is my print\")"
   ]
  },
  {
   "cell_type": "code",
   "execution_count": 18,
   "id": "d51deacb-a59f-414c-9120-ce541c2d8bc7",
   "metadata": {},
   "outputs": [],
   "source": [
    "logging.debug(\"this is my msg\")"
   ]
  },
  {
   "cell_type": "code",
   "execution_count": 19,
   "id": "2eb036a8-6162-42ee-bbf0-2160e7d40b3b",
   "metadata": {},
   "outputs": [],
   "source": [
    "logging.warning(\"this is  my warning msg\")"
   ]
  },
  {
   "cell_type": "code",
   "execution_count": 20,
   "id": "d9337f6c-7b1c-4f00-9e12-6b95f4b6eeee",
   "metadata": {},
   "outputs": [],
   "source": [
    "logging.error(\"this is a error msg\")"
   ]
  },
  {
   "cell_type": "code",
   "execution_count": 34,
   "id": "ccf8cd1e-3e30-4901-a5ce-08d7eeffe9b8",
   "metadata": {},
   "outputs": [],
   "source": [
    "logging.critical(\"this ia a critical condition\")"
   ]
  },
  {
   "cell_type": "code",
   "execution_count": 35,
   "id": "62951947-7a9d-4578-8000-a8fd73132bdb",
   "metadata": {},
   "outputs": [],
   "source": [
    "logging.shutdown()"
   ]
  },
  {
   "cell_type": "code",
   "execution_count": 1,
   "id": "f2bab425-0715-4ce2-b32a-89e9bd82a73f",
   "metadata": {},
   "outputs": [],
   "source": [
    "# Create another file\n",
    "import logging \n",
    "\n",
    "logging.basicConfig(filename = \"test1.log\", level = logging.DEBUG , format =\" %(asctime)s %(message)s\")"
   ]
  },
  {
   "cell_type": "code",
   "execution_count": 10,
   "id": "4fa09921-fdb5-4f95-84df-f24a3288a90f",
   "metadata": {},
   "outputs": [],
   "source": [
    "logging.info(\"this is my info logging\")\n",
    "logging.error(\"this is eero syntax\")\n",
    "logging.critical(\"this is critical\")\n",
    "logging.shutdown()"
   ]
  },
  {
   "cell_type": "code",
   "execution_count": null,
   "id": "54801b96-7730-40af-98b3-7193fad6647e",
   "metadata": {},
   "outputs": [],
   "source": [
    "logging.basicConfig(filename =\"test2.log\", level = logging.DEBUG , format = \"%(asctime)s %(levelname)s %(message)s\")"
   ]
  },
  {
   "cell_type": "code",
   "execution_count": null,
   "id": "ca984be0-f8a5-44f9-bf22-be082ac70d37",
   "metadata": {},
   "outputs": [],
   "source": [
    "logging.info(\"this is my info logging\")\n",
    "logging.error(\"this is eero syntax\")\n",
    "logging.critical(\"this is critical\")\n",
    "logging.shutdown()\n"
   ]
  },
  {
   "cell_type": "code",
   "execution_count": 12,
   "id": "53580c6c-fe85-43fb-a9e2-539ca897c375",
   "metadata": {},
   "outputs": [],
   "source": [
    "l = [1,2,3,4,[4,5,6],\"Subh\", \"Ram\"]"
   ]
  },
  {
   "cell_type": "code",
   "execution_count": 14,
   "id": "7021123b-e30c-4533-86f2-7a7b651fb290",
   "metadata": {},
   "outputs": [],
   "source": [
    "l1_int = []\n",
    "l2_str = []\n",
    "for i in l :\n",
    "    logging.info(\"we are iterating through our list and our local var is i\")\n",
    "    if type(i) == list :\n",
    "        logging.info(\"i am inside if statement and i am trying to check list type\")\n",
    "        for j in i :\n",
    "            logging.info(\"i am in anotherfor loop for list inside list element\")\n",
    "            if type (j) == int :\n",
    "                logging.info(\"i am inside the statement\")\n",
    "                l1_int.append(j)\n",
    "                \n",
    "    elif type(i) == int :    \n",
    "        l1_int.append(i)\n",
    "    else:\n",
    "        if type(i) == str :\n",
    "            l2_str.append(i)"
   ]
  },
  {
   "cell_type": "code",
   "execution_count": null,
   "id": "8353977a-974a-47c5-abf4-15e53300c103",
   "metadata": {},
   "outputs": [],
   "source": [
    "l1_int = []\n",
    "l2_str = []\n",
    "for i in l :\n",
    "    logging.info(\"we are iterating through our list and our local var is i\" + str(2))            # convert list to string\n",
    "    if type(i) == list :\n",
    "        logging.info(\"i am inside if statement and i am trying to check list type\" + str(i))\n",
    "        for j in i :\n",
    "            logging.info(\"i am in anotherfor loop for list inside list element\" + str(j))\n",
    "            if type (j) == int :\n",
    "                logging.info(\"i am inside the statement\")\n",
    "                l1_int.append(j)\n",
    "                \n",
    "    elif type(i) == int :    \n",
    "        l1_int.append(i)\n",
    "    else:\n",
    "        if type(i) == str :\n",
    "            l2_str.append(i)"
   ]
  },
  {
   "cell_type": "code",
   "execution_count": null,
   "id": "d3bd6c1f-57c0-48da-9567-36fd4e537cff",
   "metadata": {},
   "outputs": [],
   "source": [
    "# Defind placeholder\n",
    "\n",
    "l1_int = []\n",
    "l2_str = []\n",
    "for i in l :\n",
    "    logging.info(\"we are iterating through our list and our local var is  {}\".format(1) )\n",
    "    if type(i) == list :\n",
    "        logging.info(\"i am inside if statement and i am trying to check list type\" + str(i))\n",
    "        for j in i :\n",
    "            logging.info(\"i am in anotherfor loop for list inside list element\" + str(j))\n",
    "            if type (j) == int :\n",
    "                logging.info(\"i am inside the statement\")\n",
    "                l1_int.append(j)\n",
    "                \n",
    "    elif type(i) == int :    \n",
    "        l1_int.append(i)\n",
    "    else:\n",
    "        if type(i) == str :\n",
    "            l2_str.append(i)\n",
    "            \n",
    "logging.info(\"my final result for int is {l1}and str is {l2}\".format(l1 = l1_int, l2 = l2_str ))\n"
   ]
  }
 ],
 "metadata": {
  "kernelspec": {
   "display_name": "Python 3 (ipykernel)",
   "language": "python",
   "name": "python3"
  },
  "language_info": {
   "codemirror_mode": {
    "name": "ipython",
    "version": 3
   },
   "file_extension": ".py",
   "mimetype": "text/x-python",
   "name": "python",
   "nbconvert_exporter": "python",
   "pygments_lexer": "ipython3",
   "version": "3.10.8"
  }
 },
 "nbformat": 4,
 "nbformat_minor": 5
}
